{
 "cells": [
  {
   "cell_type": "markdown",
   "source": [
    "The data scientist expects to be able to later use models."
   ],
   "metadata": {
    "collapsed": false,
    "pycharm": {
     "name": "#%% md\n"
    }
   }
  },
  {
   "cell_type": "code",
   "execution_count": 1,
   "metadata": {
    "collapsed": true
   },
   "outputs": [],
   "source": [
    "# import packages we are going to use\n",
    "from typing import Iterable\n",
    "import pandas as pd\n",
    "import pickle\n",
    "import sklearn.pipeline\n"
   ]
  },
  {
   "cell_type": "code",
   "execution_count": 2,
   "outputs": [
    {
     "data": {
      "text/plain": "{'fit_intercept': True,\n 'normalize': False,\n 'copy_X': True,\n 'n_jobs': None,\n 'positive': False,\n 'n_features_in_': 1,\n 'coef_': array([0.63835181]),\n '_residues': 3543.1755700525364,\n 'rank_': 1,\n 'singular_': array([48.75686489]),\n 'intercept_': 24.526949000046912}"
     },
     "execution_count": 2,
     "metadata": {},
     "output_type": "execute_result"
    }
   ],
   "source": [
    "# load model\n",
    "with open('model.pkl', 'rb') as of:\n",
    "    model = pickle.load(\n",
    "        file=of\n",
    "    )\n",
    "\n",
    "vars(model)"
   ],
   "metadata": {
    "collapsed": false,
    "pycharm": {
     "name": "#%%\n"
    }
   }
  },
  {
   "cell_type": "code",
   "execution_count": 3,
   "outputs": [
    {
     "data": {
      "text/plain": "   Midparent\n0         60\n1         70\n2         65",
      "text/html": "<div>\n<style scoped>\n    .dataframe tbody tr th:only-of-type {\n        vertical-align: middle;\n    }\n\n    .dataframe tbody tr th {\n        vertical-align: top;\n    }\n\n    .dataframe thead th {\n        text-align: right;\n    }\n</style>\n<table border=\"1\" class=\"dataframe\">\n  <thead>\n    <tr style=\"text-align: right;\">\n      <th></th>\n      <th>Midparent</th>\n    </tr>\n  </thead>\n  <tbody>\n    <tr>\n      <th>0</th>\n      <td>60</td>\n    </tr>\n    <tr>\n      <th>1</th>\n      <td>70</td>\n    </tr>\n    <tr>\n      <th>2</th>\n      <td>65</td>\n    </tr>\n  </tbody>\n</table>\n</div>"
     },
     "execution_count": 3,
     "metadata": {},
     "output_type": "execute_result"
    }
   ],
   "source": [
    "# example application data\n",
    "d_app = pd.DataFrame({\n",
    "    'Midparent': [60, 70, 65]\n",
    "})\n",
    "\n",
    "d_app"
   ],
   "metadata": {
    "collapsed": false,
    "pycharm": {
     "name": "#%%\n"
    }
   }
  },
  {
   "cell_type": "code",
   "execution_count": 4,
   "outputs": [
    {
     "data": {
      "text/plain": "array([62.82805735, 69.21157541, 66.01981638])"
     },
     "execution_count": 4,
     "metadata": {},
     "output_type": "execute_result"
    }
   ],
   "source": [
    "model.predict(d_app)\n"
   ],
   "metadata": {
    "collapsed": false,
    "pycharm": {
     "name": "#%%\n"
    }
   }
  },
  {
   "cell_type": "markdown",
   "source": [
    "sklearn doesn't use currently use column names, but may be looking towards this. Most systems (SQL, Spark, Excel, R) *have* column names, so most data scientists expect them to be supported."
   ],
   "metadata": {
    "collapsed": false,
    "pycharm": {
     "name": "#%% md\n"
    }
   }
  },
  {
   "cell_type": "code",
   "execution_count": 5,
   "outputs": [
    {
     "data": {
      "text/plain": "   MidparenzZZ\n0           60\n1           70\n2           65",
      "text/html": "<div>\n<style scoped>\n    .dataframe tbody tr th:only-of-type {\n        vertical-align: middle;\n    }\n\n    .dataframe tbody tr th {\n        vertical-align: top;\n    }\n\n    .dataframe thead th {\n        text-align: right;\n    }\n</style>\n<table border=\"1\" class=\"dataframe\">\n  <thead>\n    <tr style=\"text-align: right;\">\n      <th></th>\n      <th>MidparenzZZ</th>\n    </tr>\n  </thead>\n  <tbody>\n    <tr>\n      <th>0</th>\n      <td>60</td>\n    </tr>\n    <tr>\n      <th>1</th>\n      <td>70</td>\n    </tr>\n    <tr>\n      <th>2</th>\n      <td>65</td>\n    </tr>\n  </tbody>\n</table>\n</div>"
     },
     "execution_count": 5,
     "metadata": {},
     "output_type": "execute_result"
    }
   ],
   "source": [
    "# example of FutureWarning that double-checked column names\n",
    "\n",
    "d_wrong = pd.DataFrame({\n",
    "    'MidparenzZZ': [60, 70, 65]\n",
    "})\n",
    "\n",
    "d_wrong"
   ],
   "metadata": {
    "collapsed": false,
    "pycharm": {
     "name": "#%%\n"
    }
   }
  },
  {
   "cell_type": "code",
   "execution_count": 6,
   "outputs": [
    {
     "data": {
      "text/plain": "array([62.82805735, 69.21157541, 66.01981638])"
     },
     "execution_count": 6,
     "metadata": {},
     "output_type": "execute_result"
    }
   ],
   "source": [
    "model.predict(d_wrong)"
   ],
   "metadata": {
    "collapsed": false,
    "pycharm": {
     "name": "#%%\n"
    }
   }
  },
  {
   "cell_type": "code",
   "execution_count": 7,
   "outputs": [
    {
     "data": {
      "text/plain": "   Midparent  extra_column\n0         60             1\n1         70             2\n2         65             3",
      "text/html": "<div>\n<style scoped>\n    .dataframe tbody tr th:only-of-type {\n        vertical-align: middle;\n    }\n\n    .dataframe tbody tr th {\n        vertical-align: top;\n    }\n\n    .dataframe thead th {\n        text-align: right;\n    }\n</style>\n<table border=\"1\" class=\"dataframe\">\n  <thead>\n    <tr style=\"text-align: right;\">\n      <th></th>\n      <th>Midparent</th>\n      <th>extra_column</th>\n    </tr>\n  </thead>\n  <tbody>\n    <tr>\n      <th>0</th>\n      <td>60</td>\n      <td>1</td>\n    </tr>\n    <tr>\n      <th>1</th>\n      <td>70</td>\n      <td>2</td>\n    </tr>\n    <tr>\n      <th>2</th>\n      <td>65</td>\n      <td>3</td>\n    </tr>\n  </tbody>\n</table>\n</div>"
     },
     "execution_count": 7,
     "metadata": {},
     "output_type": "execute_result"
    }
   ],
   "source": [
    "# example of brittleness of model to column structure\n",
    "\n",
    "d_very_wrong = pd.DataFrame({\n",
    "    'Midparent': [60, 70, 65],\n",
    "    'extra_column': [1, 2, 3]\n",
    "})\n",
    "\n",
    "d_very_wrong"
   ],
   "metadata": {
    "collapsed": false,
    "pycharm": {
     "name": "#%%\n"
    }
   }
  },
  {
   "cell_type": "code",
   "execution_count": 8,
   "outputs": [
    {
     "name": "stdout",
     "output_type": "stream",
     "text": [
      "caught matmul: Input operand 1 has a mismatch in its core dimension 0, with gufunc signature (n?,k),(k,m?)->(n?,m?) (size 1 is different from 2)\n"
     ]
    }
   ],
   "source": [
    "\n",
    "try:\n",
    "    model.predict(d_very_wrong)\n",
    "except Exception as ex:\n",
    "    print(f'caught {ex}')"
   ],
   "metadata": {
    "collapsed": false,
    "pycharm": {
     "name": "#%%\n"
    }
   }
  },
  {
   "cell_type": "markdown",
   "source": [
    "Because of operational brittleness- it can make sense to wrap some smarts into a model."
   ],
   "metadata": {
    "collapsed": false,
    "pycharm": {
     "name": "#%% md\n"
    }
   }
  },
  {
   "cell_type": "code",
   "execution_count": 9,
   "outputs": [],
   "source": [
    "class ColumnSelect:\n",
    "    # https://scikit-learn.org/stable/modules/generated/sklearn.pipeline.Pipeline.html\n",
    "    def __init__(self, *, cols: Iterable[str]):\n",
    "        assert not isinstance(cols, str)  # common error\n",
    "        self.cols = list(cols)  # clean copy\n",
    "\n",
    "    def fit(self, X, y=None):\n",
    "        return self\n",
    "\n",
    "    def transform(self, X):\n",
    "        assert isinstance(X, pd.DataFrame)\n",
    "        return X.loc[:, self.cols]\n",
    "\n",
    "model_2 = sklearn.pipeline.Pipeline([\n",
    "    ('restrict_columns', ColumnSelect(cols = ['Midparent'])),\n",
    "    ('underlying_model', model),\n",
    "    ])"
   ],
   "metadata": {
    "collapsed": false,
    "pycharm": {
     "name": "#%%\n"
    }
   }
  },
  {
   "cell_type": "code",
   "execution_count": 10,
   "outputs": [
    {
     "data": {
      "text/plain": "array([62.82805735, 69.21157541, 66.01981638])"
     },
     "execution_count": 10,
     "metadata": {},
     "output_type": "execute_result"
    }
   ],
   "source": [
    "# fixes warning\n",
    "model_2.predict(d_very_wrong)"
   ],
   "metadata": {
    "collapsed": false,
    "pycharm": {
     "name": "#%%\n"
    }
   }
  },
  {
   "cell_type": "markdown",
   "source": [
    "Many data sklearn data scientists expect to use some form of pipelining. They may want to wrap the column names into the model interface at the training step."
   ],
   "metadata": {
    "collapsed": false,
    "pycharm": {
     "name": "#%% md\n"
    }
   }
  }
 ],
 "metadata": {
  "kernelspec": {
   "name": "pycharm-f89b903",
   "language": "python",
   "display_name": "PyCharm (Fountain)"
  },
  "language_info": {
   "codemirror_mode": {
    "name": "ipython",
    "version": 2
   },
   "file_extension": ".py",
   "mimetype": "text/x-python",
   "name": "python",
   "nbconvert_exporter": "python",
   "pygments_lexer": "ipython2",
   "version": "2.7.6"
  }
 },
 "nbformat": 4,
 "nbformat_minor": 0
}