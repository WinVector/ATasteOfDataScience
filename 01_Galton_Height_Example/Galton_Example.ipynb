{
 "cells": [
  {
   "cell_type": "markdown",
   "id": "937f9bed-781a-4adb-a787-528674390013",
   "metadata": {},
   "source": [
    "## How a data scientist works \n",
    "\n",
    "Data scientists tend to be in the following situation.\n",
    "\n",
    "They tend to have a business task, and they work to satisfy the implied ask.\n",
    "\n",
    "Let's take as our example task predicting the future height of make adult children from an average of the parent's heights called the mid-height.\n"
   ]
  },
  {
   "cell_type": "markdown",
   "id": "17ed5bba-12cb-42ce-8980-580f8defc0e8",
   "metadata": {},
   "source": [
    "To work, we import packages from our chosen environment. We will work in Python. Python data science environments tend to be fairly fragile with respect to version. And there may be requirements to use packages that are sufficiently up to date."
   ]
  },
  {
   "cell_type": "code",
   "execution_count": 1,
   "id": "82cad9ac-6740-4456-829d-d76cb9ec1fec",
   "metadata": {},
   "outputs": [],
   "source": [
    "# import packages we are going to use\n",
    "import pandas as pd\n",
    "import numpy as np\n",
    "from sklearn.linear_model import LinearRegression\n",
    "from scipy.stats import pearsonr\n",
    "import seaborn as sns\n",
    "import matplotlib.pyplot as plt\n",
    "import pickle"
   ]
  },
  {
   "cell_type": "markdown",
   "id": "633fc3f2-c766-4c0f-969d-4ee350e16b2b",
   "metadata": {},
   "source": [
    "Now we load the data. Many data scientists are accustomed to being able to load all of their data into memory and train models as they wish. More commonly data is in a relational database or large data store such as Spark/Hadoop. We will just use data stored in a file as an example."
   ]
  },
  {
   "cell_type": "code",
   "execution_count": 2,
   "id": "ec449021-b303-432e-8ea2-67e9b35dc7ad",
   "metadata": {},
   "outputs": [],
   "source": [
    "# read comma separated data file (csv)\n",
    "d = pd.read_csv(\"../data/Galton_height/Galton.csv\")"
   ]
  },
  {
   "cell_type": "code",
   "execution_count": 3,
   "id": "639d1841-8ed9-4b4e-838c-0bc24c2e7a47",
   "metadata": {},
   "outputs": [
    {
     "data": {
      "text/plain": "     Child  Midparent\n0     61.7       70.5\n1     61.7       68.5\n2     61.7       65.5\n3     61.7       64.5\n4     61.7       64.0\n..     ...        ...\n923   73.7       69.5\n924   73.7       69.5\n925   73.7       69.5\n926   73.7       69.5\n927   73.7       69.5\n\n[928 rows x 2 columns]",
      "text/html": "<div>\n<style scoped>\n    .dataframe tbody tr th:only-of-type {\n        vertical-align: middle;\n    }\n\n    .dataframe tbody tr th {\n        vertical-align: top;\n    }\n\n    .dataframe thead th {\n        text-align: right;\n    }\n</style>\n<table border=\"1\" class=\"dataframe\">\n  <thead>\n    <tr style=\"text-align: right;\">\n      <th></th>\n      <th>Child</th>\n      <th>Midparent</th>\n    </tr>\n  </thead>\n  <tbody>\n    <tr>\n      <th>0</th>\n      <td>61.7</td>\n      <td>70.5</td>\n    </tr>\n    <tr>\n      <th>1</th>\n      <td>61.7</td>\n      <td>68.5</td>\n    </tr>\n    <tr>\n      <th>2</th>\n      <td>61.7</td>\n      <td>65.5</td>\n    </tr>\n    <tr>\n      <th>3</th>\n      <td>61.7</td>\n      <td>64.5</td>\n    </tr>\n    <tr>\n      <th>4</th>\n      <td>61.7</td>\n      <td>64.0</td>\n    </tr>\n    <tr>\n      <th>...</th>\n      <td>...</td>\n      <td>...</td>\n    </tr>\n    <tr>\n      <th>923</th>\n      <td>73.7</td>\n      <td>69.5</td>\n    </tr>\n    <tr>\n      <th>924</th>\n      <td>73.7</td>\n      <td>69.5</td>\n    </tr>\n    <tr>\n      <th>925</th>\n      <td>73.7</td>\n      <td>69.5</td>\n    </tr>\n    <tr>\n      <th>926</th>\n      <td>73.7</td>\n      <td>69.5</td>\n    </tr>\n    <tr>\n      <th>927</th>\n      <td>73.7</td>\n      <td>69.5</td>\n    </tr>\n  </tbody>\n</table>\n<p>928 rows × 2 columns</p>\n</div>"
     },
     "execution_count": 3,
     "metadata": {},
     "output_type": "execute_result"
    }
   ],
   "source": [
    "# print a few rows of the data\n",
    "d"
   ]
  },
  {
   "cell_type": "code",
   "execution_count": 4,
   "id": "814d0486-861c-433b-8d5f-90fefc9ad24a",
   "metadata": {},
   "outputs": [],
   "source": [
    "# step 0 reserve some of the data we *could*\n",
    "# have used for training for testing/evaluaiton\n",
    "np.random.seed(2022)\n",
    "is_train = np.random.uniform(size=d.shape[0]) <= 0.8\n",
    "d_train = d.loc[is_train == True, :].reset_index(\n",
    "    drop=True, inplace=False)\n",
    "d_test = d.loc[is_train == False, :].reset_index(\n",
    "    drop=True, inplace=False)"
   ]
  },
  {
   "cell_type": "code",
   "execution_count": 5,
   "id": "5282da91-e0a0-4859-8fc5-63c48efc5a55",
   "metadata": {},
   "outputs": [
    {
     "data": {
      "text/plain": "(731, 2)"
     },
     "execution_count": 5,
     "metadata": {},
     "output_type": "execute_result"
    }
   ],
   "source": [
    "d_train.shape"
   ]
  },
  {
   "cell_type": "code",
   "execution_count": 6,
   "id": "0795581a-91b8-44ef-80d2-360210b3dbad",
   "metadata": {},
   "outputs": [
    {
     "data": {
      "text/plain": "(197, 2)"
     },
     "execution_count": 6,
     "metadata": {},
     "output_type": "execute_result"
    }
   ],
   "source": [
    "d_test.shape"
   ]
  },
  {
   "cell_type": "markdown",
   "id": "ffbe415d-f81a-432e-a931-a8caa615ca7d",
   "metadata": {},
   "source": [
    "Building a machine learning or statistical model usually follows the following pattern:\n",
    "\n",
    "  * Build a modeling object. This object instantiates choice of modeling technique and selection of hyper-parameters.  Hyper-parameters are just the over-done name for any controls or choices that effect how model fitting is done. They are called \"hyper-parameters\" to stay out of the way of statisticians who use the term \"parameters\" to refer to inferred attributes of the fit model. In statistics \"inference\" is often associated with model fitting, not model application.\n",
    "  * Fitting the model to data. This is where we ask the model to memorize facts about the training data. If what is memorized turns out ot be useful in the future we call this \"learning\", if it is not we call it memorization of \"over fitting.\"\n",
    "  * Apply the model to data and diagnose the quality of the model fit. For modern machine learning models (decision trees, ensembles, and neural nets) the performance of the model on training data is not trusted and we expect to evaluate the model on additional \"test\" or \"held-out\" data."
   ]
  },
  {
   "cell_type": "code",
   "execution_count": 7,
   "id": "fd213fe1-349a-42b1-98a9-154caaecbd19",
   "metadata": {},
   "outputs": [],
   "source": [
    "# step 1/3: instantiate model\n",
    "model = LinearRegression()\n",
    "model_vars = ['Midparent']"
   ]
  },
  {
   "cell_type": "code",
   "execution_count": 8,
   "id": "9d41a556-22e1-474f-9026-670385d4fa78",
   "metadata": {},
   "outputs": [
    {
     "data": {
      "text/plain": "{'fit_intercept': True,\n 'normalize': False,\n 'copy_X': True,\n 'n_jobs': None,\n 'positive': False}"
     },
     "execution_count": 8,
     "metadata": {},
     "output_type": "execute_result"
    }
   ],
   "source": [
    "# at this point the model attributes\n",
    "# are largely configuration\n",
    "vars(model)"
   ]
  },
  {
   "cell_type": "code",
   "execution_count": 9,
   "id": "3986b036-1f2d-4304-aa45-7f3f0ebce434",
   "metadata": {},
   "outputs": [],
   "source": [
    "# step 2/3 fit or train model\n",
    "result = model.fit(\n",
    "    # 2-d array of explanatory variables\n",
    "    # these are the types of measurements we assume \n",
    "    # will be available at model application time\n",
    "    d_train.loc[:, model_vars], \n",
    "    # 1-d vector of dependent values\n",
    "    # these are the quantities we wish to know\n",
    "    d_train['Child']  \n",
    ")\n"
   ]
  },
  {
   "cell_type": "code",
   "execution_count": 10,
   "id": "0459e743-3185-4266-b7fe-315371eb15fc",
   "metadata": {},
   "outputs": [
    {
     "data": {
      "text/plain": "{'fit_intercept': True,\n 'normalize': False,\n 'copy_X': True,\n 'n_jobs': None,\n 'positive': False,\n 'n_features_in_': 1,\n 'coef_': array([0.63835181]),\n '_residues': 3543.1755700525364,\n 'rank_': 1,\n 'singular_': array([48.75686489]),\n 'intercept_': 24.526949000046912}"
     },
     "execution_count": 10,
     "metadata": {},
     "output_type": "execute_result"
    }
   ],
   "source": [
    "# Now the model has many more inferred \n",
    "# attributes.\n",
    "# Inferred in the statistical is the hope\n",
    "# that estimates made on the sample before us\n",
    "# represent the overall population.\n",
    "vars(model)"
   ]
  },
  {
   "cell_type": "markdown",
   "id": "2e5f4c8a-17c4-4981-b1c3-a3dc7f79eff1",
   "metadata": {},
   "source": [
    "For a linear model or for a generalized linear model the only interesting parts of the fit model are the coefficients and intercept"
   ]
  },
  {
   "cell_type": "code",
   "execution_count": 11,
   "id": "327d904b-d3d5-4537-a0fd-9c6225e8471b",
   "metadata": {},
   "outputs": [
    {
     "data": {
      "text/plain": "{'Midparent': 0.6383518059060636}"
     },
     "execution_count": 11,
     "metadata": {},
     "output_type": "execute_result"
    }
   ],
   "source": [
    "{k: v for k, v in zip(model_vars, model.coef_)}"
   ]
  },
  {
   "cell_type": "code",
   "execution_count": 12,
   "id": "2e238279-a0f6-4f80-84b3-ff71608124b0",
   "metadata": {},
   "outputs": [
    {
     "data": {
      "text/plain": "24.526949000046912"
     },
     "execution_count": 12,
     "metadata": {},
     "output_type": "execute_result"
    }
   ],
   "source": [
    "model.intercept_"
   ]
  },
  {
   "cell_type": "code",
   "execution_count": 13,
   "id": "e8ead892-5978-426f-934e-86da285296ed",
   "metadata": {},
   "outputs": [
    {
     "data": {
      "text/plain": "array([67.6156959 , 66.97734409, 66.97734409, 65.70064048, 69.53075132])"
     },
     "execution_count": 13,
     "metadata": {},
     "output_type": "execute_result"
    }
   ],
   "source": [
    "# step 3/3 get the model predictions\n",
    "preds_by_model = model.predict(d_test.loc[:, model_vars])\n",
    "\n",
    "preds_by_model[0:5]"
   ]
  },
  {
   "cell_type": "markdown",
   "id": "abc1aa56-8536-4ef5-80d3-10eba1af3f0c",
   "metadata": {},
   "source": [
    "Aside, what is the liner model actually doing?\n",
    "\n",
    "It is just applying a bonus per column. We can implement prediction by hand as follows."
   ]
  },
  {
   "cell_type": "code",
   "execution_count": 14,
   "id": "f25d0b3b-3cd0-454b-8a50-b2efbe62813d",
   "metadata": {},
   "outputs": [
    {
     "data": {
      "text/plain": "array([67.6156959 , 66.97734409, 66.97734409, 65.70064048, 69.53075132])"
     },
     "execution_count": 14,
     "metadata": {},
     "output_type": "execute_result"
    }
   ],
   "source": [
    "preds_by_hand = (\n",
    "    24.526949000046912 + 0.6383518059060636 * np.array(d_test['Midparent'])\n",
    ")\n",
    "\n",
    "preds_by_hand[0:5]"
   ]
  },
  {
   "cell_type": "code",
   "execution_count": 15,
   "id": "b5fabab0-becb-43f1-83e3-174ef3e87340",
   "metadata": {},
   "outputs": [
    {
     "data": {
      "text/plain": "0.0"
     },
     "execution_count": 15,
     "metadata": {},
     "output_type": "execute_result"
    }
   ],
   "source": [
    "max_diff = np.max(np.abs(preds_by_model - preds_by_hand))\n",
    "assert max_diff < 1e-5\n",
    "\n",
    "max_diff"
   ]
  },
  {
   "cell_type": "markdown",
   "id": "08d921ec-eaf5-4691-a3f7-b5b9145b6042",
   "metadata": {},
   "source": [
    "The data scientist then uses some model evaluation techniques to determine if the model is acceptable or not. Some of these evaluation techniques are quantitative, such as the Pearson-R correlation statistic."
   ]
  },
  {
   "cell_type": "code",
   "execution_count": 16,
   "id": "d4372fc9-6725-40c7-9401-3828f7d8642d",
   "metadata": {},
   "outputs": [
    {
     "data": {
      "text/plain": "(0.4484038896846286, 3.90073460073052e-11)"
     },
     "execution_count": 16,
     "metadata": {},
     "output_type": "execute_result"
    }
   ],
   "source": [
    "correlation = pearsonr(\n",
    "    x=preds_by_model,\n",
    "    y=d_test['Child'])\n",
    "assert correlation[0] > 0.4\n",
    "assert correlation[1] < 0.01\n",
    "\n",
    "correlation"
   ]
  },
  {
   "cell_type": "markdown",
   "id": "f3d92bcd-8e3b-42da-8d42-cf8d8076cc0a",
   "metadata": {},
   "source": [
    "For the Pearson R correlation the first number is a measure of model quality (a value where 1 is perfect, and 0 is useless), and the second entry is a measure of unreliability due to data set size called the significance or p-value (zero being good)."
   ]
  },
  {
   "cell_type": "markdown",
   "id": "a3ecfff8-cc18-4d89-bff8-b0a5ac3630ef",
   "metadata": {},
   "source": [
    "A common qualitative summary is the scatter plot."
   ]
  },
  {
   "cell_type": "code",
   "execution_count": 17,
   "id": "c66fd2f5-f0cc-444e-929c-494e1767a95a",
   "metadata": {},
   "outputs": [
    {
     "data": {
      "text/plain": "<Figure size 432x288 with 1 Axes>",
      "image/png": "[encoded data removed]"
     },
     "metadata": {
      "needs_background": "light"
     },
     "output_type": "display_data"
    }
   ],
   "source": [
    "plot_frame = d_test.loc[:, ['Child']].reset_index(\n",
    "    inplace=False, drop=True)\n",
    "jitter_size = 0.1  # add noise to points for legibility\n",
    "plot_frame['Child'] = (\n",
    "    plot_frame['Child'] \n",
    "    + jitter_size * np.random.normal(size=plot_frame.shape[0]))\n",
    "plot_frame['prediction'] = (\n",
    "    preds_by_model\n",
    "    + jitter_size * np.random.normal(size=plot_frame.shape[0]))\n",
    "\n",
    "sns.scatterplot(data=plot_frame, x='prediction', y='Child')\n",
    "plt.plot(\n",
    "    [np.min(plot_frame['prediction']),\n",
    "     np.max(plot_frame['prediction'])],\n",
    "    [np.min(plot_frame['prediction']),\n",
    "     np.max(plot_frame['prediction'])],\n",
    "    color='darkgrey', \n",
    "    linestyle='dashed')\n",
    "_ = plt.title(\n",
    "\"\"\"Actual child height plotted,\n",
    "as function of predicted child height\"\"\")"
   ]
  },
  {
   "cell_type": "markdown",
   "id": "14bb27d0-49f4-4556-8ab7-1385909327b3",
   "metadata": {},
   "source": [
    "At this point the data scientist *hopes* their job is over and passes the model off to somebody else."
   ]
  },
  {
   "cell_type": "code",
   "execution_count": 18,
   "id": "258ba80c-f4f7-4c64-9f18-c5f44c0ae9a3",
   "metadata": {},
   "outputs": [],
   "source": [
    "# save model\n",
    "with open('model.pkl', 'wb') as of:\n",
    "    pickle.dump(\n",
    "        obj=model,\n",
    "        file=of\n",
    "    )"
   ]
  },
  {
   "cell_type": "markdown",
   "id": "4cfc28bf-46cf-44a8-8ccc-06b397f8477f",
   "metadata": {},
   "source": [
    "### Appendix\n",
    "\n",
    "Exact definition of inference.\n",
    "\n",
    "From *The Cambridge Dictionary of Statistics*, 2nd Edition, B. S. Everitt:\n",
    "\n",
    "> **Inference:** The process of drawing conclusions about a population on the basis of measurements or observations made on asample of individuals from the population.\n",
    "\n",
    "The sense this is used in, this is the hope that fitting the model on the training data nearly finds the model we would have fit on the population the training data was either drawn from or is hoped to represent."
   ]
  },
  {
   "cell_type": "code",
   "execution_count": 18,
   "id": "0bb96501-ff32-4065-b3c0-37bb9e32f9a6",
   "metadata": {},
   "outputs": [],
   "source": []
  }
 ],
 "metadata": {
  "kernelspec": {
   "name": "pycharm-f89b903",
   "language": "python",
   "display_name": "PyCharm (Fountain)"
  },
  "language_info": {
   "codemirror_mode": {
    "name": "ipython",
    "version": 3
   },
   "file_extension": ".py",
   "mimetype": "text/x-python",
   "name": "python",
   "nbconvert_exporter": "python",
   "pygments_lexer": "ipython3",
   "version": "3.9.7"
  }
 },
 "nbformat": 4,
 "nbformat_minor": 5
}