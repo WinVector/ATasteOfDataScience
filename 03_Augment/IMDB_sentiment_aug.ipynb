{
 "cells": [
  {
   "cell_type": "markdown",
   "metadata": {
    "pycharm": {
     "name": "#%% md\n"
    }
   },
   "source": [
    "In this worksheet we will demonstrate learning sentiment extraction from text.\n",
    "\n",
    "The dataset is the IDMB sentiment set where items were annotated by taggers as to if the text appeared to be expressing a positive or negative sentiment. This data set was produced by and used in:\n",
    "\n",
    "> Andrew L. Maas, Raymond E. Daly, Peter T. Pham, Dan Huang, Andrew Y. Ng, and Christopher Potts. (2011). Learning Word Vectors for Sentiment Analysis. The 49th Annual Meeting of the Association for Computational Linguistics (ACL 2011).\n",
    "\n",
    "The data can be found here: [https://ai.stanford.edu/~amaas/data/sentiment/](https://ai.stanford.edu/~amaas/data/sentiment/).\n",
    "\n",
    "In our example we will use the GloVe embedding as our language model and Keras as our neural net software. The neural net architecture we are specifying is essentially a logistic regression over an average meaning of neighboring triplets of words in a document. The idea is: positive sentiment documents are often mostly positive utterances, and negative sentiment documents are often mostly negative utterances. We hope the non-sentiment carrying portions are largely ignored by the model."
   ]
  },
  {
   "cell_type": "code",
   "execution_count": 1,
   "metadata": {},
   "outputs": [],
   "source": [
    "# ensure plots print without needing to call show()\n",
    "%matplotlib inline"
   ]
  },
  {
   "cell_type": "code",
   "execution_count": 2,
   "metadata": {
    "collapsed": false,
    "jupyter": {
     "outputs_hidden": false
    },
    "pycharm": {
     "name": "#%%\n"
    }
   },
   "outputs": [],
   "source": [
    "# import our packages\n",
    "import pandas\n",
    "import numpy\n",
    "import sys\n",
    "\n",
    "import wvpy.util\n",
    "\n",
    "import seaborn as sns\n",
    "import matplotlib.pyplot as plt\n",
    "from sklearn.pipeline import make_pipeline"
   ]
  },
  {
   "cell_type": "code",
   "execution_count": 3,
   "metadata": {},
   "outputs": [],
   "source": [
    "\n",
    "from augmented_model import mk_modeling_fns"
   ]
  },
  {
   "cell_type": "code",
   "execution_count": 4,
   "metadata": {},
   "outputs": [],
   "source": [
    "# training hyper-parameters\n",
    "# often searching, on simulated out of sample data,\n",
    "# for good values of these can impove model quality.\n",
    "epochs = 200\n",
    "batch_size = 512\n",
    "validation_split = 0.2\n",
    "n_hidden_models = 10\n",
    "black_box_model = False\n",
    "simple_model = False"
   ]
  },
  {
   "cell_type": "code",
   "execution_count": 5,
   "metadata": {},
   "outputs": [],
   "source": [
    "# get our data and language model through data adaptors\n",
    "sys.path.append('.')\n",
    "# put data load on our path\n",
    "sys.path.append('../data/IMDB')\n",
    "from load_IMDB import load_IMDB\n",
    "sys.path.append('../data/GloVe')\n",
    "from document_encoder import GloveEncoder"
   ]
  },
  {
   "cell_type": "code",
   "execution_count": 6,
   "metadata": {
    "collapsed": false,
    "jupyter": {
     "outputs_hidden": false
    },
    "pycharm": {
     "name": "#%%\n"
    }
   },
   "outputs": [],
   "source": [
    "# load the IMDB data\n",
    "train_data, test_data = load_IMDB()"
   ]
  },
  {
   "cell_type": "code",
   "execution_count": 7,
   "metadata": {
    "collapsed": false,
    "jupyter": {
     "outputs_hidden": false
    },
    "pycharm": {
     "name": "#%%\n"
    }
   },
   "outputs": [
    {
     "data": {
      "text/plain": [
       "25000"
      ]
     },
     "execution_count": 7,
     "metadata": {},
     "output_type": "execute_result"
    }
   ],
   "source": [
    "# show how many training examples\n",
    "len(train_data.data)"
   ]
  },
  {
   "cell_type": "code",
   "execution_count": 8,
   "metadata": {
    "collapsed": false,
    "jupyter": {
     "outputs_hidden": false
    },
    "pycharm": {
     "name": "#%%\n"
    }
   },
   "outputs": [
    {
     "data": {
      "text/plain": [
       "25000"
      ]
     },
     "execution_count": 8,
     "metadata": {},
     "output_type": "execute_result"
    }
   ],
   "source": [
    "# show how many test examples\n",
    "len(test_data.data)\n"
   ]
  },
  {
   "cell_type": "code",
   "execution_count": 9,
   "metadata": {
    "collapsed": false,
    "jupyter": {
     "outputs_hidden": false
    },
    "pycharm": {
     "name": "#%%\n"
    }
   },
   "outputs": [],
   "source": [
    "# load the glove vectors we need, uses about 4GB of memory\n",
    "glove_path = '../data/GloVe/glove.840B.300d.zip'\n",
    "k = 3  # how many neighboring words to model\n",
    "encoder = GloveEncoder(\n",
    "    glove_path=glove_path,\n",
    "    k=k,\n",
    ")"
   ]
  },
  {
   "cell_type": "code",
   "execution_count": 10,
   "metadata": {
    "collapsed": false,
    "jupyter": {
     "outputs_hidden": false
    },
    "pycharm": {
     "name": "#%%\n"
    }
   },
   "outputs": [
    {
     "data": {
      "text/plain": [
       "<document_encoder.GloveEncoder at 0x7f9469ac79d0>"
      ]
     },
     "execution_count": 10,
     "metadata": {},
     "output_type": "execute_result"
    }
   ],
   "source": [
    "# train the encoder on what words it is to recognize\n",
    "encoder.fit(X=train_data.data)"
   ]
  },
  {
   "cell_type": "code",
   "execution_count": 11,
   "metadata": {},
   "outputs": [],
   "source": [
    "mk_model, augment_training_output, unwrap_predictions = mk_modeling_fns(\n",
    "    simple_model=simple_model,\n",
    "    black_box_model=black_box_model,\n",
    "    n_hidden_models=n_hidden_models)"
   ]
  },
  {
   "cell_type": "code",
   "execution_count": 12,
   "metadata": {},
   "outputs": [],
   "source": [
    "# get our data shape from using the encoder\n",
    "# so we don't have the brittleness of hard-coding.\n",
    "encode_dim = encoder.encode_text(\"this is an example text\", k=k).shape[0]\n"
   ]
  },
  {
   "cell_type": "code",
   "execution_count": 13,
   "metadata": {},
   "outputs": [
    {
     "name": "stdout",
     "output_type": "stream",
     "text": [
      "Model: \"model\"\n",
      "__________________________________________________________________________________________________\n",
      " Layer (type)                   Output Shape         Param #     Connected to                     \n",
      "==================================================================================================\n",
      " inputs (InputLayer)            [(None, 900)]        0           []                               \n",
      "                                                                                                  \n",
      " logistic_model0 (Dense)        (None, 1)            901         ['inputs[0][0]']                 \n",
      "                                                                                                  \n",
      " half_value (Dense)             (None, 1)            2           ['logistic_model0[0][0]']        \n",
      "                                                                                                  \n",
      " hidden_logistic_model_0 (Dense  (None, 1)           901         ['inputs[0][0]']                 \n",
      " )                                                                                                \n",
      "                                                                                                  \n",
      " hidden_logistic_model_1 (Dense  (None, 1)           901         ['inputs[0][0]']                 \n",
      " )                                                                                                \n",
      "                                                                                                  \n",
      " hidden_logistic_model_2 (Dense  (None, 1)           901         ['inputs[0][0]']                 \n",
      " )                                                                                                \n",
      "                                                                                                  \n",
      " hidden_logistic_model_3 (Dense  (None, 1)           901         ['inputs[0][0]']                 \n",
      " )                                                                                                \n",
      "                                                                                                  \n",
      " hidden_logistic_model_4 (Dense  (None, 1)           901         ['inputs[0][0]']                 \n",
      " )                                                                                                \n",
      "                                                                                                  \n",
      " hidden_logistic_model_5 (Dense  (None, 1)           901         ['inputs[0][0]']                 \n",
      " )                                                                                                \n",
      "                                                                                                  \n",
      " hidden_logistic_model_6 (Dense  (None, 1)           901         ['inputs[0][0]']                 \n",
      " )                                                                                                \n",
      "                                                                                                  \n",
      " hidden_logistic_model_7 (Dense  (None, 1)           901         ['inputs[0][0]']                 \n",
      " )                                                                                                \n",
      "                                                                                                  \n",
      " hidden_logistic_model_8 (Dense  (None, 1)           901         ['inputs[0][0]']                 \n",
      " )                                                                                                \n",
      "                                                                                                  \n",
      " hidden_logistic_model_9 (Dense  (None, 1)           901         ['inputs[0][0]']                 \n",
      " )                                                                                                \n",
      "                                                                                                  \n",
      " fuse_link (Dense)              (None, 12)           10812       ['inputs[0][0]']                 \n",
      "                                                                                                  \n",
      " models_layer (Concatenate)     (None, 12)           0           ['logistic_model0[0][0]',        \n",
      "                                                                  'half_value[0][0]',             \n",
      "                                                                  'hidden_logistic_model_0[0][0]',\n",
      "                                                                  'hidden_logistic_model_1[0][0]',\n",
      "                                                                  'hidden_logistic_model_2[0][0]',\n",
      "                                                                  'hidden_logistic_model_3[0][0]',\n",
      "                                                                  'hidden_logistic_model_4[0][0]',\n",
      "                                                                  'hidden_logistic_model_5[0][0]',\n",
      "                                                                  'hidden_logistic_model_6[0][0]',\n",
      "                                                                  'hidden_logistic_model_7[0][0]',\n",
      "                                                                  'hidden_logistic_model_8[0][0]',\n",
      "                                                                  'hidden_logistic_model_9[0][0]']\n",
      "                                                                                                  \n",
      " fuse_weights (Softmax)         (None, 12)           0           ['fuse_link[0][0]']              \n",
      "                                                                                                  \n",
      " fused_prediction (Multiply)    (None, 12)           0           ['models_layer[0][0]',           \n",
      "                                                                  'fuse_weights[0][0]']           \n",
      "                                                                                                  \n",
      " fused_model (Dense)            (None, 1)            13          ['fused_prediction[0][0]']       \n",
      "                                                                                                  \n",
      " results (Concatenate)          (None, 2)            0           ['fused_model[0][0]',            \n",
      "                                                                  'logistic_model0[0][0]']        \n",
      "                                                                                                  \n",
      "==================================================================================================\n",
      "Total params: 20,738\n",
      "Trainable params: 20,723\n",
      "Non-trainable params: 15\n",
      "__________________________________________________________________________________________________\n"
     ]
    },
    {
     "name": "stderr",
     "output_type": "stream",
     "text": [
      "2022-03-15 09:42:14.104442: I tensorflow/core/platform/cpu_feature_guard.cc:151] This TensorFlow binary is optimized with oneAPI Deep Neural Network Library (oneDNN) to use the following CPU instructions in performance-critical operations:  AVX2 FMA\n",
      "To enable them in other operations, rebuild TensorFlow with the appropriate compiler flags.\n"
     ]
    }
   ],
   "source": [
    "augmented_model = mk_model(encode_dim=encode_dim)\n",
    "augmented_model.summary()"
   ]
  },
  {
   "cell_type": "code",
   "execution_count": 14,
   "metadata": {
    "collapsed": false,
    "pycharm": {
     "name": "#%%\n"
    }
   },
   "outputs": [],
   "source": [
    "# shuffle rows of training data in case neural net batching takes in ordered chunks\n",
    "permutation = numpy.random.choice(len(train_data.data), size=len(train_data.data), replace=False)\n",
    "train_data_shuffled = [train_data.data[i] for i in permutation]\n",
    "train_target_shuffled = [train_data.target[i] for i in permutation]\n"
   ]
  },
  {
   "cell_type": "code",
   "execution_count": 15,
   "metadata": {
    "collapsed": false,
    "jupyter": {
     "outputs_hidden": false
    },
    "pycharm": {
     "name": "#%%\n"
    }
   },
   "outputs": [],
   "source": [
    "%%capture\n",
    "# do the training on our first model, only training data\n",
    "history_big = augmented_model.fit(\n",
    "    encoder.transform(train_data_shuffled),\n",
    "    numpy.asarray([augment_training_output(v) for v in train_target_shuffled]),\n",
    "    epochs=epochs,\n",
    "    batch_size=batch_size,\n",
    "    validation_split=validation_split)"
   ]
  },
  {
   "cell_type": "code",
   "execution_count": 16,
   "metadata": {},
   "outputs": [],
   "source": [
    "trajectory = pandas.DataFrame(history_big.history)\n",
    "trajectory['epoch'] = range(trajectory.shape[0])\n",
    "\n",
    "trajectory_plot = trajectory.melt(\n",
    "    id_vars=['epoch'],\n",
    "    value_vars=['loss', 'val_loss'],\n",
    "    var_name='data set',\n",
    "    value_name='estimated loss',\n",
    ")"
   ]
  },
  {
   "cell_type": "code",
   "execution_count": 17,
   "metadata": {},
   "outputs": [
    {
     "data": {
      "text/plain": [
       "Text(0.5, 1.0, 'model loss as a function of epoch\\n(smaller better)')"
      ]
     },
     "execution_count": 17,
     "metadata": {},
     "output_type": "execute_result"
    },
    {
     "data": {
      "image/png": "[encoded data removed]",
      "text/plain": [
       "<Figure size 432x288 with 1 Axes>"
      ]
     },
     "metadata": {
      "needs_background": "light"
     },
     "output_type": "display_data"
    }
   ],
   "source": [
    "sns.lineplot(\n",
    "    data=trajectory_plot,\n",
    "    x='epoch',\n",
    "    y='estimated loss',\n",
    "    hue = 'data set',\n",
    ")\n",
    "plt.title(\"model loss as a function of epoch\\n(smaller better)\")"
   ]
  },
  {
   "cell_type": "code",
   "execution_count": 18,
   "metadata": {
    "collapsed": false,
    "jupyter": {
     "outputs_hidden": false
    },
    "pycharm": {
     "name": "#%%\n"
    }
   },
   "outputs": [],
   "source": [
    "# wrap the text processing plus model\n",
    "# as a single object implementing the model API\n",
    "model = make_pipeline(encoder, augmented_model)"
   ]
  },
  {
   "cell_type": "code",
   "execution_count": 19,
   "metadata": {},
   "outputs": [],
   "source": [
    "# get predictions on data not seen during training!\n",
    "pred_test = model.predict(test_data.data)"
   ]
  },
  {
   "cell_type": "code",
   "execution_count": 20,
   "metadata": {},
   "outputs": [
    {
     "data": {
      "text/plain": [
       "array([[0.00916777, 0.01293552],\n",
       "       [0.14282417, 0.13288492],\n",
       "       [0.04500907, 0.04659072],\n",
       "       ...,\n",
       "       [0.5660062 , 0.60070413],\n",
       "       [0.33006394, 0.41690177],\n",
       "       [0.7126614 , 0.57054824]], dtype=float32)"
      ]
     },
     "execution_count": 20,
     "metadata": {},
     "output_type": "execute_result"
    }
   ],
   "source": [
    "pred_test\n"
   ]
  },
  {
   "cell_type": "code",
   "execution_count": 21,
   "metadata": {},
   "outputs": [],
   "source": [
    "pred_test_frame = unwrap_predictions(pred_test)\n",
    "\n",
    "pred_test_frame['truth'] = numpy.array(test_data.target, dtype=float)"
   ]
  },
  {
   "cell_type": "code",
   "execution_count": 22,
   "metadata": {},
   "outputs": [
    {
     "data": {
      "text/html": [
       "<div>\n",
       "<style scoped>\n",
       "    .dataframe tbody tr th:only-of-type {\n",
       "        vertical-align: middle;\n",
       "    }\n",
       "\n",
       "    .dataframe tbody tr th {\n",
       "        vertical-align: top;\n",
       "    }\n",
       "\n",
       "    .dataframe thead th {\n",
       "        text-align: right;\n",
       "    }\n",
       "</style>\n",
       "<table border=\"1\" class=\"dataframe\">\n",
       "  <thead>\n",
       "    <tr style=\"text-align: right;\">\n",
       "      <th></th>\n",
       "      <th>prediction_augmented</th>\n",
       "      <th>prediction</th>\n",
       "      <th>truth</th>\n",
       "    </tr>\n",
       "  </thead>\n",
       "  <tbody>\n",
       "    <tr>\n",
       "      <th>0</th>\n",
       "      <td>0.009168</td>\n",
       "      <td>0.012936</td>\n",
       "      <td>0.0</td>\n",
       "    </tr>\n",
       "    <tr>\n",
       "      <th>1</th>\n",
       "      <td>0.142824</td>\n",
       "      <td>0.132885</td>\n",
       "      <td>0.0</td>\n",
       "    </tr>\n",
       "    <tr>\n",
       "      <th>2</th>\n",
       "      <td>0.045009</td>\n",
       "      <td>0.046591</td>\n",
       "      <td>0.0</td>\n",
       "    </tr>\n",
       "    <tr>\n",
       "      <th>3</th>\n",
       "      <td>0.174841</td>\n",
       "      <td>0.230008</td>\n",
       "      <td>0.0</td>\n",
       "    </tr>\n",
       "    <tr>\n",
       "      <th>4</th>\n",
       "      <td>0.754479</td>\n",
       "      <td>0.797525</td>\n",
       "      <td>0.0</td>\n",
       "    </tr>\n",
       "    <tr>\n",
       "      <th>...</th>\n",
       "      <td>...</td>\n",
       "      <td>...</td>\n",
       "      <td>...</td>\n",
       "    </tr>\n",
       "    <tr>\n",
       "      <th>24995</th>\n",
       "      <td>0.467618</td>\n",
       "      <td>0.548339</td>\n",
       "      <td>1.0</td>\n",
       "    </tr>\n",
       "    <tr>\n",
       "      <th>24996</th>\n",
       "      <td>0.172781</td>\n",
       "      <td>0.166948</td>\n",
       "      <td>1.0</td>\n",
       "    </tr>\n",
       "    <tr>\n",
       "      <th>24997</th>\n",
       "      <td>0.566006</td>\n",
       "      <td>0.600704</td>\n",
       "      <td>1.0</td>\n",
       "    </tr>\n",
       "    <tr>\n",
       "      <th>24998</th>\n",
       "      <td>0.330064</td>\n",
       "      <td>0.416902</td>\n",
       "      <td>1.0</td>\n",
       "    </tr>\n",
       "    <tr>\n",
       "      <th>24999</th>\n",
       "      <td>0.712661</td>\n",
       "      <td>0.570548</td>\n",
       "      <td>1.0</td>\n",
       "    </tr>\n",
       "  </tbody>\n",
       "</table>\n",
       "<p>25000 rows × 3 columns</p>\n",
       "</div>"
      ],
      "text/plain": [
       "       prediction_augmented  prediction  truth\n",
       "0                  0.009168    0.012936    0.0\n",
       "1                  0.142824    0.132885    0.0\n",
       "2                  0.045009    0.046591    0.0\n",
       "3                  0.174841    0.230008    0.0\n",
       "4                  0.754479    0.797525    0.0\n",
       "...                     ...         ...    ...\n",
       "24995              0.467618    0.548339    1.0\n",
       "24996              0.172781    0.166948    1.0\n",
       "24997              0.566006    0.600704    1.0\n",
       "24998              0.330064    0.416902    1.0\n",
       "24999              0.712661    0.570548    1.0\n",
       "\n",
       "[25000 rows x 3 columns]"
      ]
     },
     "execution_count": 22,
     "metadata": {},
     "output_type": "execute_result"
    }
   ],
   "source": [
    "pred_test_frame"
   ]
  },
  {
   "cell_type": "code",
   "execution_count": 23,
   "metadata": {},
   "outputs": [
    {
     "data": {
      "text/html": [
       "<div>\n",
       "<style scoped>\n",
       "    .dataframe tbody tr th:only-of-type {\n",
       "        vertical-align: middle;\n",
       "    }\n",
       "\n",
       "    .dataframe tbody tr th {\n",
       "        vertical-align: top;\n",
       "    }\n",
       "\n",
       "    .dataframe thead th {\n",
       "        text-align: right;\n",
       "    }\n",
       "</style>\n",
       "<table border=\"1\" class=\"dataframe\">\n",
       "  <thead>\n",
       "    <tr style=\"text-align: right;\">\n",
       "      <th></th>\n",
       "      <th>prediction_augmented</th>\n",
       "      <th>prediction</th>\n",
       "      <th>truth</th>\n",
       "    </tr>\n",
       "  </thead>\n",
       "  <tbody>\n",
       "    <tr>\n",
       "      <th>count</th>\n",
       "      <td>25000.000000</td>\n",
       "      <td>2.500000e+04</td>\n",
       "      <td>25000.00000</td>\n",
       "    </tr>\n",
       "    <tr>\n",
       "      <th>mean</th>\n",
       "      <td>0.497686</td>\n",
       "      <td>5.086062e-01</td>\n",
       "      <td>0.50000</td>\n",
       "    </tr>\n",
       "    <tr>\n",
       "      <th>std</th>\n",
       "      <td>0.377103</td>\n",
       "      <td>3.665837e-01</td>\n",
       "      <td>0.50001</td>\n",
       "    </tr>\n",
       "    <tr>\n",
       "      <th>min</th>\n",
       "      <td>0.000009</td>\n",
       "      <td>5.148721e-11</td>\n",
       "      <td>0.00000</td>\n",
       "    </tr>\n",
       "    <tr>\n",
       "      <th>25%</th>\n",
       "      <td>0.095471</td>\n",
       "      <td>1.258006e-01</td>\n",
       "      <td>0.00000</td>\n",
       "    </tr>\n",
       "    <tr>\n",
       "      <th>50%</th>\n",
       "      <td>0.494099</td>\n",
       "      <td>5.171975e-01</td>\n",
       "      <td>0.50000</td>\n",
       "    </tr>\n",
       "    <tr>\n",
       "      <th>75%</th>\n",
       "      <td>0.898018</td>\n",
       "      <td>8.890495e-01</td>\n",
       "      <td>1.00000</td>\n",
       "    </tr>\n",
       "    <tr>\n",
       "      <th>max</th>\n",
       "      <td>0.999990</td>\n",
       "      <td>1.000000e+00</td>\n",
       "      <td>1.00000</td>\n",
       "    </tr>\n",
       "  </tbody>\n",
       "</table>\n",
       "</div>"
      ],
      "text/plain": [
       "       prediction_augmented    prediction        truth\n",
       "count          25000.000000  2.500000e+04  25000.00000\n",
       "mean               0.497686  5.086062e-01      0.50000\n",
       "std                0.377103  3.665837e-01      0.50001\n",
       "min                0.000009  5.148721e-11      0.00000\n",
       "25%                0.095471  1.258006e-01      0.00000\n",
       "50%                0.494099  5.171975e-01      0.50000\n",
       "75%                0.898018  8.890495e-01      1.00000\n",
       "max                0.999990  1.000000e+00      1.00000"
      ]
     },
     "execution_count": 23,
     "metadata": {},
     "output_type": "execute_result"
    }
   ],
   "source": [
    "pred_test_frame.describe()"
   ]
  },
  {
   "cell_type": "markdown",
   "metadata": {},
   "source": [
    "Our hope is, that this more complicated model can improve predictions. Note: this is not likely to be very profitable when using the same sort of logistic regression for both the model and the fusion or mixture control. This is becaues of the low utility of residuals in linear models. For purposes of demonstration, we will try the experiment anyway.\n",
    "\n",
    "\n",
    "The observed effect is weak, a basic logistic regression gets a test deviance of 0.712 (lower is better)- and this could probably be acheived by mere regularization. But we do see identification of lower quality predictions and a slight improvement. The next step is data augmentation, where we combine positive and negative examples to build deliberately ambiguous training instances. (Note: ambiguous data augmentation could be tried on the original logistic regression also!) We also have the issue of having slowed down training (so number of epochs may not be comparable) and having introduced new hyperparameters."
   ]
  },
  {
   "cell_type": "markdown",
   "metadata": {
    "pycharm": {
     "name": "#%% md\n"
    }
   },
   "source": [
    "This model moderately out-performs our basic logistic regression example (02_IMDB_sentiment/IMDB_sentiment.ipynb) which has a deviance of 0.712 (lower is better)"
   ]
  },
  {
   "cell_type": "code",
   "execution_count": 24,
   "metadata": {},
   "outputs": [
    {
     "data": {
      "text/plain": [
       "0.7051918340788857"
      ]
     },
     "execution_count": 24,
     "metadata": {},
     "output_type": "execute_result"
    }
   ],
   "source": [
    "wvpy.util.mean_deviance(\n",
    "    predictions=pred_test_frame['prediction'],\n",
    "    istrue=pred_test_frame['truth']\n",
    ")"
   ]
  },
  {
   "cell_type": "code",
   "execution_count": 25,
   "metadata": {},
   "outputs": [
    {
     "data": {
      "text/plain": [
       "0.6849677505521983"
      ]
     },
     "execution_count": 25,
     "metadata": {},
     "output_type": "execute_result"
    }
   ],
   "source": [
    "wvpy.util.mean_deviance(\n",
    "    predictions=pred_test_frame['prediction_augmented'],\n",
    "    istrue=pred_test_frame['truth']\n",
    ")"
   ]
  },
  {
   "cell_type": "code",
   "execution_count": 26,
   "metadata": {},
   "outputs": [
    {
     "data": {
      "text/plain": [
       "<Figure size 432x288 with 0 Axes>"
      ]
     },
     "metadata": {},
     "output_type": "display_data"
    },
    {
     "data": {
      "image/png": "[encoded data removed]",
      "text/plain": [
       "<Figure size 432x288 with 1 Axes>"
      ]
     },
     "metadata": {
      "needs_background": "light"
     },
     "output_type": "display_data"
    },
    {
     "data": {
      "text/plain": [
       "0.9242778143999999"
      ]
     },
     "execution_count": 26,
     "metadata": {},
     "output_type": "execute_result"
    }
   ],
   "source": [
    "# evaluate the results\n",
    "wvpy.util.plot_roc(\n",
    "    pred_test_frame['prediction'],\n",
    "    pred_test_frame['truth'],\n",
    "    title='model on test')\n"
   ]
  },
  {
   "cell_type": "code",
   "execution_count": 27,
   "metadata": {
    "collapsed": false,
    "jupyter": {
     "outputs_hidden": false
    },
    "pycharm": {
     "name": "#%%\n"
    }
   },
   "outputs": [
    {
     "data": {
      "text/plain": [
       "<Figure size 432x288 with 0 Axes>"
      ]
     },
     "metadata": {},
     "output_type": "display_data"
    },
    {
     "data": {
      "image/png": "[encoded data removed]",
      "text/plain": [
       "<Figure size 864x576 with 2 Axes>"
      ]
     },
     "metadata": {
      "needs_background": "light"
     },
     "output_type": "display_data"
    }
   ],
   "source": [
    "# evaluate the results\n",
    "wvpy.util.dual_hist_plot(\n",
    "    pred_test_frame['prediction'],\n",
    "    pred_test_frame['truth'],\n",
    "    truth_target=1,\n",
    "    title='model on test')\n"
   ]
  },
  {
   "cell_type": "code",
   "execution_count": 28,
   "metadata": {
    "collapsed": false,
    "jupyter": {
     "outputs_hidden": false
    },
    "pycharm": {
     "name": "#%%\n"
    }
   },
   "outputs": [
    {
     "data": {
      "text/html": [
       "<div>\n",
       "<style scoped>\n",
       "    .dataframe tbody tr th:only-of-type {\n",
       "        vertical-align: middle;\n",
       "    }\n",
       "\n",
       "    .dataframe tbody tr th {\n",
       "        vertical-align: top;\n",
       "    }\n",
       "\n",
       "    .dataframe thead th {\n",
       "        text-align: right;\n",
       "    }\n",
       "</style>\n",
       "<table border=\"1\" class=\"dataframe\">\n",
       "  <thead>\n",
       "    <tr style=\"text-align: right;\">\n",
       "      <th>prediction</th>\n",
       "      <th>False</th>\n",
       "      <th>True</th>\n",
       "    </tr>\n",
       "    <tr>\n",
       "      <th>truth</th>\n",
       "      <th></th>\n",
       "      <th></th>\n",
       "    </tr>\n",
       "  </thead>\n",
       "  <tbody>\n",
       "    <tr>\n",
       "      <th>False</th>\n",
       "      <td>10500</td>\n",
       "      <td>2000</td>\n",
       "    </tr>\n",
       "    <tr>\n",
       "      <th>True</th>\n",
       "      <td>1768</td>\n",
       "      <td>10732</td>\n",
       "    </tr>\n",
       "  </tbody>\n",
       "</table>\n",
       "</div>"
      ],
      "text/plain": [
       "prediction  False   True\n",
       "truth                   \n",
       "False       10500   2000\n",
       "True         1768  10732"
      ]
     },
     "execution_count": 28,
     "metadata": {},
     "output_type": "execute_result"
    }
   ],
   "source": [
    "pandas.crosstab(\n",
    "    pred_test_frame['truth'] > 0.5,\n",
    "    pred_test_frame['prediction'] > 0.5)\n",
    "\n"
   ]
  },
  {
   "cell_type": "code",
   "execution_count": 29,
   "metadata": {},
   "outputs": [
    {
     "data": {
      "text/plain": [
       "<Figure size 432x288 with 0 Axes>"
      ]
     },
     "metadata": {},
     "output_type": "display_data"
    },
    {
     "data": {
      "image/png": "[encoded data removed]",
      "text/plain": [
       "<Figure size 432x288 with 1 Axes>"
      ]
     },
     "metadata": {
      "needs_background": "light"
     },
     "output_type": "display_data"
    },
    {
     "data": {
      "text/plain": [
       "0.9280634624000001"
      ]
     },
     "execution_count": 29,
     "metadata": {},
     "output_type": "execute_result"
    }
   ],
   "source": [
    "# evaluate the results\n",
    "wvpy.util.plot_roc(\n",
    "    pred_test_frame['prediction_augmented'],\n",
    "    pred_test_frame['truth'],\n",
    "    title='augmented model on test')"
   ]
  },
  {
   "cell_type": "code",
   "execution_count": 30,
   "metadata": {},
   "outputs": [
    {
     "data": {
      "text/plain": [
       "<Figure size 432x288 with 0 Axes>"
      ]
     },
     "metadata": {},
     "output_type": "display_data"
    },
    {
     "data": {
      "image/png": "[encoded data removed]",
      "text/plain": [
       "<Figure size 864x576 with 2 Axes>"
      ]
     },
     "metadata": {
      "needs_background": "light"
     },
     "output_type": "display_data"
    }
   ],
   "source": [
    "# evaluate the results\n",
    "wvpy.util.dual_hist_plot(\n",
    "    pred_test_frame['prediction_augmented'],\n",
    "    pred_test_frame['truth'],\n",
    "    truth_target=1,\n",
    "    title='augmented model on test')"
   ]
  },
  {
   "cell_type": "code",
   "execution_count": 31,
   "metadata": {},
   "outputs": [
    {
     "data": {
      "text/html": [
       "<div>\n",
       "<style scoped>\n",
       "    .dataframe tbody tr th:only-of-type {\n",
       "        vertical-align: middle;\n",
       "    }\n",
       "\n",
       "    .dataframe tbody tr th {\n",
       "        vertical-align: top;\n",
       "    }\n",
       "\n",
       "    .dataframe thead th {\n",
       "        text-align: right;\n",
       "    }\n",
       "</style>\n",
       "<table border=\"1\" class=\"dataframe\">\n",
       "  <thead>\n",
       "    <tr style=\"text-align: right;\">\n",
       "      <th>prediction_augmented</th>\n",
       "      <th>False</th>\n",
       "      <th>True</th>\n",
       "    </tr>\n",
       "    <tr>\n",
       "      <th>truth</th>\n",
       "      <th></th>\n",
       "      <th></th>\n",
       "    </tr>\n",
       "  </thead>\n",
       "  <tbody>\n",
       "    <tr>\n",
       "      <th>False</th>\n",
       "      <td>10686</td>\n",
       "      <td>1814</td>\n",
       "    </tr>\n",
       "    <tr>\n",
       "      <th>True</th>\n",
       "      <td>1874</td>\n",
       "      <td>10626</td>\n",
       "    </tr>\n",
       "  </tbody>\n",
       "</table>\n",
       "</div>"
      ],
      "text/plain": [
       "prediction_augmented  False   True\n",
       "truth                             \n",
       "False                 10686   1814\n",
       "True                   1874  10626"
      ]
     },
     "execution_count": 31,
     "metadata": {},
     "output_type": "execute_result"
    }
   ],
   "source": [
    "pandas.crosstab(\n",
    "    pred_test_frame['truth'] > 0.5,\n",
    "    pred_test_frame['prediction_augmented'] > 0.5)"
   ]
  },
  {
   "cell_type": "markdown",
   "metadata": {},
   "source": [
    "Copyright &copy; 2019-2022 Win-Vector LLC.  All rights reserved. [http://www.win-vector.com](http://www.win-vector.com)"
   ]
  }
 ],
 "metadata": {
  "kernelspec": {
   "display_name": "Python 3 (ipykernel)",
   "language": "python",
   "name": "python3"
  },
  "language_info": {
   "codemirror_mode": {
    "name": "ipython",
    "version": 3
   },
   "file_extension": ".py",
   "mimetype": "text/x-python",
   "name": "python",
   "nbconvert_exporter": "python",
   "pygments_lexer": "ipython3",
   "version": "3.9.7"
  }
 },
 "nbformat": 4,
 "nbformat_minor": 4
}
