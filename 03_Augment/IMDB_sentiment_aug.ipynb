{
 "cells": [
  {
   "cell_type": "markdown",
   "metadata": {
    "pycharm": {
     "name": "#%% md\n"
    }
   },
   "source": [
    "In this worksheet we will demonstrate learning sentiment extraction from text.\n",
    "\n",
    "The dataset is the IDMB sentiment set where items were annotated by taggers as to if the text appeared to be expressing a positive or negative sentiment. This data set was produced by and used in:\n",
    "\n",
    "> Andrew L. Maas, Raymond E. Daly, Peter T. Pham, Dan Huang, Andrew Y. Ng, and Christopher Potts. (2011). Learning Word Vectors for Sentiment Analysis. The 49th Annual Meeting of the Association for Computational Linguistics (ACL 2011).\n",
    "\n",
    "The data can be found here: [https://ai.stanford.edu/~amaas/data/sentiment/](https://ai.stanford.edu/~amaas/data/sentiment/).\n",
    "\n",
    "In our example we will use the GloVe embedding as our language model and Keras as our neural net software. The neural net architecture we are specifying is essentially a logistic regression over an average meaning of neighboring triplets of words in a document. The idea is: positive sentiment documents are often mostly positive utterances, and negative sentiment documents are often mostly negative utterances. We hope the non-sentiment carrying portions are largely ignored by the model."
   ]
  },
  {
   "cell_type": "code",
   "execution_count": 1,
   "metadata": {},
   "outputs": [],
   "source": [
    "# ensure plots print without needing to call show()\n",
    "%matplotlib inline"
   ]
  },
  {
   "cell_type": "code",
   "execution_count": 2,
   "metadata": {
    "collapsed": false,
    "jupyter": {
     "outputs_hidden": false
    },
    "pycharm": {
     "name": "#%%\n"
    }
   },
   "outputs": [],
   "source": [
    "# import our packages\n",
    "import pandas\n",
    "import numpy\n",
    "import sys\n",
    "\n",
    "import wvpy.util\n",
    "\n",
    "import seaborn as sns\n",
    "import matplotlib.pyplot as plt\n",
    "from sklearn.pipeline import make_pipeline"
   ]
  },
  {
   "cell_type": "code",
   "execution_count": 3,
   "metadata": {},
   "outputs": [],
   "source": [
    "# set up Keras imports, this can be brittle\n",
    "# no longer import keras, import tensorflow.keras\n",
    "import tensorflow.keras as keras\n",
    "# https://github.com/keras-team/keras/issues/12379#issuecomment-473823330\n",
    "from tensorflow.keras import *\n",
    "# https://www.tensorflow.org/api_docs/python/tf/keras/layers/Conv2D\n",
    "from tensorflow.keras.layers import *\n",
    "#from keras.layers import Input,Conv2D,MaxPooling2D,UpSampling2D\n",
    "#from keras.models import Model\n",
    "#from keras.optimizers import RMSprop\n",
    "# https://www.tensorflow.org/api_docs/python/tf/keras/optimizers/RMSprop\n",
    "from tensorflow.keras.optimizers import *"
   ]
  },
  {
   "cell_type": "code",
   "execution_count": 4,
   "metadata": {},
   "outputs": [],
   "source": [
    "# training hyper-parameters\n",
    "# often searching, on simulated out of sample data,\n",
    "# for good values of these can impove model quality.\n",
    "epochs = 200\n",
    "batch_size = 512\n",
    "validation_split = 0.2\n",
    "explicit_mix_controls = False\n",
    "assumed_confidence = 0.9"
   ]
  },
  {
   "cell_type": "code",
   "execution_count": 5,
   "metadata": {},
   "outputs": [],
   "source": [
    "# get our data and language model through data adaptors\n",
    "sys.path.append('.')\n",
    "# put data load on our path\n",
    "sys.path.append('../data/IMDB')\n",
    "from load_IMDB import load_IMDB\n",
    "sys.path.append('../data/GloVe')\n",
    "from document_encoder import GloveEncoder"
   ]
  },
  {
   "cell_type": "code",
   "execution_count": 6,
   "metadata": {
    "collapsed": false,
    "jupyter": {
     "outputs_hidden": false
    },
    "pycharm": {
     "name": "#%%\n"
    }
   },
   "outputs": [],
   "source": [
    "# load the IMDB data\n",
    "train_data, test_data = load_IMDB()"
   ]
  },
  {
   "cell_type": "code",
   "execution_count": 7,
   "metadata": {
    "collapsed": false,
    "jupyter": {
     "outputs_hidden": false
    },
    "pycharm": {
     "name": "#%%\n"
    }
   },
   "outputs": [
    {
     "data": {
      "text/plain": [
       "25000"
      ]
     },
     "execution_count": 7,
     "metadata": {},
     "output_type": "execute_result"
    }
   ],
   "source": [
    "# show how many training examples\n",
    "len(train_data.data)"
   ]
  },
  {
   "cell_type": "code",
   "execution_count": 8,
   "metadata": {
    "collapsed": false,
    "jupyter": {
     "outputs_hidden": false
    },
    "pycharm": {
     "name": "#%%\n"
    }
   },
   "outputs": [
    {
     "data": {
      "text/plain": [
       "25000"
      ]
     },
     "execution_count": 8,
     "metadata": {},
     "output_type": "execute_result"
    }
   ],
   "source": [
    "# show how many test examples\n",
    "len(test_data.data)\n"
   ]
  },
  {
   "cell_type": "code",
   "execution_count": 9,
   "metadata": {
    "collapsed": false,
    "jupyter": {
     "outputs_hidden": false
    },
    "pycharm": {
     "name": "#%%\n"
    }
   },
   "outputs": [],
   "source": [
    "# load the glove vectors we need, uses about 4GB of memory\n",
    "glove_path = '../data/GloVe/glove.840B.300d.zip'\n",
    "k = 3  # how many neighboring words to model\n",
    "encoder = GloveEncoder(\n",
    "    glove_path=glove_path,\n",
    "    k=k,\n",
    ")"
   ]
  },
  {
   "cell_type": "code",
   "execution_count": 10,
   "metadata": {
    "collapsed": false,
    "jupyter": {
     "outputs_hidden": false
    },
    "pycharm": {
     "name": "#%%\n"
    }
   },
   "outputs": [
    {
     "data": {
      "text/plain": [
       "<document_encoder.GloveEncoder at 0x7fc19a11acd0>"
      ]
     },
     "execution_count": 10,
     "metadata": {},
     "output_type": "execute_result"
    }
   ],
   "source": [
    "# train the encoder on what words it is to recognize\n",
    "encoder.fit(X=train_data.data)"
   ]
  },
  {
   "cell_type": "code",
   "execution_count": 11,
   "metadata": {},
   "outputs": [
    {
     "name": "stdout",
     "output_type": "stream",
     "text": [
      "Model: \"model\"\n",
      "__________________________________________________________________________________________________\n",
      "Layer (type)                    Output Shape         Param #     Connected to                     \n",
      "==================================================================================================\n",
      "inputs (InputLayer)             [(None, 900)]        0                                            \n",
      "__________________________________________________________________________________________________\n",
      "model0_logistic_layer (Dense)   (None, 1)            901         inputs[0][0]                     \n",
      "__________________________________________________________________________________________________\n",
      "half_value (Dense)              (None, 1)            2           model0_logistic_layer[0][0]      \n",
      "__________________________________________________________________________________________________\n",
      "mix_link_layer (Dense)          (None, 2)            1802        inputs[0][0]                     \n",
      "__________________________________________________________________________________________________\n",
      "signals_layer (Concatenate)     (None, 2)            0           model0_logistic_layer[0][0]      \n",
      "                                                                 half_value[0][0]                 \n",
      "__________________________________________________________________________________________________\n",
      "mix_logistic_layer (Softmax)    (None, 2)            0           mix_link_layer[0][0]             \n",
      "__________________________________________________________________________________________________\n",
      "mix_combined (Multiply)         (None, 2)            0           signals_layer[0][0]              \n",
      "                                                                 mix_logistic_layer[0][0]         \n",
      "__________________________________________________________________________________________________\n",
      "mix_sum (Dense)                 (None, 1)            3           mix_combined[0][0]               \n",
      "__________________________________________________________________________________________________\n",
      "result_layer (Concatenate)      (None, 2)            0           model0_logistic_layer[0][0]      \n",
      "                                                                 mix_sum[0][0]                    \n",
      "==================================================================================================\n",
      "Total params: 2,708\n",
      "Trainable params: 2,703\n",
      "Non-trainable params: 5\n",
      "__________________________________________________________________________________________________\n"
     ]
    },
    {
     "name": "stderr",
     "output_type": "stream",
     "text": [
      "2022-03-09 13:19:34.772082: I tensorflow/core/platform/cpu_feature_guard.cc:142] This TensorFlow binary is optimized with oneAPI Deep Neural Network Library (oneDNN) to use the following CPU instructions in performance-critical operations:  AVX2 FMA\n",
      "To enable them in other operations, rebuild TensorFlow with the appropriate compiler flags.\n"
     ]
    }
   ],
   "source": [
    "# build our neural net factory\n",
    "# this one implements a logistic regression.\n",
    "\n",
    "# get our data shape from using the encoder\n",
    "# so we don't have the brittleness of hard-coding.\n",
    "encode_dim = encoder.encode_text(\"this is an example text\", k=k).shape[0]\n",
    "\n",
    "def mk_model(*, explicit_mix_controls: bool = False):\n",
    "    \"\"\"\n",
    "    This is an augmented logistic model.\n",
    "    It predicts a 2-vector [p_class, p_class_augmented] or a 4-vector [p_class, p_class_augmented, certainty, uncertainty].\n",
    "    The augmentation is, smoothing to 0.5 by the degree of ambiguousness\n",
    "    \"\"\"\n",
    "    input_layer = Input(shape=(encode_dim, ), name='inputs')\n",
    "    # model0: basic logistic regression\n",
    "    model0_logistic_layer = Dense(1, name='model0_logistic_layer', activation='sigmoid')(input_layer)\n",
    "    # mix: sensor fusion style selection between model0 and 0.5\n",
    "    half_value = Dense(1, name='half_value')(model0_logistic_layer)  # set weights to: multiply by zero and add 0.5 to get 0.5\n",
    "    signals_layer = Concatenate(name='signals_layer')([model0_logistic_layer, half_value])\n",
    "    mix_link_layer = Dense(2, name='mix_link_layer')(input_layer)\n",
    "    mix_logistic_layer = Softmax(name='mix_logistic_layer')(mix_link_layer)\n",
    "    mix_combined = Multiply(name='mix_combined')([signals_layer, mix_logistic_layer])\n",
    "    mix_sum = Dense(1, name='mix_sum')(mix_combined)  # will set weights non-trainable to get effect we want\n",
    "    if explicit_mix_controls:\n",
    "        result_layer = Concatenate(name='result_layer')([model0_logistic_layer, mix_sum, mix_logistic_layer])\n",
    "    else:\n",
    "        result_layer = Concatenate(name='result_layer')([model0_logistic_layer, mix_sum])\n",
    "    # https://keras.io/api/models/model/\n",
    "    logistic_model = Model(input_layer, result_layer)\n",
    "    # max sum add with weight 1 and no bias\n",
    "    mix_model_layer = logistic_model.get_layer('mix_sum')\n",
    "    mix_model_layer.set_weights([numpy.array([[1.0], [1.0]]), numpy.array([0.0])])\n",
    "    mix_model_layer.trainable = False\n",
    "    half_value = logistic_model.get_layer('half_value')\n",
    "    half_value.set_weights([numpy.array([[0.0]]), numpy.array([0.5])])\n",
    "    half_value.trainable = False\n",
    "    logistic_model.compile(\n",
    "        optimizer='rmsprop',\n",
    "        loss='binary_crossentropy')\n",
    "    return logistic_model\n",
    "\n",
    "logistic_model = mk_model(explicit_mix_controls=explicit_mix_controls)\n",
    "logistic_model.summary()"
   ]
  },
  {
   "cell_type": "code",
   "execution_count": 12,
   "metadata": {
    "collapsed": false,
    "pycharm": {
     "name": "#%%\n"
    }
   },
   "outputs": [],
   "source": [
    "# shuffle rows of training data in case neural net batching takes in ordered chunks\n",
    "permutation = numpy.random.choice(len(train_data.data), size=len(train_data.data), replace=False)\n",
    "train_data_shuffled = [train_data.data[i] for i in permutation]\n",
    "train_target_shuffled = [train_data.target[i] for i in permutation]\n"
   ]
  },
  {
   "cell_type": "code",
   "execution_count": 13,
   "metadata": {},
   "outputs": [],
   "source": [
    "def aug_output(v):\n",
    "    \"\"\"Augment training target\"\"\"\n",
    "    if explicit_mix_controls:\n",
    "        return [v, v, assumed_confidence, 1.0 - assumed_confidence]\n",
    "    return [v, v]"
   ]
  },
  {
   "cell_type": "code",
   "execution_count": 14,
   "metadata": {
    "collapsed": false,
    "jupyter": {
     "outputs_hidden": false
    },
    "pycharm": {
     "name": "#%%\n"
    }
   },
   "outputs": [
    {
     "name": "stderr",
     "output_type": "stream",
     "text": [
      "2022-03-09 13:20:14.126281: I tensorflow/compiler/mlir/mlir_graph_optimization_pass.cc:185] None of the MLIR Optimization Passes are enabled (registered 2)\n"
     ]
    }
   ],
   "source": [
    "%%capture\n",
    "# do the training on our first model, all the data\n",
    "history_big = logistic_model.fit(\n",
    "    encoder.transform(train_data_shuffled),\n",
    "    numpy.asarray([aug_output(v) for v in train_target_shuffled]),\n",
    "    epochs=epochs,\n",
    "    batch_size=batch_size,\n",
    "    validation_split=validation_split)"
   ]
  },
  {
   "cell_type": "code",
   "execution_count": 15,
   "metadata": {},
   "outputs": [],
   "source": [
    "trajectory = pandas.DataFrame(history_big.history)\n",
    "trajectory['epoch'] = range(trajectory.shape[0])\n",
    "\n",
    "trajectory_plot = trajectory.melt(\n",
    "    id_vars=['epoch'],\n",
    "    value_vars=['loss', 'val_loss'],\n",
    "    var_name='data set',\n",
    "    value_name='estimated loss',\n",
    ")"
   ]
  },
  {
   "cell_type": "code",
   "execution_count": 16,
   "metadata": {},
   "outputs": [
    {
     "data": {
      "text/plain": [
       "Text(0.5, 1.0, 'model loss as a function of epoch\\n(smaller better)')"
      ]
     },
     "execution_count": 16,
     "metadata": {},
     "output_type": "execute_result"
    },
    {
     "data": {
      "image/png": "[encoded data removed]",
      "text/plain": [
       "<Figure size 432x288 with 1 Axes>"
      ]
     },
     "metadata": {
      "needs_background": "light"
     },
     "output_type": "display_data"
    }
   ],
   "source": [
    "sns.lineplot(\n",
    "    data=trajectory_plot,\n",
    "    x='epoch',\n",
    "    y='estimated loss',\n",
    "    hue = 'data set',\n",
    ")\n",
    "plt.title(\"model loss as a function of epoch\\n(smaller better)\")"
   ]
  },
  {
   "cell_type": "code",
   "execution_count": 17,
   "metadata": {
    "collapsed": false,
    "jupyter": {
     "outputs_hidden": false
    },
    "pycharm": {
     "name": "#%%\n"
    }
   },
   "outputs": [],
   "source": [
    "# wrap the text processing plus model\n",
    "# as a single object implementing the model API\n",
    "model = make_pipeline(encoder, logistic_model)"
   ]
  },
  {
   "cell_type": "code",
   "execution_count": 18,
   "metadata": {},
   "outputs": [],
   "source": [
    "# get predictions on data not seen during training!\n",
    "pred_test = model.predict(test_data.data)"
   ]
  },
  {
   "cell_type": "code",
   "execution_count": 19,
   "metadata": {},
   "outputs": [
    {
     "data": {
      "text/plain": [
       "array([[0.02108631, 0.02334161],\n",
       "       [0.12451056, 0.1598916 ],\n",
       "       [0.05048352, 0.05498326],\n",
       "       ...,\n",
       "       [0.6073576 , 0.6039827 ],\n",
       "       [0.43013787, 0.43037015],\n",
       "       [0.57534134, 0.5734184 ]], dtype=float32)"
      ]
     },
     "execution_count": 19,
     "metadata": {},
     "output_type": "execute_result"
    }
   ],
   "source": [
    "pred_test\n"
   ]
  },
  {
   "cell_type": "code",
   "execution_count": 20,
   "metadata": {},
   "outputs": [],
   "source": [
    "pred_test_frame = pandas.DataFrame(pred_test).copy()\n",
    "if pred_test_frame.shape[1] == 4:\n",
    "    pred_test_frame.columns = ['prediction', 'prediction_augmented', 'confidence', 'uncertainty']\n",
    "    del pred_test_frame['uncertainty']\n",
    "else:\n",
    "    pred_test_frame.columns = ['prediction', 'prediction_augmented']\n",
    "    pred_test_frame['confidence'] = (pred_test_frame['prediction_augmented'] - 0.5) / (pred_test_frame['prediction'] - 0.5)\n",
    "pred_test_frame['truth'] = numpy.array(test_data.target, dtype=float)"
   ]
  },
  {
   "cell_type": "code",
   "execution_count": 21,
   "metadata": {},
   "outputs": [
    {
     "data": {
      "text/html": [
       "<div>\n",
       "<style scoped>\n",
       "    .dataframe tbody tr th:only-of-type {\n",
       "        vertical-align: middle;\n",
       "    }\n",
       "\n",
       "    .dataframe tbody tr th {\n",
       "        vertical-align: top;\n",
       "    }\n",
       "\n",
       "    .dataframe thead th {\n",
       "        text-align: right;\n",
       "    }\n",
       "</style>\n",
       "<table border=\"1\" class=\"dataframe\">\n",
       "  <thead>\n",
       "    <tr style=\"text-align: right;\">\n",
       "      <th></th>\n",
       "      <th>prediction</th>\n",
       "      <th>prediction_augmented</th>\n",
       "      <th>confidence</th>\n",
       "      <th>truth</th>\n",
       "    </tr>\n",
       "  </thead>\n",
       "  <tbody>\n",
       "    <tr>\n",
       "      <th>0</th>\n",
       "      <td>0.021086</td>\n",
       "      <td>0.023342</td>\n",
       "      <td>0.995291</td>\n",
       "      <td>0.0</td>\n",
       "    </tr>\n",
       "    <tr>\n",
       "      <th>1</th>\n",
       "      <td>0.124511</td>\n",
       "      <td>0.159892</td>\n",
       "      <td>0.905774</td>\n",
       "      <td>0.0</td>\n",
       "    </tr>\n",
       "    <tr>\n",
       "      <th>2</th>\n",
       "      <td>0.050484</td>\n",
       "      <td>0.054983</td>\n",
       "      <td>0.989990</td>\n",
       "      <td>0.0</td>\n",
       "    </tr>\n",
       "    <tr>\n",
       "      <th>3</th>\n",
       "      <td>0.222772</td>\n",
       "      <td>0.227236</td>\n",
       "      <td>0.983898</td>\n",
       "      <td>0.0</td>\n",
       "    </tr>\n",
       "    <tr>\n",
       "      <th>4</th>\n",
       "      <td>0.833305</td>\n",
       "      <td>0.831347</td>\n",
       "      <td>0.994123</td>\n",
       "      <td>0.0</td>\n",
       "    </tr>\n",
       "    <tr>\n",
       "      <th>...</th>\n",
       "      <td>...</td>\n",
       "      <td>...</td>\n",
       "      <td>...</td>\n",
       "      <td>...</td>\n",
       "    </tr>\n",
       "    <tr>\n",
       "      <th>24995</th>\n",
       "      <td>0.569200</td>\n",
       "      <td>0.568266</td>\n",
       "      <td>0.986495</td>\n",
       "      <td>1.0</td>\n",
       "    </tr>\n",
       "    <tr>\n",
       "      <th>24996</th>\n",
       "      <td>0.175446</td>\n",
       "      <td>0.197398</td>\n",
       "      <td>0.932360</td>\n",
       "      <td>1.0</td>\n",
       "    </tr>\n",
       "    <tr>\n",
       "      <th>24997</th>\n",
       "      <td>0.607358</td>\n",
       "      <td>0.603983</td>\n",
       "      <td>0.968564</td>\n",
       "      <td>1.0</td>\n",
       "    </tr>\n",
       "    <tr>\n",
       "      <th>24998</th>\n",
       "      <td>0.430138</td>\n",
       "      <td>0.430370</td>\n",
       "      <td>0.996675</td>\n",
       "      <td>1.0</td>\n",
       "    </tr>\n",
       "    <tr>\n",
       "      <th>24999</th>\n",
       "      <td>0.575341</td>\n",
       "      <td>0.573418</td>\n",
       "      <td>0.974477</td>\n",
       "      <td>1.0</td>\n",
       "    </tr>\n",
       "  </tbody>\n",
       "</table>\n",
       "<p>25000 rows × 4 columns</p>\n",
       "</div>"
      ],
      "text/plain": [
       "       prediction  prediction_augmented  confidence  truth\n",
       "0        0.021086              0.023342    0.995291    0.0\n",
       "1        0.124511              0.159892    0.905774    0.0\n",
       "2        0.050484              0.054983    0.989990    0.0\n",
       "3        0.222772              0.227236    0.983898    0.0\n",
       "4        0.833305              0.831347    0.994123    0.0\n",
       "...           ...                   ...         ...    ...\n",
       "24995    0.569200              0.568266    0.986495    1.0\n",
       "24996    0.175446              0.197398    0.932360    1.0\n",
       "24997    0.607358              0.603983    0.968564    1.0\n",
       "24998    0.430138              0.430370    0.996675    1.0\n",
       "24999    0.575341              0.573418    0.974477    1.0\n",
       "\n",
       "[25000 rows x 4 columns]"
      ]
     },
     "execution_count": 21,
     "metadata": {},
     "output_type": "execute_result"
    }
   ],
   "source": [
    "pred_test_frame"
   ]
  },
  {
   "cell_type": "code",
   "execution_count": 22,
   "metadata": {},
   "outputs": [
    {
     "data": {
      "text/html": [
       "<div>\n",
       "<style scoped>\n",
       "    .dataframe tbody tr th:only-of-type {\n",
       "        vertical-align: middle;\n",
       "    }\n",
       "\n",
       "    .dataframe tbody tr th {\n",
       "        vertical-align: top;\n",
       "    }\n",
       "\n",
       "    .dataframe thead th {\n",
       "        text-align: right;\n",
       "    }\n",
       "</style>\n",
       "<table border=\"1\" class=\"dataframe\">\n",
       "  <thead>\n",
       "    <tr style=\"text-align: right;\">\n",
       "      <th></th>\n",
       "      <th>prediction</th>\n",
       "      <th>prediction_augmented</th>\n",
       "      <th>confidence</th>\n",
       "      <th>truth</th>\n",
       "    </tr>\n",
       "  </thead>\n",
       "  <tbody>\n",
       "    <tr>\n",
       "      <th>count</th>\n",
       "      <td>2.500000e+04</td>\n",
       "      <td>25000.000000</td>\n",
       "      <td>25000.000000</td>\n",
       "      <td>25000.00000</td>\n",
       "    </tr>\n",
       "    <tr>\n",
       "      <th>mean</th>\n",
       "      <td>5.126517e-01</td>\n",
       "      <td>0.513581</td>\n",
       "      <td>0.989566</td>\n",
       "      <td>0.50000</td>\n",
       "    </tr>\n",
       "    <tr>\n",
       "      <th>std</th>\n",
       "      <td>3.659777e-01</td>\n",
       "      <td>0.362095</td>\n",
       "      <td>0.030609</td>\n",
       "      <td>0.50001</td>\n",
       "    </tr>\n",
       "    <tr>\n",
       "      <th>min</th>\n",
       "      <td>1.160408e-10</td>\n",
       "      <td>0.000125</td>\n",
       "      <td>0.098955</td>\n",
       "      <td>0.00000</td>\n",
       "    </tr>\n",
       "    <tr>\n",
       "      <th>25%</th>\n",
       "      <td>1.320212e-01</td>\n",
       "      <td>0.137926</td>\n",
       "      <td>0.990885</td>\n",
       "      <td>0.00000</td>\n",
       "    </tr>\n",
       "    <tr>\n",
       "      <th>50%</th>\n",
       "      <td>5.270442e-01</td>\n",
       "      <td>0.526808</td>\n",
       "      <td>0.996259</td>\n",
       "      <td>0.50000</td>\n",
       "    </tr>\n",
       "    <tr>\n",
       "      <th>75%</th>\n",
       "      <td>8.915409e-01</td>\n",
       "      <td>0.887818</td>\n",
       "      <td>0.998495</td>\n",
       "      <td>1.00000</td>\n",
       "    </tr>\n",
       "    <tr>\n",
       "      <th>max</th>\n",
       "      <td>1.000000e+00</td>\n",
       "      <td>0.999959</td>\n",
       "      <td>1.002950</td>\n",
       "      <td>1.00000</td>\n",
       "    </tr>\n",
       "  </tbody>\n",
       "</table>\n",
       "</div>"
      ],
      "text/plain": [
       "         prediction  prediction_augmented    confidence        truth\n",
       "count  2.500000e+04          25000.000000  25000.000000  25000.00000\n",
       "mean   5.126517e-01              0.513581      0.989566      0.50000\n",
       "std    3.659777e-01              0.362095      0.030609      0.50001\n",
       "min    1.160408e-10              0.000125      0.098955      0.00000\n",
       "25%    1.320212e-01              0.137926      0.990885      0.00000\n",
       "50%    5.270442e-01              0.526808      0.996259      0.50000\n",
       "75%    8.915409e-01              0.887818      0.998495      1.00000\n",
       "max    1.000000e+00              0.999959      1.002950      1.00000"
      ]
     },
     "execution_count": 22,
     "metadata": {},
     "output_type": "execute_result"
    }
   ],
   "source": [
    "pred_test_frame.describe()"
   ]
  },
  {
   "cell_type": "markdown",
   "metadata": {},
   "source": [
    "Our hope is, that this more complicated model uses the confidence estimate to identify unreliable instances and to maybe even improve predictions. The effect is weak, a basic logistic regression gets a test deviance of 0.712 (lower is better)- and this could probably be acheived by mere regularization. But we do see identification of lower quality predictions and a slight improvement. The next step is data augmentation, where we combine positive and negative examples to build deliberately ambiguous training instances. (Note: ambiguous data augmentation could be tried on the original logistic regression also!) We also have the issue of having slowed down training (so number of epochs may not be comparable) and having introduced new hyperparameters."
   ]
  },
  {
   "cell_type": "code",
   "execution_count": 23,
   "metadata": {},
   "outputs": [
    {
     "data": {
      "text/html": [
       "<div>\n",
       "<style scoped>\n",
       "    .dataframe tbody tr th:only-of-type {\n",
       "        vertical-align: middle;\n",
       "    }\n",
       "\n",
       "    .dataframe tbody tr th {\n",
       "        vertical-align: top;\n",
       "    }\n",
       "\n",
       "    .dataframe thead th {\n",
       "        text-align: right;\n",
       "    }\n",
       "</style>\n",
       "<table border=\"1\" class=\"dataframe\">\n",
       "  <thead>\n",
       "    <tr style=\"text-align: right;\">\n",
       "      <th></th>\n",
       "      <th>prediction</th>\n",
       "      <th>prediction_augmented</th>\n",
       "      <th>confidence</th>\n",
       "      <th>truth</th>\n",
       "    </tr>\n",
       "  </thead>\n",
       "  <tbody>\n",
       "    <tr>\n",
       "      <th>1</th>\n",
       "      <td>0.124511</td>\n",
       "      <td>0.159892</td>\n",
       "      <td>0.905774</td>\n",
       "      <td>0.0</td>\n",
       "    </tr>\n",
       "    <tr>\n",
       "      <th>5</th>\n",
       "      <td>0.099288</td>\n",
       "      <td>0.108610</td>\n",
       "      <td>0.976737</td>\n",
       "      <td>0.0</td>\n",
       "    </tr>\n",
       "    <tr>\n",
       "      <th>8</th>\n",
       "      <td>0.041691</td>\n",
       "      <td>0.053309</td>\n",
       "      <td>0.974651</td>\n",
       "      <td>0.0</td>\n",
       "    </tr>\n",
       "    <tr>\n",
       "      <th>20</th>\n",
       "      <td>0.169036</td>\n",
       "      <td>0.185712</td>\n",
       "      <td>0.949614</td>\n",
       "      <td>0.0</td>\n",
       "    </tr>\n",
       "    <tr>\n",
       "      <th>41</th>\n",
       "      <td>0.880224</td>\n",
       "      <td>0.855305</td>\n",
       "      <td>0.934462</td>\n",
       "      <td>0.0</td>\n",
       "    </tr>\n",
       "    <tr>\n",
       "      <th>...</th>\n",
       "      <td>...</td>\n",
       "      <td>...</td>\n",
       "      <td>...</td>\n",
       "      <td>...</td>\n",
       "    </tr>\n",
       "    <tr>\n",
       "      <th>24992</th>\n",
       "      <td>0.870848</td>\n",
       "      <td>0.852464</td>\n",
       "      <td>0.950425</td>\n",
       "      <td>1.0</td>\n",
       "    </tr>\n",
       "    <tr>\n",
       "      <th>24993</th>\n",
       "      <td>0.288832</td>\n",
       "      <td>0.315390</td>\n",
       "      <td>0.874230</td>\n",
       "      <td>1.0</td>\n",
       "    </tr>\n",
       "    <tr>\n",
       "      <th>24996</th>\n",
       "      <td>0.175446</td>\n",
       "      <td>0.197398</td>\n",
       "      <td>0.932360</td>\n",
       "      <td>1.0</td>\n",
       "    </tr>\n",
       "    <tr>\n",
       "      <th>24997</th>\n",
       "      <td>0.607358</td>\n",
       "      <td>0.603983</td>\n",
       "      <td>0.968564</td>\n",
       "      <td>1.0</td>\n",
       "    </tr>\n",
       "    <tr>\n",
       "      <th>24999</th>\n",
       "      <td>0.575341</td>\n",
       "      <td>0.573418</td>\n",
       "      <td>0.974477</td>\n",
       "      <td>1.0</td>\n",
       "    </tr>\n",
       "  </tbody>\n",
       "</table>\n",
       "<p>2500 rows × 4 columns</p>\n",
       "</div>"
      ],
      "text/plain": [
       "       prediction  prediction_augmented  confidence  truth\n",
       "1        0.124511              0.159892    0.905774    0.0\n",
       "5        0.099288              0.108610    0.976737    0.0\n",
       "8        0.041691              0.053309    0.974651    0.0\n",
       "20       0.169036              0.185712    0.949614    0.0\n",
       "41       0.880224              0.855305    0.934462    0.0\n",
       "...           ...                   ...         ...    ...\n",
       "24992    0.870848              0.852464    0.950425    1.0\n",
       "24993    0.288832              0.315390    0.874230    1.0\n",
       "24996    0.175446              0.197398    0.932360    1.0\n",
       "24997    0.607358              0.603983    0.968564    1.0\n",
       "24999    0.575341              0.573418    0.974477    1.0\n",
       "\n",
       "[2500 rows x 4 columns]"
      ]
     },
     "execution_count": 23,
     "metadata": {},
     "output_type": "execute_result"
    }
   ],
   "source": [
    "uncertain = pred_test_frame['confidence'] < numpy.quantile(pred_test_frame['confidence'], q= 1 - assumed_confidence)\n",
    "pred_test_frame.loc[uncertain, :]"
   ]
  },
  {
   "cell_type": "code",
   "execution_count": 24,
   "metadata": {},
   "outputs": [
    {
     "data": {
      "text/plain": [
       "0.8493171579741186"
      ]
     },
     "execution_count": 24,
     "metadata": {},
     "output_type": "execute_result"
    }
   ],
   "source": [
    "wvpy.util.mean_deviance(\n",
    "    predictions=pred_test_frame.loc[uncertain, 'prediction'],\n",
    "    istrue=pred_test_frame.loc[uncertain, 'truth']\n",
    ")"
   ]
  },
  {
   "cell_type": "code",
   "execution_count": 25,
   "metadata": {},
   "outputs": [
    {
     "data": {
      "text/plain": [
       "0.8136546522073448"
      ]
     },
     "execution_count": 25,
     "metadata": {},
     "output_type": "execute_result"
    }
   ],
   "source": [
    "wvpy.util.mean_deviance(\n",
    "    predictions=pred_test_frame.loc[uncertain, 'prediction_augmented'],\n",
    "    istrue=pred_test_frame.loc[uncertain, 'truth']\n",
    ")"
   ]
  },
  {
   "cell_type": "markdown",
   "metadata": {
    "pycharm": {
     "name": "#%% md\n"
    }
   },
   "source": [
    "As we said, overall this model does not significantly out-perform our basic logistic regression example (02_IMDB_sentiment/IMDB_sentiment.ipynb) which has a deviance of 0.712 (lower is better)"
   ]
  },
  {
   "cell_type": "code",
   "execution_count": 26,
   "metadata": {},
   "outputs": [
    {
     "data": {
      "text/plain": [
       "0.7072287381544372"
      ]
     },
     "execution_count": 26,
     "metadata": {},
     "output_type": "execute_result"
    }
   ],
   "source": [
    "wvpy.util.mean_deviance(\n",
    "    predictions=pred_test_frame['prediction'],\n",
    "    istrue=pred_test_frame['truth']\n",
    ")"
   ]
  },
  {
   "cell_type": "code",
   "execution_count": 27,
   "metadata": {},
   "outputs": [
    {
     "data": {
      "text/plain": [
       "0.7035893667290497"
      ]
     },
     "execution_count": 27,
     "metadata": {},
     "output_type": "execute_result"
    }
   ],
   "source": [
    "wvpy.util.mean_deviance(\n",
    "    predictions=pred_test_frame['prediction_augmented'],\n",
    "    istrue=pred_test_frame['truth']\n",
    ")"
   ]
  },
  {
   "cell_type": "code",
   "execution_count": 28,
   "metadata": {},
   "outputs": [
    {
     "data": {
      "text/plain": [
       "<Figure size 432x288 with 0 Axes>"
      ]
     },
     "metadata": {},
     "output_type": "display_data"
    },
    {
     "data": {
      "image/png": "[encoded data removed]",
      "text/plain": [
       "<Figure size 432x288 with 1 Axes>"
      ]
     },
     "metadata": {
      "needs_background": "light"
     },
     "output_type": "display_data"
    },
    {
     "data": {
      "text/plain": [
       "0.9239995456000001"
      ]
     },
     "execution_count": 28,
     "metadata": {},
     "output_type": "execute_result"
    }
   ],
   "source": [
    "# evaluate the results\n",
    "wvpy.util.plot_roc(\n",
    "    pred_test_frame['prediction'],\n",
    "    pred_test_frame['truth'],\n",
    "    title='model on test')\n"
   ]
  },
  {
   "cell_type": "code",
   "execution_count": 29,
   "metadata": {
    "collapsed": false,
    "jupyter": {
     "outputs_hidden": false
    },
    "pycharm": {
     "name": "#%%\n"
    }
   },
   "outputs": [
    {
     "data": {
      "text/plain": [
       "<Figure size 432x288 with 0 Axes>"
      ]
     },
     "metadata": {},
     "output_type": "display_data"
    },
    {
     "data": {
      "image/png": "[encoded data removed]",
      "text/plain": [
       "<Figure size 864x576 with 2 Axes>"
      ]
     },
     "metadata": {
      "needs_background": "light"
     },
     "output_type": "display_data"
    }
   ],
   "source": [
    "# evaluate the results\n",
    "wvpy.util.dual_hist_plot(\n",
    "    pred_test_frame['prediction'],\n",
    "    pred_test_frame['truth'],\n",
    "    truth_target=1,\n",
    "    title='model on test')\n"
   ]
  },
  {
   "cell_type": "code",
   "execution_count": 30,
   "metadata": {
    "collapsed": false,
    "jupyter": {
     "outputs_hidden": false
    },
    "pycharm": {
     "name": "#%%\n"
    }
   },
   "outputs": [
    {
     "data": {
      "text/html": [
       "<div>\n",
       "<style scoped>\n",
       "    .dataframe tbody tr th:only-of-type {\n",
       "        vertical-align: middle;\n",
       "    }\n",
       "\n",
       "    .dataframe tbody tr th {\n",
       "        vertical-align: top;\n",
       "    }\n",
       "\n",
       "    .dataframe thead th {\n",
       "        text-align: right;\n",
       "    }\n",
       "</style>\n",
       "<table border=\"1\" class=\"dataframe\">\n",
       "  <thead>\n",
       "    <tr style=\"text-align: right;\">\n",
       "      <th>prediction</th>\n",
       "      <th>False</th>\n",
       "      <th>True</th>\n",
       "    </tr>\n",
       "    <tr>\n",
       "      <th>truth</th>\n",
       "      <th></th>\n",
       "      <th></th>\n",
       "    </tr>\n",
       "  </thead>\n",
       "  <tbody>\n",
       "    <tr>\n",
       "      <th>False</th>\n",
       "      <td>10455</td>\n",
       "      <td>2045</td>\n",
       "    </tr>\n",
       "    <tr>\n",
       "      <th>True</th>\n",
       "      <td>1718</td>\n",
       "      <td>10782</td>\n",
       "    </tr>\n",
       "  </tbody>\n",
       "</table>\n",
       "</div>"
      ],
      "text/plain": [
       "prediction  False   True\n",
       "truth                   \n",
       "False       10455   2045\n",
       "True         1718  10782"
      ]
     },
     "execution_count": 30,
     "metadata": {},
     "output_type": "execute_result"
    }
   ],
   "source": [
    "pandas.crosstab(\n",
    "    pred_test_frame['truth'] > 0.5,\n",
    "    pred_test_frame['prediction'] > 0.5)\n",
    "\n"
   ]
  },
  {
   "cell_type": "code",
   "execution_count": 31,
   "metadata": {},
   "outputs": [
    {
     "data": {
      "text/plain": [
       "<Figure size 432x288 with 0 Axes>"
      ]
     },
     "metadata": {},
     "output_type": "display_data"
    },
    {
     "data": {
      "image/png": "[encoded data removed]",
      "text/plain": [
       "<Figure size 432x288 with 1 Axes>"
      ]
     },
     "metadata": {
      "needs_background": "light"
     },
     "output_type": "display_data"
    },
    {
     "data": {
      "text/plain": [
       "0.9246114528"
      ]
     },
     "execution_count": 31,
     "metadata": {},
     "output_type": "execute_result"
    }
   ],
   "source": [
    "# evaluate the results\n",
    "wvpy.util.plot_roc(\n",
    "    pred_test_frame['prediction_augmented'],\n",
    "    pred_test_frame['truth'],\n",
    "    title='model on test')"
   ]
  },
  {
   "cell_type": "code",
   "execution_count": 32,
   "metadata": {},
   "outputs": [
    {
     "data": {
      "text/plain": [
       "<Figure size 432x288 with 0 Axes>"
      ]
     },
     "metadata": {},
     "output_type": "display_data"
    },
    {
     "data": {
      "image/png": "[encoded data removed]",
      "text/plain": [
       "<Figure size 864x576 with 2 Axes>"
      ]
     },
     "metadata": {
      "needs_background": "light"
     },
     "output_type": "display_data"
    }
   ],
   "source": [
    "# evaluate the results\n",
    "wvpy.util.dual_hist_plot(\n",
    "    pred_test_frame['prediction_augmented'],\n",
    "    pred_test_frame['truth'],\n",
    "    truth_target=1,\n",
    "    title='model on test')"
   ]
  },
  {
   "cell_type": "code",
   "execution_count": null,
   "metadata": {},
   "outputs": [],
   "source": []
  },
  {
   "cell_type": "code",
   "execution_count": null,
   "metadata": {},
   "outputs": [],
   "source": []
  },
  {
   "cell_type": "markdown",
   "metadata": {},
   "source": [
    "Copyright &copy; 2019-2022 Win-Vector LLC.  All rights reserved. [http://www.win-vector.com](http://www.win-vector.com)"
   ]
  }
 ],
 "metadata": {
  "kernelspec": {
   "display_name": "Python 3 (ipykernel)",
   "language": "python",
   "name": "python3"
  },
  "language_info": {
   "codemirror_mode": {
    "name": "ipython",
    "version": 3
   },
   "file_extension": ".py",
   "mimetype": "text/x-python",
   "name": "python",
   "nbconvert_exporter": "python",
   "pygments_lexer": "ipython3",
   "version": "3.9.7"
  }
 },
 "nbformat": 4,
 "nbformat_minor": 4
}
