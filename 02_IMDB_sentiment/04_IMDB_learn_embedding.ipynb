{
 "cells": [
  {
   "cell_type": "markdown",
   "metadata": {
    "collapsed": false
   },
   "source": [
    "Example from\n",
    "\n",
    "https://marcotcr.github.io/lime/tutorials/Lime%20-%20basic%20usage%2C%20two%20class%20case.html\n",
    "\n",
    "\n",
    "https://github.com/marcotcr/lime/tree/master/doc/notebooks\n",
    "\n",
    "and *Deep Learning with Python*, Chapter 6.\n",
    "\n",
    "Bug solved here: https://github.com/marcotcr/lime/issues/236\n"
   ]
  },
  {
   "cell_type": "code",
   "execution_count": 1,
   "metadata": {
    "collapsed": false,
    "pycharm": {
     "name": "#%%\n"
    }
   },
   "outputs": [],
   "source": [
    "# ensure plots print without needing to call show()\n",
    "%matplotlib inline"
   ]
  },
  {
   "cell_type": "code",
   "execution_count": 2,
   "metadata": {
    "collapsed": false,
    "pycharm": {
     "name": "#%%\n"
    }
   },
   "outputs": [],
   "source": [
    "# import our packages\n",
    "import pandas\n",
    "import numpy\n",
    "import os\n",
    "import gzip\n",
    "import sys\n",
    "import pickle\n",
    "import textwrap\n",
    "\n",
    "import seaborn\n",
    "import wvpy.util\n",
    "\n",
    "import sklearn.metrics\n",
    "from sklearn.pipeline import make_pipeline"
   ]
  },
  {
   "cell_type": "code",
   "execution_count": 3,
   "metadata": {
    "collapsed": false,
    "pycharm": {
     "name": "#%%\n"
    }
   },
   "outputs": [],
   "source": [
    "# set up Keras imports, this can be brittle\n",
    "# no longer import keras, import tensorflow.keras\n",
    "import tensorflow.keras as keras\n",
    "# https://github.com/keras-team/keras/issues/12379#issuecomment-473823330\n",
    "from tensorflow.keras import *\n",
    "# https://www.tensorflow.org/api_docs/python/tf/keras/layers/Conv2D\n",
    "from tensorflow.keras.layers import *\n",
    "#from keras.layers import Input,Conv2D,MaxPooling2D,UpSampling2D\n",
    "#from keras.models import Model\n",
    "#from keras.optimizers import RMSprop\n",
    "# https://www.tensorflow.org/api_docs/python/tf/keras/optimizers/RMSprop\n",
    "from tensorflow.keras.optimizers import *"
   ]
  },
  {
   "cell_type": "code",
   "execution_count": 4,
   "metadata": {
    "collapsed": false,
    "pycharm": {
     "name": "#%%\n"
    }
   },
   "outputs": [],
   "source": [
    "# get our data and language model through data adaptors\n",
    "sys.path.append('.')\n",
    "# put data load on our path\n",
    "sys.path.append('../data/IMDB')\n",
    "from load_IMDB import load_IMDB\n"
   ]
  },
  {
   "cell_type": "code",
   "execution_count": 5,
   "metadata": {
    "collapsed": false,
    "pycharm": {
     "name": "#%%\n"
    }
   },
   "outputs": [],
   "source": [
    "# load the IMDB data\n",
    "train_data, test_data = load_IMDB()"
   ]
  },
  {
   "cell_type": "code",
   "execution_count": 6,
   "metadata": {
    "collapsed": false,
    "pycharm": {
     "name": "#%%\n"
    }
   },
   "outputs": [
    {
     "data": {
      "text/plain": [
       "(\"I would put this at the top of my list of films in the category of unwatchable trash! There are films that are bad, but the worst kind are the ones that are unwatchable but you are suppose to like them because they are supposed to be good for you! The sex sequences, so shocking in its day, couldn't even arouse a rabbit. The so called controversial politics is strictly high school sophomore amateur night Marxism. The film is self-consciously arty in the worst sense of the term. The photography is in a harsh grainy black and white. Some scenes are out of focus or taken from the wrong angle. Even the sound is bad! And some people call this art?<br /><br />\",\n",
       " 0)"
      ]
     },
     "execution_count": 6,
     "metadata": {},
     "output_type": "execute_result"
    }
   ],
   "source": [
    "(train_data.data[5], train_data.target[5])"
   ]
  },
  {
   "cell_type": "code",
   "execution_count": 7,
   "metadata": {
    "collapsed": false,
    "pycharm": {
     "name": "#%%\n"
    }
   },
   "outputs": [
    {
     "data": {
      "text/plain": [
       "(\"I had high hopes for this one until they changed the name to 'The Shepherd : Border Patrol, the lamest movie name ever, what was wrong with just 'The Shepherd'. This is a by the numbers action flick that tips its hat at many classic Van Damme films. There is a nice bit of action in a bar which reminded me of hard target and universal soldier but directed with no intensity or flair which is a shame. There is one great line about 'being p*ss drunk and carrying a rabbit' and some OK action scenes let down by the cheapness of it all. A lot of the times the dialogue doesn't match the characters mouth and the stunt men fall down dead a split second before even being shot. The end fight is one of the better Van Damme fights except the Director tries to go a bit too John Woo and fails also introducing flashbacks which no one really cares about just gets in the way of the action which is the whole point of a van Damme film.<br /><br />Not good, not bad, just average generic action.\",\n",
       " 0)"
      ]
     },
     "execution_count": 7,
     "metadata": {},
     "output_type": "execute_result"
    }
   ],
   "source": [
    "(test_data.data[5], test_data.target[5])"
   ]
  },
  {
   "cell_type": "markdown",
   "metadata": {
    "collapsed": false
   },
   "source": [
    "## Training a classifier"
   ]
  },
  {
   "cell_type": "markdown",
   "metadata": {
    "collapsed": false
   },
   "source": [
    "Let's tokenize the data."
   ]
  },
  {
   "cell_type": "code",
   "execution_count": 8,
   "metadata": {
    "collapsed": false,
    "pycharm": {
     "name": "#%%\n"
    }
   },
   "outputs": [],
   "source": [
    "vocab_size = 10000\n",
    "max_len = 300\n",
    "embed_dim = 24\n",
    "\n",
    "tok = keras.preprocessing.text.Tokenizer(num_words=vocab_size)\n",
    "# all fitting, including tokenizers is done only on training data\n",
    "tok.fit_on_texts(train_data.data)\n",
    "\n",
    "# shuffle rows of training data in case neural net batching takes in ordered chunks\n",
    "permutation = numpy.random.choice(len(train_data.data), size=len(train_data.data), replace=False)\n",
    "train_data_shuffled = [train_data.data[i] for i in permutation]\n",
    "train_target_shuffled = [train_data.target[i] for i in permutation]\n",
    "\n",
    "# convert training data\n",
    "train_text = tok.texts_to_sequences(train_data_shuffled)\n",
    "train_text = keras.preprocessing.sequence.pad_sequences(\n",
    "    train_text, maxlen=max_len,\n",
    "    padding=\"post\", truncating=\"post\")\n",
    "train_target = numpy.asarray(train_target_shuffled, dtype=float)\n",
    "\n",
    "# convert test data\n",
    "test_text = tok.texts_to_sequences(test_data.data)\n",
    "test_text = keras.preprocessing.sequence.pad_sequences(\n",
    "    test_text, maxlen=max_len,\n",
    "    padding=\"post\", truncating=\"post\")\n",
    "test_target = numpy.asarray(test_data.target, dtype=float)"
   ]
  },
  {
   "cell_type": "markdown",
   "metadata": {
    "collapsed": false,
    "pycharm": {
     "name": "#%% md\n"
    }
   },
   "source": [
    "We now define our neural net.\n",
    "\n"
   ]
  },
  {
   "cell_type": "code",
   "execution_count": 9,
   "metadata": {
    "collapsed": false,
    "pycharm": {
     "name": "#%%\n"
    }
   },
   "outputs": [
    {
     "name": "stderr",
     "output_type": "stream",
     "text": [
      "2022-04-05 13:37:54.826023: I tensorflow/core/platform/cpu_feature_guard.cc:151] This TensorFlow binary is optimized with oneAPI Deep Neural Network Library (oneDNN) to use the following CPU instructions in performance-critical operations:  AVX2 FMA\n",
      "To enable them in other operations, rebuild TensorFlow with the appropriate compiler flags.\n"
     ]
    },
    {
     "name": "stdout",
     "output_type": "stream",
     "text": [
      "Model: \"sequential\"\n",
      "_________________________________________________________________\n",
      " Layer (type)                Output Shape              Param #   \n",
      "=================================================================\n",
      " embedding (Embedding)       (None, 300, 24)           240000    \n",
      "                                                                 \n",
      " bidirectional (Bidirectiona  (None, 128)              45568     \n",
      " l)                                                              \n",
      "                                                                 \n",
      " dense (Dense)               (None, 1)                 129       \n",
      "                                                                 \n",
      "=================================================================\n",
      "Total params: 285,697\n",
      "Trainable params: 285,697\n",
      "Non-trainable params: 0\n",
      "_________________________________________________________________\n"
     ]
    }
   ],
   "source": [
    "# define our neural net\n",
    "model = Sequential()\n",
    "model.add(Embedding(vocab_size, embed_dim, input_length = max_len))\n",
    "model.add(Bidirectional(LSTM(64)))  # or model.add(Flatten())\n",
    "model.add(Dense(1, activation='sigmoid'))\n",
    "model.compile(optimizer='rmsprop', loss='binary_crossentropy', metrics=['acc'])\n",
    "model.summary()"
   ]
  },
  {
   "cell_type": "markdown",
   "metadata": {
    "collapsed": false
   },
   "source": [
    "Save the initial state of the model, this lets us re-train. Having to pick the epoch and re-trian in this way is a bit non-standard and is evidence we are running this example on too little data and/or haven't taken enough precautions against over-fit (such as drop-out layers). Usually more epochs is better."
   ]
  },
  {
   "cell_type": "code",
   "execution_count": 10,
   "metadata": {
    "collapsed": false,
    "pycharm": {
     "name": "#%%\n"
    }
   },
   "outputs": [],
   "source": [
    "wts = model.get_weights()"
   ]
  },
  {
   "cell_type": "code",
   "execution_count": 11,
   "metadata": {
    "collapsed": false,
    "pycharm": {
     "name": "#%%\n"
    }
   },
   "outputs": [
    {
     "name": "stdout",
     "output_type": "stream",
     "text": [
      "Epoch 1/20\n",
      "79/79 [==============================] - 51s 606ms/step - loss: 0.6388 - acc: 0.6378 - val_loss: 0.5812 - val_acc: 0.7648\n",
      "Epoch 2/20\n",
      "79/79 [==============================] - 49s 623ms/step - loss: 0.4350 - acc: 0.8233 - val_loss: 0.3887 - val_acc: 0.8440\n",
      "Epoch 3/20\n",
      "79/79 [==============================] - 47s 590ms/step - loss: 0.3263 - acc: 0.8741 - val_loss: 0.3754 - val_acc: 0.8692\n",
      "Epoch 4/20\n",
      "79/79 [==============================] - 47s 593ms/step - loss: 0.2702 - acc: 0.8972 - val_loss: 0.3644 - val_acc: 0.8662\n",
      "Epoch 5/20\n",
      "79/79 [==============================] - 46s 579ms/step - loss: 0.2394 - acc: 0.9100 - val_loss: 0.3310 - val_acc: 0.8790\n",
      "Epoch 6/20\n",
      "79/79 [==============================] - 46s 583ms/step - loss: 0.2156 - acc: 0.9224 - val_loss: 0.4272 - val_acc: 0.8642\n",
      "Epoch 7/20\n",
      "79/79 [==============================] - 46s 583ms/step - loss: 0.2122 - acc: 0.9243 - val_loss: 0.4238 - val_acc: 0.8680\n",
      "Epoch 8/20\n",
      "79/79 [==============================] - 47s 590ms/step - loss: 0.1844 - acc: 0.9348 - val_loss: 0.8284 - val_acc: 0.7682\n",
      "Epoch 9/20\n",
      "79/79 [==============================] - 45s 574ms/step - loss: 0.1674 - acc: 0.9431 - val_loss: 0.4159 - val_acc: 0.8458\n",
      "Epoch 10/20\n",
      "79/79 [==============================] - 47s 596ms/step - loss: 0.1521 - acc: 0.9467 - val_loss: 0.3608 - val_acc: 0.8748\n",
      "Epoch 11/20\n",
      "79/79 [==============================] - 47s 591ms/step - loss: 0.1466 - acc: 0.9498 - val_loss: 0.3901 - val_acc: 0.8430\n",
      "Epoch 12/20\n",
      "79/79 [==============================] - 45s 567ms/step - loss: 0.1326 - acc: 0.9560 - val_loss: 0.4303 - val_acc: 0.8704\n",
      "Epoch 13/20\n",
      "79/79 [==============================] - 46s 581ms/step - loss: 0.1222 - acc: 0.9577 - val_loss: 0.4591 - val_acc: 0.8670\n",
      "Epoch 14/20\n",
      "79/79 [==============================] - 45s 576ms/step - loss: 0.1146 - acc: 0.9626 - val_loss: 0.4113 - val_acc: 0.8664\n",
      "Epoch 15/20\n",
      "79/79 [==============================] - 46s 587ms/step - loss: 0.1092 - acc: 0.9646 - val_loss: 0.5054 - val_acc: 0.8522\n",
      "Epoch 16/20\n",
      "79/79 [==============================] - 47s 590ms/step - loss: 0.1038 - acc: 0.9651 - val_loss: 0.6095 - val_acc: 0.8518\n",
      "Epoch 17/20\n",
      "79/79 [==============================] - 45s 574ms/step - loss: 0.0930 - acc: 0.9699 - val_loss: 0.4407 - val_acc: 0.8678\n",
      "Epoch 18/20\n",
      "79/79 [==============================] - 45s 572ms/step - loss: 0.0973 - acc: 0.9681 - val_loss: 0.5375 - val_acc: 0.8432\n",
      "Epoch 19/20\n",
      "79/79 [==============================] - 45s 565ms/step - loss: 0.0868 - acc: 0.9721 - val_loss: 0.5629 - val_acc: 0.8322\n",
      "Epoch 20/20\n",
      "79/79 [==============================] - 47s 589ms/step - loss: 0.0831 - acc: 0.9739 - val_loss: 0.5583 - val_acc: 0.8228\n"
     ]
    }
   ],
   "source": [
    "history = model.fit(\n",
    "    train_text, \n",
    "    train_target, \n",
    "    epochs=20,\n",
    "    batch_size=256, \n",
    "    validation_split=0.2)"
   ]
  },
  {
   "cell_type": "code",
   "execution_count": 12,
   "metadata": {
    "collapsed": false,
    "pycharm": {
     "name": "#%%\n"
    }
   },
   "outputs": [
    {
     "data": {
      "text/html": [
       "<div>\n",
       "<style scoped>\n",
       "    .dataframe tbody tr th:only-of-type {\n",
       "        vertical-align: middle;\n",
       "    }\n",
       "\n",
       "    .dataframe tbody tr th {\n",
       "        vertical-align: top;\n",
       "    }\n",
       "\n",
       "    .dataframe thead th {\n",
       "        text-align: right;\n",
       "    }\n",
       "</style>\n",
       "<table border=\"1\" class=\"dataframe\">\n",
       "  <thead>\n",
       "    <tr style=\"text-align: right;\">\n",
       "      <th></th>\n",
       "      <th>loss</th>\n",
       "      <th>acc</th>\n",
       "      <th>val_loss</th>\n",
       "      <th>val_acc</th>\n",
       "    </tr>\n",
       "  </thead>\n",
       "  <tbody>\n",
       "    <tr>\n",
       "      <th>0</th>\n",
       "      <td>0.638800</td>\n",
       "      <td>0.63785</td>\n",
       "      <td>0.581218</td>\n",
       "      <td>0.7648</td>\n",
       "    </tr>\n",
       "    <tr>\n",
       "      <th>1</th>\n",
       "      <td>0.435049</td>\n",
       "      <td>0.82330</td>\n",
       "      <td>0.388663</td>\n",
       "      <td>0.8440</td>\n",
       "    </tr>\n",
       "    <tr>\n",
       "      <th>2</th>\n",
       "      <td>0.326255</td>\n",
       "      <td>0.87410</td>\n",
       "      <td>0.375393</td>\n",
       "      <td>0.8692</td>\n",
       "    </tr>\n",
       "    <tr>\n",
       "      <th>3</th>\n",
       "      <td>0.270186</td>\n",
       "      <td>0.89725</td>\n",
       "      <td>0.364353</td>\n",
       "      <td>0.8662</td>\n",
       "    </tr>\n",
       "    <tr>\n",
       "      <th>4</th>\n",
       "      <td>0.239385</td>\n",
       "      <td>0.91000</td>\n",
       "      <td>0.331014</td>\n",
       "      <td>0.8790</td>\n",
       "    </tr>\n",
       "    <tr>\n",
       "      <th>5</th>\n",
       "      <td>0.215625</td>\n",
       "      <td>0.92240</td>\n",
       "      <td>0.427226</td>\n",
       "      <td>0.8642</td>\n",
       "    </tr>\n",
       "    <tr>\n",
       "      <th>6</th>\n",
       "      <td>0.212178</td>\n",
       "      <td>0.92425</td>\n",
       "      <td>0.423838</td>\n",
       "      <td>0.8680</td>\n",
       "    </tr>\n",
       "    <tr>\n",
       "      <th>7</th>\n",
       "      <td>0.184396</td>\n",
       "      <td>0.93485</td>\n",
       "      <td>0.828424</td>\n",
       "      <td>0.7682</td>\n",
       "    </tr>\n",
       "    <tr>\n",
       "      <th>8</th>\n",
       "      <td>0.167364</td>\n",
       "      <td>0.94310</td>\n",
       "      <td>0.415904</td>\n",
       "      <td>0.8458</td>\n",
       "    </tr>\n",
       "    <tr>\n",
       "      <th>9</th>\n",
       "      <td>0.152147</td>\n",
       "      <td>0.94670</td>\n",
       "      <td>0.360813</td>\n",
       "      <td>0.8748</td>\n",
       "    </tr>\n",
       "    <tr>\n",
       "      <th>10</th>\n",
       "      <td>0.146621</td>\n",
       "      <td>0.94980</td>\n",
       "      <td>0.390061</td>\n",
       "      <td>0.8430</td>\n",
       "    </tr>\n",
       "    <tr>\n",
       "      <th>11</th>\n",
       "      <td>0.132599</td>\n",
       "      <td>0.95605</td>\n",
       "      <td>0.430292</td>\n",
       "      <td>0.8704</td>\n",
       "    </tr>\n",
       "    <tr>\n",
       "      <th>12</th>\n",
       "      <td>0.122246</td>\n",
       "      <td>0.95765</td>\n",
       "      <td>0.459103</td>\n",
       "      <td>0.8670</td>\n",
       "    </tr>\n",
       "    <tr>\n",
       "      <th>13</th>\n",
       "      <td>0.114557</td>\n",
       "      <td>0.96260</td>\n",
       "      <td>0.411350</td>\n",
       "      <td>0.8664</td>\n",
       "    </tr>\n",
       "    <tr>\n",
       "      <th>14</th>\n",
       "      <td>0.109155</td>\n",
       "      <td>0.96460</td>\n",
       "      <td>0.505419</td>\n",
       "      <td>0.8522</td>\n",
       "    </tr>\n",
       "    <tr>\n",
       "      <th>15</th>\n",
       "      <td>0.103797</td>\n",
       "      <td>0.96515</td>\n",
       "      <td>0.609478</td>\n",
       "      <td>0.8518</td>\n",
       "    </tr>\n",
       "    <tr>\n",
       "      <th>16</th>\n",
       "      <td>0.093019</td>\n",
       "      <td>0.96985</td>\n",
       "      <td>0.440711</td>\n",
       "      <td>0.8678</td>\n",
       "    </tr>\n",
       "    <tr>\n",
       "      <th>17</th>\n",
       "      <td>0.097334</td>\n",
       "      <td>0.96810</td>\n",
       "      <td>0.537484</td>\n",
       "      <td>0.8432</td>\n",
       "    </tr>\n",
       "    <tr>\n",
       "      <th>18</th>\n",
       "      <td>0.086768</td>\n",
       "      <td>0.97210</td>\n",
       "      <td>0.562852</td>\n",
       "      <td>0.8322</td>\n",
       "    </tr>\n",
       "    <tr>\n",
       "      <th>19</th>\n",
       "      <td>0.083145</td>\n",
       "      <td>0.97390</td>\n",
       "      <td>0.558342</td>\n",
       "      <td>0.8228</td>\n",
       "    </tr>\n",
       "  </tbody>\n",
       "</table>\n",
       "</div>"
      ],
      "text/plain": [
       "        loss      acc  val_loss  val_acc\n",
       "0   0.638800  0.63785  0.581218   0.7648\n",
       "1   0.435049  0.82330  0.388663   0.8440\n",
       "2   0.326255  0.87410  0.375393   0.8692\n",
       "3   0.270186  0.89725  0.364353   0.8662\n",
       "4   0.239385  0.91000  0.331014   0.8790\n",
       "5   0.215625  0.92240  0.427226   0.8642\n",
       "6   0.212178  0.92425  0.423838   0.8680\n",
       "7   0.184396  0.93485  0.828424   0.7682\n",
       "8   0.167364  0.94310  0.415904   0.8458\n",
       "9   0.152147  0.94670  0.360813   0.8748\n",
       "10  0.146621  0.94980  0.390061   0.8430\n",
       "11  0.132599  0.95605  0.430292   0.8704\n",
       "12  0.122246  0.95765  0.459103   0.8670\n",
       "13  0.114557  0.96260  0.411350   0.8664\n",
       "14  0.109155  0.96460  0.505419   0.8522\n",
       "15  0.103797  0.96515  0.609478   0.8518\n",
       "16  0.093019  0.96985  0.440711   0.8678\n",
       "17  0.097334  0.96810  0.537484   0.8432\n",
       "18  0.086768  0.97210  0.562852   0.8322\n",
       "19  0.083145  0.97390  0.558342   0.8228"
      ]
     },
     "execution_count": 12,
     "metadata": {},
     "output_type": "execute_result"
    }
   ],
   "source": [
    "training_trajectory = pandas.DataFrame(history.history)\n",
    "training_trajectory"
   ]
  },
  {
   "cell_type": "code",
   "execution_count": 13,
   "metadata": {
    "collapsed": false,
    "pycharm": {
     "name": "#%%\n"
    }
   },
   "outputs": [
    {
     "data": {
      "text/plain": [
       "<AxesSubplot:>"
      ]
     },
     "execution_count": 13,
     "metadata": {},
     "output_type": "execute_result"
    },
    {
     "data": {
      "image/png": "[encoded data removed]",
      "text/plain": [
       "<Figure size 432x288 with 1 Axes>"
      ]
     },
     "metadata": {
      "needs_background": "light"
     },
     "output_type": "display_data"
    }
   ],
   "source": [
    "seaborn.lineplot(data = training_trajectory[['loss', 'val_loss']])"
   ]
  },
  {
   "cell_type": "code",
   "execution_count": 14,
   "metadata": {
    "collapsed": false,
    "pycharm": {
     "name": "#%%\n"
    }
   },
   "outputs": [
    {
     "data": {
      "text/plain": [
       "4"
      ]
     },
     "execution_count": 14,
     "metadata": {},
     "output_type": "execute_result"
    }
   ],
   "source": [
    "best_epoch_id = training_trajectory.val_loss.idxmin()\n",
    "best_epoch_id"
   ]
  },
  {
   "cell_type": "markdown",
   "metadata": {
    "collapsed": false
   },
   "source": [
    "The early divergence of the train and validation curves is a bad sign.\n",
    "\n",
    "For this data set a small epochs is pretty good (using validation loss as the criterion).\n",
    "\n",
    "This is a stong sign of not having enough data for the task of learning the language model/embedding.\n",
    "\n",
    "We will re-run to an early stage and look at our results."
   ]
  },
  {
   "cell_type": "code",
   "execution_count": 15,
   "metadata": {
    "collapsed": false,
    "pycharm": {
     "name": "#%%\n"
    }
   },
   "outputs": [
    {
     "name": "stdout",
     "output_type": "stream",
     "text": [
      "Epoch 1/5\n",
      "79/79 [==============================] - 46s 587ms/step - loss: 0.6928 - acc: 0.5110 - val_loss: 0.6933 - val_acc: 0.4826\n",
      "Epoch 2/5\n",
      "79/79 [==============================] - 48s 602ms/step - loss: 0.6159 - acc: 0.6872 - val_loss: 0.4921 - val_acc: 0.8150\n",
      "Epoch 3/5\n",
      "79/79 [==============================] - 47s 591ms/step - loss: 0.4373 - acc: 0.8211 - val_loss: 0.4866 - val_acc: 0.7940\n",
      "Epoch 4/5\n",
      "79/79 [==============================] - 45s 571ms/step - loss: 0.3620 - acc: 0.8597 - val_loss: 0.4120 - val_acc: 0.8176\n",
      "Epoch 5/5\n",
      "79/79 [==============================] - 46s 576ms/step - loss: 0.2914 - acc: 0.8924 - val_loss: 0.4446 - val_acc: 0.8124\n"
     ]
    },
    {
     "data": {
      "text/plain": [
       "<keras.callbacks.History at 0x7fea11fb1f70>"
      ]
     },
     "execution_count": 15,
     "metadata": {},
     "output_type": "execute_result"
    }
   ],
   "source": [
    "model.set_weights(wts)\n",
    "model.fit(\n",
    "    train_text, \n",
    "    train_target, \n",
    "    epochs=best_epoch_id + 1,\n",
    "    batch_size=256, \n",
    "    validation_split=0.2)"
   ]
  },
  {
   "cell_type": "code",
   "execution_count": 16,
   "metadata": {
    "collapsed": false,
    "pycharm": {
     "name": "#%%\n"
    }
   },
   "outputs": [],
   "source": [
    "# Tensorflow now implements .predict_proba() as .predict()\n",
    "preds_train = pandas.DataFrame(model.predict(train_text))\n",
    "preds_train.columns = [\"prediction\"]\n",
    "preds_train[\"actual\"] = train_target\n"
   ]
  },
  {
   "cell_type": "code",
   "execution_count": 17,
   "metadata": {
    "collapsed": false,
    "pycharm": {
     "name": "#%%\n"
    }
   },
   "outputs": [],
   "source": [
    "preds_test = pandas.DataFrame(model.predict(test_text))\n",
    "preds_test.columns = [\"prediction\"]\n",
    "preds_test[\"actual\"] = test_target\n"
   ]
  },
  {
   "cell_type": "code",
   "execution_count": null,
   "metadata": {
    "collapsed": false,
    "pycharm": {
     "name": "#%%\n"
    }
   },
   "outputs": [],
   "source": []
  },
  {
   "cell_type": "code",
   "execution_count": 18,
   "metadata": {
    "collapsed": false,
    "pycharm": {
     "name": "#%%\n"
    }
   },
   "outputs": [
    {
     "data": {
      "text/plain": [
       "<Figure size 432x288 with 0 Axes>"
      ]
     },
     "metadata": {},
     "output_type": "display_data"
    },
    {
     "data": {
      "image/png": "[encoded data removed]",
      "text/plain": [
       "<Figure size 432x288 with 1 Axes>"
      ]
     },
     "metadata": {
      "needs_background": "light"
     },
     "output_type": "display_data"
    },
    {
     "data": {
      "text/plain": [
       "0.9348840064"
      ]
     },
     "execution_count": 18,
     "metadata": {},
     "output_type": "execute_result"
    }
   ],
   "source": [
    "wvpy.util.plot_roc(\n",
    "    preds_train[\"prediction\"],\n",
    "    preds_train[\"actual\"],\n",
    "    title='training performance')"
   ]
  },
  {
   "cell_type": "code",
   "execution_count": 19,
   "metadata": {
    "collapsed": false,
    "pycharm": {
     "name": "#%%\n"
    }
   },
   "outputs": [
    {
     "data": {
      "image/png": "[encoded data removed]",
      "text/plain": [
       "<Figure size 432x648 with 3 Axes>"
      ]
     },
     "metadata": {
      "needs_background": "light"
     },
     "output_type": "display_data"
    }
   ],
   "source": [
    "wvpy.util.threshold_plot(\n",
    "    preds_train,\n",
    "    pred_var=\"prediction\",\n",
    "    truth_var=\"actual\",\n",
    "    plotvars=('precision', 'recall', 'accuracy'),\n",
    "    title='training performance',\n",
    ")"
   ]
  },
  {
   "cell_type": "code",
   "execution_count": 20,
   "metadata": {
    "collapsed": false,
    "pycharm": {
     "name": "#%%\n"
    }
   },
   "outputs": [
    {
     "data": {
      "text/plain": [
       "0.86144"
      ]
     },
     "execution_count": 20,
     "metadata": {},
     "output_type": "execute_result"
    }
   ],
   "source": [
    "# estimate accuracy on train\n",
    "numpy.mean((preds_train.actual >= 0.5) == (preds_train.prediction >= 0.5))\n"
   ]
  },
  {
   "cell_type": "code",
   "execution_count": 21,
   "metadata": {
    "collapsed": false,
    "pycharm": {
     "name": "#%%\n"
    }
   },
   "outputs": [
    {
     "data": {
      "text/plain": [
       "<Figure size 432x288 with 0 Axes>"
      ]
     },
     "metadata": {},
     "output_type": "display_data"
    },
    {
     "data": {
      "image/png": "[encoded data removed]",
      "text/plain": [
       "<Figure size 432x288 with 1 Axes>"
      ]
     },
     "metadata": {
      "needs_background": "light"
     },
     "output_type": "display_data"
    },
    {
     "data": {
      "text/plain": [
       "0.8831210272000001"
      ]
     },
     "execution_count": 21,
     "metadata": {},
     "output_type": "execute_result"
    }
   ],
   "source": [
    "wvpy.util.plot_roc(\n",
    "    preds_test[\"prediction\"],\n",
    "    preds_test[\"actual\"],\n",
    "    title='test performance')"
   ]
  },
  {
   "cell_type": "code",
   "execution_count": 22,
   "metadata": {
    "collapsed": false,
    "pycharm": {
     "name": "#%%\n"
    }
   },
   "outputs": [
    {
     "data": {
      "image/png": "[encoded data removed]",
      "text/plain": [
       "<Figure size 432x648 with 3 Axes>"
      ]
     },
     "metadata": {
      "needs_background": "light"
     },
     "output_type": "display_data"
    }
   ],
   "source": [
    "wvpy.util.threshold_plot(\n",
    "    preds_test,\n",
    "    pred_var=\"prediction\",\n",
    "    truth_var=\"actual\",\n",
    "    plotvars=('precision', 'recall', 'accuracy'),\n",
    "    title='test performance',\n",
    ")"
   ]
  },
  {
   "cell_type": "code",
   "execution_count": 23,
   "metadata": {
    "collapsed": false,
    "pycharm": {
     "name": "#%%\n"
    }
   },
   "outputs": [
    {
     "data": {
      "text/plain": [
       "0.79748"
      ]
     },
     "execution_count": 23,
     "metadata": {},
     "output_type": "execute_result"
    }
   ],
   "source": [
    "# estimate accuracy on test\n",
    "numpy.mean((preds_test.actual >= 0.5) == (preds_test.prediction >= 0.5))\n"
   ]
  },
  {
   "cell_type": "code",
   "execution_count": 24,
   "metadata": {
    "collapsed": false,
    "pycharm": {
     "name": "#%%\n"
    }
   },
   "outputs": [
    {
     "data": {
      "text/plain": [
       "0.77008"
      ]
     },
     "execution_count": 24,
     "metadata": {},
     "output_type": "execute_result"
    }
   ],
   "source": [
    "# accuracy at another threshold\n",
    "numpy.mean((preds_test.actual >= 0.3) == (preds_test.prediction >= 0.3))"
   ]
  },
  {
   "cell_type": "code",
   "execution_count": null,
   "metadata": {
    "collapsed": false,
    "pycharm": {
     "name": "#%%\n"
    }
   },
   "outputs": [],
   "source": []
  }
 ],
 "metadata": {
  "kernelspec": {
   "display_name": "Python 3",
   "language": "python",
   "name": "python3"
  },
  "language_info": {
   "codemirror_mode": {
    "name": "ipython",
    "version": 3
   },
   "file_extension": ".py",
   "mimetype": "text/x-python",
   "name": "python",
   "nbconvert_exporter": "python",
   "pygments_lexer": "ipython3",
   "version": "3.9.7"
  }
 },
 "nbformat": 4,
 "nbformat_minor": 0
}
