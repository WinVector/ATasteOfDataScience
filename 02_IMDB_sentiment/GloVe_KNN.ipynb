{
 "cells": [
  {
   "cell_type": "markdown",
   "source": [
    "Text embeddings are maps from words to vectors of numbers. The design goal is: words with *similar* meaning should map to vectors that are *near* each other.\n",
    "\n",
    "This allows very powerful models to be build quickly.\n",
    "\n",
    "In this notebook we will take a quick look at:\n",
    "\n",
    "> GloVe: Global Vectors for Word Representation Jeffrey Pennington, Richard Socher, Christopher D. Manning\n",
    "\n",
    "[https://nlp.stanford.edu/projects/glove/](https://nlp.stanford.edu/projects/glove/)\n",
    "\n",
    "One of the earliest embeddings was word2vec, and modern systems such as Bert and GPT3 are based on related mapping and memorization concepts."
   ],
   "metadata": {
    "collapsed": false,
    "pycharm": {
     "name": "#%% md\n"
    }
   }
  },
  {
   "cell_type": "code",
   "execution_count": 1,
   "outputs": [],
   "source": [
    "import os\n",
    "import sys"
   ],
   "metadata": {
    "collapsed": false,
    "pycharm": {
     "name": "#%%\n"
    }
   }
  },
  {
   "cell_type": "code",
   "execution_count": 2,
   "metadata": {
    "collapsed": true
   },
   "outputs": [],
   "source": [
    "sys.path.append('.')\n",
    "sys.path.append('../data/GloVe')\n",
    "from GloVe_tools import scan_for_knn, GloveKNN"
   ]
  },
  {
   "cell_type": "code",
   "execution_count": 3,
   "outputs": [],
   "source": [
    "glove_path = '../data/GloVe/glove.840B.300d.zip'\n",
    "k = 5"
   ],
   "metadata": {
    "collapsed": false,
    "pycharm": {
     "name": "#%%\n"
    }
   }
  },
  {
   "cell_type": "code",
   "execution_count": 4,
   "outputs": [],
   "source": [
    "code, neighbors = scan_for_knn(\n",
    "    glove_path=glove_path,\n",
    "    k=k,\n",
    "    vec_key='awful')"
   ],
   "metadata": {
    "collapsed": false,
    "pycharm": {
     "name": "#%%\n"
    }
   }
  },
  {
   "cell_type": "code",
   "execution_count": 5,
   "outputs": [
    {
     "data": {
      "text/plain": "array([-3.5771e-01,  1.3224e-01, -1.2629e-01,  1.9399e-02, -1.2629e-01,\n        6.7209e-02,  5.5793e-01, -2.2874e-01,  7.2385e-02,  2.1437e+00,\n        1.8868e-01,  1.4195e-02, -1.6686e-01, -1.1108e-02, -1.4443e-01,\n        8.2411e-02, -1.0485e-01,  6.8161e-02,  1.7655e-01, -1.2898e-01,\n        2.8546e-02,  2.7927e-02, -1.8166e-01, -1.1873e-01, -1.9247e-01,\n       -1.5619e-01, -2.8282e-01, -2.8844e-01,  8.0158e-02, -2.6151e-01,\n       -2.7874e-01, -1.1319e-01, -4.1970e-01,  5.6307e-02, -1.4667e-01,\n        2.6969e-01,  1.1773e-01,  1.8393e-01, -2.1825e-01,  4.8422e-01,\n        3.8373e-01, -6.3800e-02, -4.5418e-01,  3.1067e-01,  1.8604e-01,\n       -1.6346e-01, -4.0040e-01,  5.3268e-01,  1.6649e-02, -1.2839e-01,\n        1.0279e-01,  4.9500e-01,  2.4030e-01,  9.1514e-02,  1.1895e-01,\n       -5.5230e-02, -5.5255e-02, -1.0431e-01,  1.3750e-02, -4.3006e-02,\n       -3.2369e-02, -2.7714e-01, -2.0849e-01, -1.4907e-01,  3.9801e-02,\n        1.2099e-01, -4.6359e-02, -3.4227e-01,  1.5219e-01,  2.0434e-01,\n        5.5631e-01,  9.5168e-02,  3.4464e-01, -2.6341e-02,  1.9802e-01,\n        3.4861e-01, -7.3860e-02, -1.9360e-01, -2.5184e-01,  3.3585e-01,\n       -3.4532e-01, -1.8976e-03,  3.3762e-01, -1.2066e-01,  6.4836e-02,\n       -1.8061e-01,  3.2681e-01, -2.7741e-01, -2.6940e-01, -4.0368e-01,\n       -2.3865e-01,  9.2844e-02, -3.5687e-01,  1.2956e-01,  3.9321e-01,\n        4.8999e-02,  2.6919e-02,  1.4754e-01,  4.4134e-01, -1.9076e-01,\n       -1.0390e-01, -2.8298e-01, -7.7009e-02, -1.0803e-02,  5.6800e-01,\n       -1.1089e+00, -2.3667e-01,  2.0042e-01,  5.4564e-02, -5.7572e-01,\n       -5.6242e-02, -3.6696e-02,  2.5336e-02, -2.3343e-01, -4.0417e-01,\n       -2.5326e-02, -1.8703e-01, -1.4255e-01,  1.5224e-02, -3.4673e-01,\n        1.6234e-01,  1.3176e-01, -4.0626e-01, -1.9686e-01, -2.0378e-01,\n       -1.0392e-01, -8.9895e-02, -1.1109e-01,  9.2873e-02, -1.1285e-01,\n        1.0533e-01, -1.3032e-01,  3.6185e-01,  4.5225e-01, -6.2886e-02,\n       -1.2203e-01, -7.6142e-01,  3.0565e-01,  1.5685e-01, -1.3022e-01,\n       -2.5942e+00,  4.5610e-01,  3.1904e-01,  2.1192e-01, -4.4140e-02,\n       -1.1641e-02, -3.6970e-01, -7.9785e-02,  3.9761e-01, -3.4240e-01,\n        1.3820e-01, -4.9601e-02,  2.0961e-01,  1.1950e-01,  2.1449e-01,\n       -2.5298e-01, -3.1411e-01, -2.4378e-01,  2.5143e-01, -3.6949e-01,\n       -4.3261e-01, -5.1505e-01,  4.1432e-01,  5.5217e-02, -4.2801e-02,\n        2.6954e-02,  1.0363e-01,  5.8687e-02, -2.2545e-01, -5.9970e-01,\n       -3.8936e-01, -6.8098e-02,  3.5572e-01, -1.3481e-01,  3.0798e-01,\n       -1.6796e-01, -3.9685e-01, -1.3449e-02, -1.5249e-02, -1.5468e-01,\n       -3.4285e-01, -5.9780e-01, -4.8686e-01,  5.5070e-01,  6.5710e-02,\n        7.3584e-03,  9.2253e-02, -1.8756e-01,  2.5229e-01,  2.8070e-01,\n        5.4951e-01, -6.4729e-03,  2.3699e-02,  2.0405e-01, -4.1070e-01,\n       -2.3946e-01,  3.0614e-02, -7.7738e-02, -3.5779e-01,  1.0174e-01,\n        2.8327e-01,  1.6770e-01, -1.5114e-01, -2.3366e-02, -9.6326e-02,\n       -1.5375e-01, -9.9967e-03,  1.2998e-01,  9.2312e-02,  5.1821e-01,\n        2.2644e-01,  1.8992e-01,  3.6876e-01,  2.4888e-02, -3.4917e-01,\n        4.0040e-02,  3.1002e-01,  1.9312e-02, -3.6659e-01, -2.3152e-01,\n       -1.2779e-01,  7.4347e-02, -4.3154e-01, -1.1328e-01,  1.2856e-01,\n       -2.5762e-01, -1.4309e-01, -2.1141e-01, -3.4836e-01, -3.0158e-01,\n        3.2462e-02,  8.7646e-02,  6.4560e-02,  2.4073e-01,  2.1633e-01,\n       -1.5060e-01,  3.2699e-01, -2.9531e-01,  3.7669e-02, -7.3590e-02,\n       -2.1781e-01,  1.8870e-01, -1.6280e-01,  2.8708e-01, -2.9309e-01,\n        1.0354e-01,  3.0717e-01, -6.3490e-01,  1.4206e-01,  4.1288e-01,\n       -1.2967e-01, -3.7523e-01,  4.3801e-01, -2.3396e-01, -3.6995e-01,\n       -2.5821e-01, -7.2269e-02,  1.9644e-01,  1.1687e-01,  4.1848e-01,\n       -2.7531e-01, -8.0576e-02,  1.8392e-01, -1.4791e-01,  3.0772e-01,\n        2.7303e-01, -7.2995e-03,  1.4673e-02,  5.3943e-01,  3.1853e-01,\n       -3.1074e-02, -7.4323e-02,  1.1189e-01, -3.5397e-01, -7.0878e-01,\n       -3.1155e-02,  1.3704e-01, -2.2063e-01,  3.6282e-02,  1.4065e-01,\n        1.6040e-01,  1.9668e-01, -2.0837e-01, -1.3928e-01, -3.6000e-01,\n        1.6252e-01,  2.4286e-02, -2.0848e-01,  2.8569e-01,  4.8603e-02,\n       -9.1032e-02,  4.6395e-01,  3.3962e-04,  1.3345e-01,  1.5035e-01,\n        4.6751e-01,  6.2655e-02, -2.4220e-02,  4.6739e-03,  9.9248e-02])"
     },
     "execution_count": 5,
     "metadata": {},
     "output_type": "execute_result"
    }
   ],
   "source": [
    "code"
   ],
   "metadata": {
    "collapsed": false,
    "pycharm": {
     "name": "#%%\n"
    }
   }
  },
  {
   "cell_type": "code",
   "execution_count": 6,
   "outputs": [
    {
     "data": {
      "text/plain": "{'terrible': 5.781587394434634,\n 'horrible': 5.9903435930876885,\n 'dreadful': 10.75734373694929,\n 'horrendous': 12.032913736421703,\n 'horrid': 8.202688529045705}"
     },
     "execution_count": 6,
     "metadata": {},
     "output_type": "execute_result"
    }
   ],
   "source": [
    "neighbors"
   ],
   "metadata": {
    "collapsed": false,
    "pycharm": {
     "name": "#%%\n"
    }
   }
  },
  {
   "cell_type": "code",
   "execution_count": 7,
   "outputs": [
    {
     "data": {
      "text/plain": "['awful', 'terrible', 'horrible', 'horrid', 'dreadful', 'horrendous']"
     },
     "execution_count": 7,
     "metadata": {},
     "output_type": "execute_result"
    }
   ],
   "source": [
    "# similar calculation using sklearn KNN code in memory\n",
    "# needs about 20GB GB of ram\n",
    "nbhds = GloveKNN(glove_path=glove_path, k = k + 1)\n",
    "nbhds.kneighbors_k('awful')"
   ],
   "metadata": {
    "collapsed": false,
    "pycharm": {
     "name": "#%%\n"
    }
   }
  },
  {
   "cell_type": "code",
   "execution_count": 8,
   "outputs": [
    {
     "data": {
      "text/plain": "['plot', 'plots', 'plotting', 'Plot', 'plotline', 'storyline']"
     },
     "execution_count": 8,
     "metadata": {},
     "output_type": "execute_result"
    }
   ],
   "source": [
    "nbhds.kneighbors_k('plot')"
   ],
   "metadata": {
    "collapsed": false,
    "pycharm": {
     "name": "#%%\n"
    }
   }
  },
  {
   "cell_type": "code",
   "execution_count": 9,
   "outputs": [
    {
     "data": {
      "text/plain": "['actor', 'actors', 'Actor', 'actress', 'starred', 'starring']"
     },
     "execution_count": 9,
     "metadata": {},
     "output_type": "execute_result"
    }
   ],
   "source": [
    "nbhds.kneighbors_k('actor')"
   ],
   "metadata": {
    "collapsed": false,
    "pycharm": {
     "name": "#%%\n"
    }
   }
  }
 ],
 "metadata": {
  "kernelspec": {
   "name": "python3",
   "language": "python",
   "display_name": "Python 3 (ipykernel)"
  },
  "language_info": {
   "codemirror_mode": {
    "name": "ipython",
    "version": 2
   },
   "file_extension": ".py",
   "mimetype": "text/x-python",
   "name": "python",
   "nbconvert_exporter": "python",
   "pygments_lexer": "ipython2",
   "version": "2.7.6"
  }
 },
 "nbformat": 4,
 "nbformat_minor": 0
}