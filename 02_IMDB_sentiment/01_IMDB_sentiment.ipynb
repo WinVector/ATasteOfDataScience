{
 "cells": [
  {
   "cell_type": "markdown",
   "metadata": {
    "pycharm": {
     "name": "#%% md\n"
    }
   },
   "source": [
    "In this worksheet we will demonstrate learning sentiment extraction from text.\n",
    "\n",
    "The dataset is the IDMB sentiment set where items were annotated by taggers as to if the text appeared to be expressing a positive or negative sentiment. This data set was produced by and used in:\n",
    "\n",
    "> Andrew L. Maas, Raymond E. Daly, Peter T. Pham, Dan Huang, Andrew Y. Ng, and Christopher Potts. (2011). Learning Word Vectors for Sentiment Analysis. The 49th Annual Meeting of the Association for Computational Linguistics (ACL 2011).\n",
    "\n",
    "The data can be found here: [https://ai.stanford.edu/~amaas/data/sentiment/](https://ai.stanford.edu/~amaas/data/sentiment/).\n",
    "\n",
    "In our example we will use the GloVe embedding as our language model and Keras as our neural net software. The neural net architecture we are specifying is essentially a logistic regression over an average meaning of neighboring triplets of words in a document. The idea is: positive sentiment documents are often mostly positive utterances, and negative sentiment documents are often mostly negative utterances. We hope the non-sentiment carrying portions are largely ignored by the model."
   ]
  },
  {
   "cell_type": "code",
   "execution_count": 1,
   "metadata": {},
   "outputs": [],
   "source": [
    "# ensure plots print without needing to call show()\n",
    "%matplotlib inline"
   ]
  },
  {
   "cell_type": "code",
   "execution_count": 2,
   "metadata": {
    "collapsed": false,
    "jupyter": {
     "outputs_hidden": false
    },
    "pycharm": {
     "name": "#%%\n"
    }
   },
   "outputs": [],
   "source": [
    "# import our packages\n",
    "import pandas\n",
    "import numpy\n",
    "import os\n",
    "import gzip\n",
    "import sys\n",
    "import pickle\n",
    "import textwrap\n",
    "\n",
    "import wvpy.util\n",
    "\n",
    "import matplotlib.pyplot as plt\n",
    "import seaborn as sns\n",
    "from sklearn.pipeline import make_pipeline"
   ]
  },
  {
   "cell_type": "code",
   "execution_count": 3,
   "metadata": {},
   "outputs": [],
   "source": [
    "# set up Keras imports, this can be brittle\n",
    "# no longer import keras, import tensorflow.keras\n",
    "import tensorflow.keras as keras\n",
    "# https://github.com/keras-team/keras/issues/12379#issuecomment-473823330\n",
    "from tensorflow.keras import *\n",
    "# https://www.tensorflow.org/api_docs/python/tf/keras/layers/Conv2D\n",
    "from tensorflow.keras.layers import *\n",
    "#from keras.layers import Input,Conv2D,MaxPooling2D,UpSampling2D\n",
    "#from keras.models import Model\n",
    "#from keras.optimizers import RMSprop\n",
    "# https://www.tensorflow.org/api_docs/python/tf/keras/optimizers/RMSprop\n",
    "from tensorflow.keras.optimizers import *"
   ]
  },
  {
   "cell_type": "code",
   "execution_count": 4,
   "metadata": {},
   "outputs": [],
   "source": [
    "# get our data and language model through data adaptors\n",
    "sys.path.append('.')\n",
    "# put data load on our path\n",
    "sys.path.append('../data/IMDB')\n",
    "from load_IMDB import load_IMDB\n",
    "sys.path.append('../data/GloVe')\n",
    "from document_encoder import GloveEncoder"
   ]
  },
  {
   "cell_type": "code",
   "execution_count": 5,
   "metadata": {
    "collapsed": false,
    "jupyter": {
     "outputs_hidden": false
    },
    "pycharm": {
     "name": "#%%\n"
    }
   },
   "outputs": [],
   "source": [
    "# load the IMDB data\n",
    "train_data, test_data = load_IMDB()"
   ]
  },
  {
   "cell_type": "code",
   "execution_count": 6,
   "metadata": {
    "collapsed": false,
    "jupyter": {
     "outputs_hidden": false
    },
    "pycharm": {
     "name": "#%%\n"
    }
   },
   "outputs": [
    {
     "data": {
      "text/plain": [
       "25000"
      ]
     },
     "execution_count": 6,
     "metadata": {},
     "output_type": "execute_result"
    }
   ],
   "source": [
    "# show how many training examples\n",
    "len(train_data.data)"
   ]
  },
  {
   "cell_type": "code",
   "execution_count": 7,
   "metadata": {
    "collapsed": false,
    "jupyter": {
     "outputs_hidden": false
    },
    "pycharm": {
     "name": "#%%\n"
    }
   },
   "outputs": [
    {
     "data": {
      "text/plain": [
       "25000"
      ]
     },
     "execution_count": 7,
     "metadata": {},
     "output_type": "execute_result"
    }
   ],
   "source": [
    "# show how many test examples\n",
    "len(test_data.data)\n"
   ]
  },
  {
   "cell_type": "code",
   "execution_count": 8,
   "metadata": {
    "collapsed": false,
    "jupyter": {
     "outputs_hidden": false
    },
    "pycharm": {
     "name": "#%%\n"
    }
   },
   "outputs": [],
   "source": [
    "# load the glove vectors we need, uses about 4GB of memory\n",
    "glove_path = '../data/GloVe/glove.840B.300d.zip'\n",
    "k = 3  # how many neighboring words to model\n",
    "encoder = GloveEncoder(\n",
    "    glove_path=glove_path,\n",
    "    k=k,\n",
    ")"
   ]
  },
  {
   "cell_type": "markdown",
   "metadata": {
    "pycharm": {
     "name": "#%% md\n"
    }
   },
   "source": [
    "As a digression let's talk about the tokenization phase of our text processing solution."
   ]
  },
  {
   "cell_type": "code",
   "execution_count": 9,
   "metadata": {
    "collapsed": false,
    "jupyter": {
     "outputs_hidden": false
    },
    "pycharm": {
     "name": "#%%\n"
    }
   },
   "outputs": [],
   "source": [
    "# train the encoder on what words it is to recognize\n",
    "encoder.fit(X=train_data.data)\n",
    "\n",
    "# pull out tokenizer and code_book so we can look at them\n",
    "tokenizer = encoder.tokenizer\n",
    "code_book = encoder.code_book"
   ]
  },
  {
   "cell_type": "markdown",
   "metadata": {
    "pycharm": {
     "name": "#%% md\n"
    }
   },
   "source": [
    "The encoder maps strings into sequences of integer token ids."
   ]
  },
  {
   "cell_type": "code",
   "execution_count": 10,
   "metadata": {
    "collapsed": false,
    "jupyter": {
     "outputs_hidden": false
    },
    "pycharm": {
     "name": "#%%\n"
    }
   },
   "outputs": [
    {
     "data": {
      "text/plain": [
       "[10, 421, 1, 62]"
      ]
     },
     "execution_count": 10,
     "metadata": {},
     "output_type": "execute_result"
    }
   ],
   "source": [
    "txt = \"I liked the story!\"\n",
    "\n",
    "toks = tokenizer.texts_to_sequences([txt])[0]\n",
    "\n",
    "toks"
   ]
  },
  {
   "cell_type": "markdown",
   "metadata": {
    "pycharm": {
     "name": "#%% md\n"
    }
   },
   "source": [
    "We can invert the map to recover the canonicalized words the token ids represent."
   ]
  },
  {
   "cell_type": "code",
   "execution_count": 11,
   "metadata": {
    "collapsed": false,
    "jupyter": {
     "outputs_hidden": false
    },
    "pycharm": {
     "name": "#%%\n"
    }
   },
   "outputs": [
    {
     "data": {
      "text/plain": [
       "['i', 'liked', 'the', 'story']"
      ]
     },
     "execution_count": 11,
     "metadata": {},
     "output_type": "execute_result"
    }
   ],
   "source": [
    "[tokenizer.index_word[t] for t in toks]"
   ]
  },
  {
   "cell_type": "markdown",
   "metadata": {
    "pycharm": {
     "name": "#%% md\n"
    }
   },
   "source": [
    "With that in had, let's look at the procedure applied to our training data."
   ]
  },
  {
   "cell_type": "code",
   "execution_count": 12,
   "metadata": {
    "collapsed": false,
    "jupyter": {
     "outputs_hidden": false
    },
    "pycharm": {
     "name": "#%%\n"
    }
   },
   "outputs": [
    {
     "data": {
      "text/plain": [
       "['Its not the cast. A finer group of actors, you could not find. Its not',\n",
       " 'the setting. The director is in love with New York City, and by the',\n",
       " 'end of the film, so are we all! Woody Allen could not improve upon',\n",
       " 'what Bogdonovich has done here. If you are going to fall in love, or',\n",
       " 'find love, Manhattan is the place to go. No, the problem with the',\n",
       " 'movie is the script. There is none. The actors fall in love at first',\n",
       " \"sight, words are unnecessary. In the director's own experience in\",\n",
       " 'Hollywood that is what happens when they go to work on the set. It is',\n",
       " 'reality to him, and his peers, but it is a fantasy to most of us in',\n",
       " 'the real world. So, in the end, the movie is hollow, and shallow, and',\n",
       " 'message-less.']"
      ]
     },
     "execution_count": 12,
     "metadata": {},
     "output_type": "execute_result"
    }
   ],
   "source": [
    "# a data item\n",
    "train_example_id = 13\n",
    "textwrap.wrap(\n",
    "    train_data.data[train_example_id])"
   ]
  },
  {
   "cell_type": "code",
   "execution_count": 13,
   "metadata": {
    "collapsed": false,
    "jupyter": {
     "outputs_hidden": false
    },
    "pycharm": {
     "name": "#%%\n"
    }
   },
   "outputs": [
    {
     "data": {
      "text/plain": [
       "0"
      ]
     },
     "execution_count": 13,
     "metadata": {},
     "output_type": "execute_result"
    }
   ],
   "source": [
    "# the sentiment, 1 is positive, 0 is negative\n",
    "train_data.target[train_example_id]"
   ]
  },
  {
   "cell_type": "code",
   "execution_count": 14,
   "metadata": {},
   "outputs": [
    {
     "data": {
      "text/plain": [
       "array([[  91,   21,    1,  174,    3,  601,    4,  153,   22,   97,   21,\n",
       "         166,   91,   21,    1,  954,    1,  164,    6,    8,  116,   16,\n",
       "         159,  779,  540,    2,   31,    1,  127,    4,    1,   19,   35,\n",
       "          23,   72,   29, 2290, 1598,   97,   21, 4381,  722,   48,   45,\n",
       "         221,  130,   44,   22,   23,  167,    5,  804,    8,  116,   39,\n",
       "         166,  116, 3736,    6,    1,  270,    5,  137,   54,    1,  436,\n",
       "          16,    1,   17,    6,    1,  226,   47,    6,  597,    1,  153,\n",
       "         804,    8,  116,   30,   83, 1679,  712,   23, 1740,    8,    1,\n",
       "        2024,  202,  581,    8,  359,   12,    6,   48,  567,   51,   33,\n",
       "         137,    5,  154,   20,    1,  267,    9,    6,  632,    5,   87,\n",
       "           2,   24, 8174,   18,    9,    6,    3,  936,    5,   88,    4,\n",
       "         175,    8,    1,  144,  179,   35,    8,    1,  127,    1,   17,\n",
       "           6, 4078,    2, 2007,    2,  746,  326]])"
      ]
     },
     "execution_count": 14,
     "metadata": {},
     "output_type": "execute_result"
    }
   ],
   "source": [
    "example_toks = tokenizer.texts_to_sequences(\n",
    "    [train_data.data[train_example_id]])\n",
    "\n",
    "numpy.array(example_toks)"
   ]
  },
  {
   "cell_type": "code",
   "execution_count": 15,
   "metadata": {},
   "outputs": [
    {
     "data": {
      "text/plain": [
       "['its not the cast a group of actors you could not find its not the',\n",
       " 'setting the director is in love with new york city and by the end of',\n",
       " 'the film so are we all woody allen could not improve upon what has',\n",
       " 'done here if you are going to fall in love or find love manhattan is',\n",
       " 'the place to go no the problem with the movie is the script there is',\n",
       " 'none the actors fall in love at first sight words are unnecessary in',\n",
       " \"the director's own experience in hollywood that is what happens when\",\n",
       " 'they go to work on the set it is reality to him and his peers but it',\n",
       " 'is a fantasy to most of us in the real world so in the end the movie',\n",
       " 'is hollow and shallow and message less']"
      ]
     },
     "execution_count": 15,
     "metadata": {},
     "output_type": "execute_result"
    }
   ],
   "source": [
    "textwrap.wrap(\n",
    "    tokenizer.sequences_to_texts(example_toks)[0])"
   ]
  },
  {
   "cell_type": "markdown",
   "metadata": {
    "pycharm": {
     "name": "#%% md\n"
    }
   },
   "source": [
    "A *very* important point is: we *must* save and share the tokenizer used during model construction. All of the model is in terms of the arbitrary token coding scheme built during training. We can *not* re-fit the tokenizer on new data, as that gives a different codebook that looks like gibberish with respect to the model. Also we need to transport code and data artifacts such as the GloVe embedding data, which we didn't produce, and the GloVe adaptor. Code can be stereotyped to a few re-usable pre-supplied themes (so one does not have to support arbitrary code execution), data is going to always be unique.\n",
    "\n",
    "An example of what goes wrong when we think we can re-fit is shown below."
   ]
  },
  {
   "cell_type": "code",
   "execution_count": 16,
   "metadata": {
    "collapsed": false,
    "jupyter": {
     "outputs_hidden": false
    },
    "pycharm": {
     "name": "#%%\n"
    }
   },
   "outputs": [],
   "source": [
    "# fit a new tokenizer on a new data set (bad!)\n",
    "tokenizer_2 = keras.preprocessing.text.Tokenizer(num_words=10000)\n",
    "tokenizer_2.fit_on_texts(test_data.data)"
   ]
  },
  {
   "cell_type": "code",
   "execution_count": 17,
   "metadata": {
    "collapsed": false,
    "jupyter": {
     "outputs_hidden": false
    },
    "pycharm": {
     "name": "#%%\n"
    }
   },
   "outputs": [
    {
     "data": {
      "text/plain": [
       "array([[  93,   22,    1,  179,    3,  496,    4,  151,   21,   98,   22,\n",
       "         164,   93,   22,    1,  944,    1,  167,    6,    8,  110,   16,\n",
       "         173,  988,  533,    2,   31,    1,  129,    4,    1,   19,   34,\n",
       "          23,   73,   30, 4617, 2932,   98,   22, 4429,  645,   48,   45,\n",
       "         217,  135,   40,   21,   23,  165,    5,  765,    8,  110,   38,\n",
       "         164,  110, 4541,    6,    1,  281,    5,  139,   54,    1,  459,\n",
       "          16,    1,   15,    6,    1,  230,   46,    6,  643,    1,  151,\n",
       "         765,    8,  110,   29,   88, 1691,  640,   23, 1942,    8,    1,\n",
       "        1720,  202,  534,    8,  375,   12,    6,   48,  537,   50,   33,\n",
       "         139,    5,  159,   20,    1,  275,   10,    6,  603,    5,   85,\n",
       "           2,   24, 7580,   18,   10,    6,    3, 1152,    5,   87,    4,\n",
       "         180,    8,    1,  144,  183,   34,    8,    1,  129,    1,   15,\n",
       "           6, 4767,    2, 2240,    2,  752,  361]])"
      ]
     },
     "execution_count": 17,
     "metadata": {},
     "output_type": "execute_result"
    }
   ],
   "source": [
    "# re-fit tokenizer assigns wrong symbols\n",
    "mis_tokens = tokenizer_2.texts_to_sequences(\n",
    "    [train_data.data[train_example_id]])\n",
    "\n",
    "numpy.array(mis_tokens)"
   ]
  },
  {
   "cell_type": "code",
   "execution_count": 18,
   "metadata": {
    "collapsed": false,
    "jupyter": {
     "outputs_hidden": false
    },
    "pycharm": {
     "name": "#%%\n"
    }
   },
   "outputs": [
    {
     "data": {
      "text/plain": [
       "['way you the world a side of old not any you director way you the mess',\n",
       " 'the going is in life with lot masterpiece thinking and by the man of',\n",
       " 'the film who are much at progresses alas any you nervous body what has',\n",
       " 'almost why just not are look to team in life her director life ballet',\n",
       " 'is the actor to something no the laugh with the for is the guy some is',\n",
       " 'started the old team in life all most began somewhat are sing in the',\n",
       " 'filmmaker own stories in stupid that is what obviously more they',\n",
       " 'something to new on the money i is simple to because and his insert',\n",
       " 'but i is a younger to him of things in the real seems who in the man',\n",
       " 'the for is capital and portrays and sequel low']"
      ]
     },
     "execution_count": 18,
     "metadata": {},
     "output_type": "execute_result"
    }
   ],
   "source": [
    "# this is the text we would think we are processing\n",
    "# if we re-fit the tokenizer\n",
    "# notice it is word salad,\n",
    "# we can't understand it and neither will our model\n",
    "textwrap.wrap(\n",
    "    tokenizer.sequences_to_texts(mis_tokens)[0]\n",
    ")"
   ]
  },
  {
   "cell_type": "markdown",
   "metadata": {},
   "source": [
    "In our scheme, a fully encoded document looks like this."
   ]
  },
  {
   "cell_type": "code",
   "execution_count": 19,
   "metadata": {},
   "outputs": [
    {
     "data": {
      "text/plain": [
       "array([-6.14060000e-02,  3.50616667e-01,  5.17014333e-02,  2.24103333e-01,\n",
       "        1.09500000e-01, -4.80676667e-02, -1.13890000e-01, -2.70980000e-01,\n",
       "       -5.28766667e-02,  2.47863333e+00, -1.49780233e-01,  4.30063333e-02,\n",
       "       -9.99966667e-02,  3.04825000e-02,  1.27700000e-03, -2.36230167e-01,\n",
       "       -6.11183333e-02,  1.40200000e+00, -1.39996333e-01, -1.81069000e-01,\n",
       "       -1.39186667e-01, -2.50100000e-01, -6.89600000e-02,  9.67114333e-02,\n",
       "        6.19533333e-02,  9.04513333e-02, -6.77140000e-02, -1.28766667e-02,\n",
       "       -1.97907000e-01, -6.05586667e-02,  2.29886667e-02,  2.46019000e-01,\n",
       "        7.25926667e-02, -1.46290000e-02, -2.58800000e-02, -1.35238880e-01,\n",
       "        1.49238333e-02, -3.03403333e-01,  4.93232100e-02, -4.37443333e-01,\n",
       "        1.93930000e-01,  2.44993333e-01,  5.93866667e-02, -2.54779333e-01,\n",
       "       -3.11266667e-02,  5.80730000e-02, -2.14843667e-01, -7.98480000e-02,\n",
       "       -1.80843333e-01,  9.90423333e-02, -1.61794333e-01,  1.36632667e-01,\n",
       "       -7.10450000e-02, -5.22634000e-02,  2.01924000e-01,  5.82653333e-02,\n",
       "        7.25075333e-02, -8.61840000e-02,  8.32666667e-02, -1.35076667e-01,\n",
       "       -1.01116267e-01, -3.95473333e-02, -6.52800000e-02,  2.21906667e-01,\n",
       "        9.44703333e-02, -2.79713667e-01, -1.28926667e-02, -1.48646000e-01,\n",
       "       -9.17100000e-02,  1.07966667e-01, -6.93800000e-02, -3.03666667e-03,\n",
       "        1.47544800e-01, -2.23050000e-01, -2.34660000e-02, -1.04190000e-02,\n",
       "       -1.02933333e-03, -9.63440000e-02, -4.85986667e-01,  5.19003333e-01,\n",
       "        1.05179333e-01,  7.41903333e-02, -6.69690000e-02,  2.67086667e-01,\n",
       "        1.88494333e-01, -4.49473333e-01, -3.78373667e-01, -1.63216667e-01,\n",
       "        2.77760000e-01, -2.67133333e-01, -1.99006667e-01,  3.93936667e-01,\n",
       "       -9.90000000e-03,  1.98033333e-02,  4.09466667e-03,  9.20550000e-02,\n",
       "       -2.76284000e-01, -1.28198667e-01,  8.55103333e-02,  6.45000000e-02,\n",
       "        9.06645667e-02, -6.03021667e-02, -2.47132667e-01,  4.23096667e-02,\n",
       "        4.40620000e-02, -7.31216667e-01,  9.26783333e-02,  1.40751667e-01,\n",
       "        1.25143667e-01, -1.98556000e-01,  1.71633333e-02, -1.27412000e-01,\n",
       "       -1.40230000e-01,  8.70626233e-02, -2.16464333e-01,  2.00736667e-01,\n",
       "       -3.45940000e-01,  2.30356667e-01, -1.04466667e-02, -7.00310000e-02,\n",
       "       -2.64903000e-01, -7.58146667e-02,  1.37423667e-01, -2.05993333e-01,\n",
       "       -8.93956667e-02,  7.86651000e-02, -2.89390000e-01, -3.78546667e-01,\n",
       "       -9.36156667e-02, -1.66120000e-01, -7.41056667e-02, -2.31722333e-01,\n",
       "       -1.50202000e-01,  7.41966667e-02,  1.79622000e-01, -1.77694367e-01,\n",
       "       -1.72776333e-01, -9.65880000e-02,  1.14558667e-01, -2.94431667e-01,\n",
       "       -1.05118667e+00,  1.80296667e-01,  1.56418000e-01,  1.54072667e-01,\n",
       "       -1.63820000e-02, -3.77090000e-01,  9.66133333e-02, -1.35473333e-01,\n",
       "        3.53053333e-01, -8.09766667e-02, -2.87300000e-02,  1.59073000e-01,\n",
       "        1.63496667e-01, -1.10002000e-01,  2.85254600e-01,  4.52016667e-02,\n",
       "       -2.90080667e-01, -1.47024333e-01, -2.96936667e-01, -1.61603333e-01,\n",
       "       -1.14273333e-01,  1.44450000e-02,  2.46593333e-02, -3.49693333e-02,\n",
       "       -1.66629133e-01, -1.45463000e-01,  1.29291000e-01, -8.69057333e-02,\n",
       "        1.28982363e-01, -1.01133333e-01, -2.13583333e-02,  9.95160000e-02,\n",
       "        3.00140000e-01, -8.01900000e-02, -1.97462967e-01,  2.58826667e-02,\n",
       "       -6.70566667e-03, -1.29170667e-01, -1.51460000e-01,  1.56206667e-01,\n",
       "       -1.81473667e-01,  9.70033333e-02, -9.24933333e-02, -2.85681333e-01,\n",
       "       -1.53663333e-01, -2.74256667e-01, -2.66763333e-01,  5.38900000e-02,\n",
       "       -2.42271667e-02, -3.80740000e-02, -2.57613333e-01,  3.81196667e-02,\n",
       "       -4.63870000e-01,  4.19513333e-01,  2.89943333e-01,  2.21153333e-01,\n",
       "       -5.90550000e-02, -1.44845667e-01,  3.69416667e-02,  2.80296667e-01,\n",
       "       -9.85870000e-02, -2.73197000e-02, -2.49443000e-01,  1.67435333e-01,\n",
       "        2.97685667e-01, -4.29966667e-02,  3.75623333e-02,  1.11979300e-01,\n",
       "        1.88731667e-01,  5.75330000e-02, -2.78813333e-01,  4.46083333e-02,\n",
       "        1.88557667e-01, -3.20810000e-01, -7.84980000e-02,  4.53676667e-01,\n",
       "        1.32080000e-02,  3.10990000e-01, -8.64523333e-02, -2.01400000e-02,\n",
       "       -4.94530000e-02, -3.67590000e-02, -4.24270000e-02,  5.90250000e-02,\n",
       "       -6.48366667e-02, -4.11626667e-01, -1.13113333e-02,  3.79920000e-01,\n",
       "        4.14986667e-02, -1.01457667e-01, -1.11069667e-01,  1.65525000e-01,\n",
       "        1.79868000e-01,  1.57779333e-01, -4.92190500e-02, -1.20004833e-01,\n",
       "        2.27884500e-01, -1.49685333e-01, -2.76621333e-01,  3.46280000e-01,\n",
       "        9.02510000e-02,  9.69193333e-02,  1.50310333e-01,  2.77400000e-01,\n",
       "        2.66201333e-01, -2.36137000e-01,  2.83106667e-02, -2.54666667e-03,\n",
       "        9.78033333e-02, -1.49706667e-02, -2.91563333e-02, -1.20265000e-01,\n",
       "        2.70973333e-01,  2.12730000e-02, -1.24159667e-01,  1.22899667e-01,\n",
       "        4.02793333e-01, -1.89020000e-01,  8.61476667e-02,  1.15967333e-01,\n",
       "        1.80290000e-01,  9.60833333e-02,  1.08538333e-01, -2.49826667e-01,\n",
       "        7.82176667e-02, -4.33050000e-02,  1.81000000e-04, -3.18180000e-02,\n",
       "        5.44326667e-01,  3.16131000e-02,  3.00732333e-01,  1.55890000e-02,\n",
       "       -2.59628667e-01, -1.59515533e-01, -1.09679333e-01,  1.04012333e-01,\n",
       "       -3.34000000e-02,  6.44823333e-02,  2.71072667e-01,  1.52143667e-01,\n",
       "        3.43535000e-01,  1.73037000e-01,  1.79333667e-02, -1.18260333e-01,\n",
       "       -3.57891333e-02, -3.21063333e-01,  6.83386667e-02,  2.78603333e-02,\n",
       "        2.73806667e-01, -1.07985000e-01,  1.65444667e-02,  6.67340000e-02,\n",
       "        7.24426667e-03, -1.73477000e-01,  6.55566667e-02, -8.96833333e-02,\n",
       "       -9.17433333e-02, -7.84386667e-02, -2.02236667e-01,  1.80220900e-01,\n",
       "       -1.22651000e-01,  3.29013333e-01, -6.60245667e-02,  1.39731333e-01,\n",
       "        2.42523333e-01,  3.66100000e-02, -7.55300000e-02, -1.59993333e-01,\n",
       "       -7.54250000e-02,  2.31276667e+00, -6.15035667e-02,  7.00476667e-02,\n",
       "       -1.43300000e-02,  1.19376567e-01,  7.42416667e-02, -1.99416667e-01,\n",
       "       -1.83556667e-02,  1.53450000e+00, -1.55743667e-01, -3.11757667e-01,\n",
       "       -2.81096667e-01, -1.80076000e-01, -1.63641000e-01,  6.02104333e-02,\n",
       "        2.26843333e-01,  3.23109000e-02, -5.14000000e-03, -7.89970000e-02,\n",
       "       -1.18427000e-01, -1.17645333e-01,  6.02923333e-02,  1.72335667e-01,\n",
       "        1.89121000e-01,  1.36917667e-01,  1.65426667e-01, -1.88929000e-01,\n",
       "        5.94196667e-02, -2.85546667e-01,  1.98708767e-02, -4.50966667e-01,\n",
       "        2.20162000e-01,  1.61605867e-01,  1.43166667e-03, -3.04427333e-01,\n",
       "       -9.00166667e-02, -4.43303333e-02, -1.60183667e-01, -2.73701333e-01,\n",
       "        9.43500000e-02,  1.02623667e-01, -1.31604333e-01,  2.65259333e-01,\n",
       "       -4.39466667e-03,  4.55299333e-02,  1.76704000e-01, -1.67301333e-01,\n",
       "        5.42600000e-02, -3.95476667e-02, -3.32266667e-03, -2.11719333e-02,\n",
       "       -7.76329333e-02, -2.38870000e-02, -6.92933333e-02,  2.59456667e-01,\n",
       "        3.55936667e-02, -3.31766667e-01, -6.51933333e-03,  4.69273333e-02,\n",
       "       -2.09109333e-01,  1.45970000e-01, -2.57623000e-01, -8.11973333e-02,\n",
       "        6.99798000e-02, -1.59771000e-01, -8.76523333e-02,  7.36930000e-02,\n",
       "        7.27140000e-02, -1.42243333e-01, -2.36516667e-01,  4.41403333e-01,\n",
       "        5.27366667e-02,  1.95771000e-02,  1.73936667e-02,  9.00300000e-02,\n",
       "        1.68977667e-01, -4.56250000e-01, -3.16993667e-01, -1.44780000e-01,\n",
       "        5.71566667e-02, -2.48136667e-01, -2.33656667e-01,  3.52840000e-01,\n",
       "        1.53326667e-01, -1.11100667e-01,  1.65246667e-02, -6.24550000e-02,\n",
       "       -2.36557333e-01,  1.08780000e-02,  1.89363667e-01, -1.56133333e-02,\n",
       "        1.16379000e-02,  5.50911667e-02, -6.49626667e-02,  5.45516667e-02,\n",
       "        4.53700000e-02, -8.99986667e-01, -3.84366667e-03,  1.80836333e-01,\n",
       "        7.94000000e-02, -6.72126667e-02, -2.94616667e-02, -9.22686667e-02,\n",
       "       -1.88686000e-01,  4.24462333e-03, -2.23334333e-01,  7.04806667e-02,\n",
       "       -3.14956667e-01,  1.80167000e-01, -1.97040000e-01,  1.02075667e-01,\n",
       "       -2.91686667e-01, -1.14148000e-01,  8.12700000e-02, -2.40996667e-01,\n",
       "       -1.38376667e-01, -1.43632333e-02, -2.02087333e-01, -3.93576667e-01,\n",
       "       -9.19390000e-02, -1.14740667e-01, -3.49276667e-02, -3.79456667e-02,\n",
       "       -1.51786667e-02, -4.59766667e-02,  1.35301000e-01, -1.20470000e-01,\n",
       "       -7.46460000e-02, -1.39166000e-01,  1.01145333e-01, -3.67693333e-01,\n",
       "       -7.76490000e-01,  2.31656667e-01,  1.46937000e-01,  1.39075333e-01,\n",
       "       -6.83653333e-02, -3.42506667e-01,  2.00393333e-01, -1.89623333e-01,\n",
       "        2.95708667e-01, -6.97370000e-02,  1.75966667e-02,  1.77006333e-01,\n",
       "        3.52700000e-02, -4.70776667e-02,  1.55305933e-01,  5.08880333e-02,\n",
       "       -1.57864667e-01, -1.08111333e-01, -2.83299667e-01, -2.04716667e-01,\n",
       "       -1.15723333e-01, -3.24210000e-02,  1.33290000e-02,  2.63733333e-03,\n",
       "       -1.67499133e-01, -1.97873000e-01,  1.25590333e-01, -9.38453333e-02,\n",
       "        3.39313633e-02, -1.47093333e-01, -6.21050000e-02,  6.25260000e-03,\n",
       "        3.16883333e-01, -1.20010000e-01, -1.72832967e-01,  3.49296667e-02,\n",
       "        3.43910000e-02, -1.66271000e-01, -2.26661333e-01, -6.32233333e-02,\n",
       "       -6.16706667e-02, -3.69000000e-03, -2.37493333e-01, -3.71016667e-01,\n",
       "       -3.41080000e-01, -1.15838333e-01, -1.86673333e-01,  1.47254333e-01,\n",
       "       -1.74170667e-01, -4.02133333e-02, -2.62043333e-01,  5.09400000e-02,\n",
       "       -4.18533333e-01,  2.07046667e-01,  2.34153333e-01,  1.32593333e-01,\n",
       "       -1.01858667e-01, -1.31092333e-01, -6.46000000e-03,  1.78807667e-01,\n",
       "        9.44996667e-02, -6.53730333e-02, -1.03230000e-01,  1.21569000e-01,\n",
       "        2.42945667e-01, -1.05385000e-01,  2.04730000e-02,  9.66320000e-02,\n",
       "        1.03306667e-01,  7.95490000e-02, -2.00863667e-01,  5.54666667e-03,\n",
       "       -1.88523333e-02, -3.40453333e-01, -1.15046667e-01,  3.64070000e-01,\n",
       "       -4.09706667e-02,  4.26000000e-01, -1.63705667e-01, -8.58775000e-02,\n",
       "        9.41900000e-03,  6.13563333e-02,  5.44816667e-02,  1.73911667e-01,\n",
       "       -4.92266667e-02, -2.31457167e-01,  2.19565333e-01,  2.76993333e-01,\n",
       "        7.99753333e-02, -1.24576667e-02, -8.76796667e-02,  6.27336667e-02,\n",
       "        2.21765000e-01,  6.30396667e-02, -1.07384667e-01, -1.45387333e-01,\n",
       "        2.99203333e-01, -9.69820000e-02, -1.80460000e-01,  3.68920000e-01,\n",
       "       -4.17290000e-02,  1.59746667e-01,  1.97853333e-01,  2.41831667e-01,\n",
       "        2.53791333e-01, -2.96600000e-01,  1.64013333e-01, -1.00539667e-01,\n",
       "        6.40400000e-02, -2.29570667e-01,  6.84063333e-02, -2.99133333e-02,\n",
       "        2.84883333e-01, -2.44480000e-02, -6.78576667e-02, -4.40903333e-02,\n",
       "        3.50800000e-01, -1.97673333e-01,  1.85401000e-01,  8.29266667e-02,\n",
       "        2.76560000e-01,  1.60018667e-01,  1.45719333e-01, -1.30586667e-01,\n",
       "        7.60770000e-02,  3.64333333e-02,  1.07102000e-01, -1.84053000e-01,\n",
       "        7.02626667e-01,  1.16521000e-02,  2.73026000e-01, -7.93643333e-02,\n",
       "       -1.89260000e-01, -1.53328867e-01, -2.18951333e-01,  8.83735000e-02,\n",
       "       -1.27656667e-01, -2.18623333e-02,  3.38340000e-01,  1.81716667e-01,\n",
       "        3.64853333e-01,  2.38190000e-01,  1.74690033e-01, -9.07236667e-02,\n",
       "        3.65126667e-02, -3.48536667e-01, -5.13390000e-02, -8.66766667e-03,\n",
       "        3.14873333e-01, -1.38941667e-01, -9.73053333e-03,  1.13946333e-01,\n",
       "       -8.24647333e-02, -6.09133333e-02, -1.10450000e-01,  2.28220000e-02,\n",
       "       -4.77566667e-02, -1.22699000e-01, -1.50191167e-01,  1.39840900e-01,\n",
       "       -8.19630000e-02,  5.74833333e-02, -1.26342000e-01,  2.95584667e-01,\n",
       "        1.66171333e-01,  1.75676667e-01, -8.89333333e-02, -7.69700000e-02,\n",
       "       -1.24646000e-01,  1.90806667e+00, -1.28745333e-01,  3.35180333e-01,\n",
       "        2.01556667e-01,  2.72135667e-02,  5.95043333e-02, -3.08000000e-03,\n",
       "        3.97000000e-03,  1.72086667e+00, -1.92359667e-01, -4.87973333e-01,\n",
       "       -3.29503333e-01,  4.74106667e-02, -1.29243333e-02,  9.73496667e-02,\n",
       "        2.51203333e-01,  2.13775667e-02,  1.11606000e-01, -5.16710000e-02,\n",
       "        1.50709667e-01, -1.43093333e-01,  8.75353333e-02,  1.51363000e-01,\n",
       "        5.21760000e-02,  4.25566667e-02,  2.22065000e-01, -3.25620000e-01,\n",
       "        1.89833333e-02, -3.66560000e-01, -1.03493333e-01, -2.31613333e-01,\n",
       "        1.74268667e-01, -7.53941333e-02, -7.71446667e-02, -3.59024000e-01,\n",
       "       -2.57730000e-01, -6.38082667e-02,  2.72363333e-02, -8.13923333e-02,\n",
       "        3.39833333e-01, -3.01663333e-02, -3.48006667e-01,  1.08362667e-01,\n",
       "        6.11636667e-02, -2.53567333e-02,  5.73006667e-02, -1.23965000e-01,\n",
       "       -2.11366667e-02, -5.29913333e-02,  3.16440000e-02, -7.97086000e-02,\n",
       "       -2.50830667e-01,  7.29453333e-02, -5.97133333e-03,  2.71586667e-01,\n",
       "        2.01056667e-01, -1.18600000e-02,  7.21400000e-03,  1.73303333e-01,\n",
       "        4.05006667e-02,  4.01820000e-01, -1.26638667e-01, -4.92440000e-02,\n",
       "        2.29829800e-01, -2.12937667e-01,  2.83126667e-02,  5.36880000e-02,\n",
       "        1.53396000e-01, -2.43973667e-01, -2.36626667e-01,  4.02943333e-01,\n",
       "        9.87633333e-02,  7.63677667e-02,  1.13513667e-01,  9.21266667e-02,\n",
       "        2.46357667e-01, -4.25146667e-01, -2.28860000e-01, -1.65580000e-01,\n",
       "        9.95966667e-02, -1.73864000e-01, -4.13796667e-01,  2.93033333e-02,\n",
       "        2.40690000e-01, -1.72387333e-01,  1.95850000e-01, -1.40120000e-01,\n",
       "       -1.11954900e-01,  8.23666667e-02,  1.65628333e-01, -2.58166667e-01,\n",
       "        7.49479000e-02, -9.83721667e-02,  2.86803333e-02,  4.03590000e-02,\n",
       "        8.81733333e-03, -9.69210000e-01,  2.44830000e-02,  3.07387333e-01,\n",
       "        1.86031000e-01, -7.19233333e-02, -8.76150000e-02, -1.69353333e-01,\n",
       "       -2.38560000e-02,  3.13672900e-02, -2.97194333e-01, -6.36433333e-03,\n",
       "       -2.94160000e-01,  1.34433667e-01, -2.63360000e-01,  1.82209000e-01,\n",
       "       -1.36058333e-01, -1.90051667e-01,  1.48700000e-01,  1.51263333e-01,\n",
       "       -1.56533333e-01, -5.31419000e-02, -2.11373333e-02, -2.29193333e-01,\n",
       "       -2.62000000e-02, -1.26304000e-01, -6.72333333e-02,  4.23666667e-02,\n",
       "        2.36766667e-02, -6.04466667e-02,  3.11006667e-02, -6.33666667e-04,\n",
       "       -9.28596667e-02, -2.47560000e-02, -1.83431000e-01, -4.42600000e-01,\n",
       "       -8.46536667e-01,  1.93916667e-01, -6.13963333e-02,  1.03515333e-01,\n",
       "        5.48313333e-02, -3.17806667e-01,  1.08887000e-01, -2.84026667e-01,\n",
       "        8.60786667e-02, -1.84806667e-02,  1.41706667e-01,  2.58033333e-01,\n",
       "       -5.88220000e-02,  8.75333333e-02,  1.26088667e-01,  1.69610033e-01,\n",
       "       -1.20764667e-01, -1.81681333e-01, -1.70766333e-01, -1.68366000e-01,\n",
       "       -8.12533333e-02, -9.64860000e-02,  7.43066667e-02, -7.37966667e-02,\n",
       "       -4.80503333e-01, -1.25128000e-01,  6.62766667e-03,  9.56446667e-02,\n",
       "        9.75523333e-02, -6.02233333e-02, -1.51993333e-01,  1.98819933e-01,\n",
       "        2.66911667e-01, -2.30813333e-01,  2.59163700e-01,  3.77666667e-03,\n",
       "        1.49545000e-01, -3.05787667e-01, -1.94602000e-01, -2.03300000e-02,\n",
       "       -2.06920333e-01, -1.44833333e-01, -3.10666667e-02, -2.63086733e-01,\n",
       "       -3.27433333e-01, -1.09949000e-01, -2.82026667e-01,  4.02966667e-02,\n",
       "       -9.60203333e-02, -3.85986667e-01, -1.74696333e-01,  9.47946667e-02,\n",
       "       -1.80040000e-01,  2.17573333e-01,  2.31560000e-01,  2.27693333e-01,\n",
       "       -2.29284333e-01, -2.51660000e-01, -1.30524667e-01,  6.60556667e-02,\n",
       "        5.89633333e-03, -2.83233333e-01, -1.22123333e-01,  3.67503333e-02,\n",
       "        2.60060000e-01, -3.73293333e-02,  9.28146667e-02,  2.70540000e-02,\n",
       "       -1.26821667e-01,  2.13913333e-01,  8.25930000e-02, -1.60430000e-02,\n",
       "        1.49920000e-02, -4.75810000e-01, -1.61054667e-01,  2.28388000e-01,\n",
       "        8.21326667e-02,  3.43415000e-01, -4.10285667e-01,  2.27698333e-02,\n",
       "        2.87062333e-01, -6.63693333e-02,  1.09331667e-01,  3.69591667e-01,\n",
       "       -1.36136667e-01, -9.86050000e-03,  1.98189333e-01,  6.75866667e-02,\n",
       "        2.61433333e-01, -9.69100000e-02, -1.30503000e-01,  3.38683333e-02,\n",
       "        9.18783333e-02,  1.08487000e-01, -2.00657000e-01,  1.21679333e-01,\n",
       "        2.84410000e-01,  1.57211333e-01,  1.07810000e-01,  3.57766667e-01,\n",
       "       -1.51953333e-02,  1.78880000e-01,  1.52139700e-01,  2.62916667e-02,\n",
       "        3.83150000e-01, -4.02980000e-01,  2.98573333e-01,  4.29440000e-02,\n",
       "        4.89033333e-02, -3.65590000e-01, -3.32933333e-02,  4.73423333e-02,\n",
       "       -8.09333333e-03,  7.00100000e-02,  1.91862333e-01,  1.41386667e-01,\n",
       "        1.17393333e-01, -7.02966667e-02,  1.71367667e-01, -2.49106667e-02,\n",
       "        3.39803333e-01,  1.57588333e-01,  2.42004333e-01, -5.60700000e-02,\n",
       "        1.24266667e-01, -7.87633333e-02,  1.02207333e-01, -6.19083333e-02,\n",
       "        1.08905667e+00, -1.09927933e-01, -8.97730000e-02, -2.36810333e-01,\n",
       "        2.82766667e-02, -5.67192000e-02, -1.64416667e-01, -8.48061667e-02,\n",
       "       -2.23793333e-01,  8.53783333e-02,  1.90630000e-01,  5.79866667e-02,\n",
       "        2.30716667e-01,  1.71772000e-01,  3.54606667e-01, -3.33356667e-01,\n",
       "       -5.69613333e-02, -3.52503333e-01, -1.84554333e-01,  2.79303333e-01,\n",
       "        2.25356333e-01, -1.36091667e-01,  4.05513333e-03,  7.21033333e-02,\n",
       "       -5.07280667e-02,  1.81813333e-01, -1.75633667e-01, -3.27466667e-03,\n",
       "       -1.87186667e-01, -1.09845667e-01, -8.55395000e-02,  2.69220000e-01])"
      ]
     },
     "execution_count": 19,
     "metadata": {},
     "output_type": "execute_result"
    }
   ],
   "source": [
    "encoder.encode_text(\"this is an example text\")"
   ]
  },
  {
   "cell_type": "markdown",
   "metadata": {
    "pycharm": {
     "name": "#%% md\n"
    }
   },
   "source": [
    "Let's fit a sentiment model."
   ]
  },
  {
   "cell_type": "code",
   "execution_count": 20,
   "metadata": {
    "collapsed": false,
    "jupyter": {
     "outputs_hidden": false
    },
    "pycharm": {
     "name": "#%%\n"
    }
   },
   "outputs": [
    {
     "name": "stdout",
     "output_type": "stream",
     "text": [
      "Model: \"sequential\"\n",
      "_________________________________________________________________\n",
      "Layer (type)                 Output Shape              Param #   \n",
      "=================================================================\n",
      "dense (Dense)                (None, 1)                 901       \n",
      "=================================================================\n",
      "Total params: 901\n",
      "Trainable params: 901\n",
      "Non-trainable params: 0\n",
      "_________________________________________________________________\n"
     ]
    },
    {
     "name": "stderr",
     "output_type": "stream",
     "text": [
      "2022-04-05 13:04:11.650096: I tensorflow/core/platform/cpu_feature_guard.cc:142] This TensorFlow binary is optimized with oneAPI Deep Neural Network Library (oneDNN) to use the following CPU instructions in performance-critical operations:  AVX2 FMA\n",
      "To enable them in other operations, rebuild TensorFlow with the appropriate compiler flags.\n"
     ]
    }
   ],
   "source": [
    "# build our neural net factory\n",
    "# this one implements a logistic regression.\n",
    "\n",
    "# get our data shape from using the encoder\n",
    "# so we don't have the brittleness of hard-coding.\n",
    "encode_dim = encoder.encode_text(\"this is an example text\").shape[0]\n",
    "\n",
    "def mk_model():\n",
    "    \"\"\"\n",
    "    This is a simple logistic model.\n",
    "    A more complicated neural net is often specified for text tasks.\n",
    "    \"\"\"\n",
    "    logistic_model = Sequential()\n",
    "    logistic_model.add(Input(shape=(encode_dim, )))\n",
    "    logistic_model.add(Dense(1, activation='sigmoid'))\n",
    "    logistic_model.compile(\n",
    "        optimizer='rmsprop',\n",
    "        loss='binary_crossentropy',\n",
    "        metrics=['acc'])\n",
    "    return logistic_model\n",
    "\n",
    "logistic_model = mk_model()\n",
    "logistic_model.summary()"
   ]
  },
  {
   "cell_type": "code",
   "execution_count": 21,
   "metadata": {
    "collapsed": false,
    "jupyter": {
     "outputs_hidden": false
    },
    "pycharm": {
     "name": "#%%\n"
    }
   },
   "outputs": [],
   "source": [
    "# training hyper-parameters\n",
    "# often searching, on simulated out of sample data,\n",
    "# for good values of these can impove model quality.\n",
    "epochs = 200\n",
    "batch_size = 512\n",
    "validation_split = 0.2"
   ]
  },
  {
   "cell_type": "code",
   "execution_count": 22,
   "metadata": {
    "collapsed": false,
    "pycharm": {
     "name": "#%%\n"
    }
   },
   "outputs": [],
   "source": [
    "# shuffle rows of training data in case neural net batching takes in ordered chunks\n",
    "permutation = numpy.random.choice(\n",
    "    len(train_data.data), \n",
    "    size=len(train_data.data), \n",
    "    replace=False)\n",
    "train_data_shuffled = [train_data.data[i] for i in permutation]\n",
    "train_target_shuffled = [train_data.target[i] for i in permutation]\n"
   ]
  },
  {
   "cell_type": "code",
   "execution_count": 23,
   "metadata": {
    "collapsed": false,
    "jupyter": {
     "outputs_hidden": false
    },
    "pycharm": {
     "name": "#%%\n"
    }
   },
   "outputs": [
    {
     "name": "stderr",
     "output_type": "stream",
     "text": [
      "2022-04-05 13:04:50.792900: I tensorflow/compiler/mlir/mlir_graph_optimization_pass.cc:185] None of the MLIR Optimization Passes are enabled (registered 2)\n"
     ]
    }
   ],
   "source": [
    "%%capture\n",
    "# do the training on our model\n",
    "history = logistic_model.fit(\n",
    "    encoder.transform(train_data_shuffled),\n",
    "    numpy.asarray(train_target_shuffled),\n",
    "    epochs=epochs,\n",
    "    batch_size=batch_size,\n",
    "    validation_split=validation_split)"
   ]
  },
  {
   "cell_type": "code",
   "execution_count": 24,
   "metadata": {},
   "outputs": [],
   "source": [
    "trajectory = pandas.DataFrame(history.history)\n",
    "trajectory['epoch'] = range(trajectory.shape[0])\n",
    "\n",
    "trajectory_plot = trajectory.melt(\n",
    "    id_vars=['epoch'],\n",
    "    value_vars=['loss', 'val_loss'],\n",
    "    var_name='data set',\n",
    "    value_name='estimated loss',\n",
    ")"
   ]
  },
  {
   "cell_type": "code",
   "execution_count": 25,
   "metadata": {},
   "outputs": [
    {
     "data": {
      "text/plain": [
       "Text(0.5, 1.0, 'model loss as a function of epoch\\n(smaller better)')"
      ]
     },
     "execution_count": 25,
     "metadata": {},
     "output_type": "execute_result"
    },
    {
     "data": {
      "image/png": "[encoded data removed]",
      "text/plain": [
       "<Figure size 432x288 with 1 Axes>"
      ]
     },
     "metadata": {
      "needs_background": "light"
     },
     "output_type": "display_data"
    }
   ],
   "source": [
    "sns.lineplot(\n",
    "    data=trajectory_plot,\n",
    "    x='epoch',\n",
    "    y='estimated loss',\n",
    "    hue = 'data set',\n",
    ")\n",
    "plt.title(\"model loss as a function of epoch\\n(smaller better)\")"
   ]
  },
  {
   "cell_type": "code",
   "execution_count": 26,
   "metadata": {
    "collapsed": false,
    "jupyter": {
     "outputs_hidden": false
    },
    "pycharm": {
     "name": "#%%\n"
    }
   },
   "outputs": [],
   "source": [
    "# wrap the text processing plus model\n",
    "# as a single object implementing the model API\n",
    "model = make_pipeline(encoder, logistic_model)"
   ]
  },
  {
   "cell_type": "code",
   "execution_count": 27,
   "metadata": {},
   "outputs": [],
   "source": [
    "# get predictions on data not seen during training!\n",
    "pred_test = model.predict(test_data.data)"
   ]
  },
  {
   "cell_type": "markdown",
   "metadata": {
    "pycharm": {
     "name": "#%% md\n"
    }
   },
   "source": [
    "There are a *lot* of evaluation metrics. With more time, we teach which few to use and how to read and use them effectively."
   ]
  },
  {
   "cell_type": "code",
   "execution_count": 28,
   "metadata": {
    "collapsed": false,
    "jupyter": {
     "outputs_hidden": false
    },
    "pycharm": {
     "name": "#%%\n"
    }
   },
   "outputs": [],
   "source": [
    "# get the confusion matrix, a great evaluation tool\n",
    "eval_frame = pandas.DataFrame({\n",
    "    'truth': numpy.array(test_data.target, dtype=float),\n",
    "    'prediction': pred_test.reshape((pred_test.shape[0], )),\n",
    "})"
   ]
  },
  {
   "cell_type": "code",
   "execution_count": 29,
   "metadata": {
    "collapsed": false,
    "jupyter": {
     "outputs_hidden": false
    },
    "pycharm": {
     "name": "#%%\n"
    }
   },
   "outputs": [
    {
     "data": {
      "text/html": [
       "<div>\n",
       "<style scoped>\n",
       "    .dataframe tbody tr th:only-of-type {\n",
       "        vertical-align: middle;\n",
       "    }\n",
       "\n",
       "    .dataframe tbody tr th {\n",
       "        vertical-align: top;\n",
       "    }\n",
       "\n",
       "    .dataframe thead th {\n",
       "        text-align: right;\n",
       "    }\n",
       "</style>\n",
       "<table border=\"1\" class=\"dataframe\">\n",
       "  <thead>\n",
       "    <tr style=\"text-align: right;\">\n",
       "      <th></th>\n",
       "      <th>truth</th>\n",
       "      <th>prediction</th>\n",
       "    </tr>\n",
       "  </thead>\n",
       "  <tbody>\n",
       "    <tr>\n",
       "      <th>0</th>\n",
       "      <td>0.0</td>\n",
       "      <td>0.013214</td>\n",
       "    </tr>\n",
       "    <tr>\n",
       "      <th>1</th>\n",
       "      <td>0.0</td>\n",
       "      <td>0.131813</td>\n",
       "    </tr>\n",
       "    <tr>\n",
       "      <th>2</th>\n",
       "      <td>0.0</td>\n",
       "      <td>0.049316</td>\n",
       "    </tr>\n",
       "    <tr>\n",
       "      <th>3</th>\n",
       "      <td>0.0</td>\n",
       "      <td>0.193808</td>\n",
       "    </tr>\n",
       "    <tr>\n",
       "      <th>4</th>\n",
       "      <td>0.0</td>\n",
       "      <td>0.787632</td>\n",
       "    </tr>\n",
       "    <tr>\n",
       "      <th>...</th>\n",
       "      <td>...</td>\n",
       "      <td>...</td>\n",
       "    </tr>\n",
       "    <tr>\n",
       "      <th>24995</th>\n",
       "      <td>1.0</td>\n",
       "      <td>0.558860</td>\n",
       "    </tr>\n",
       "    <tr>\n",
       "      <th>24996</th>\n",
       "      <td>1.0</td>\n",
       "      <td>0.153417</td>\n",
       "    </tr>\n",
       "    <tr>\n",
       "      <th>24997</th>\n",
       "      <td>1.0</td>\n",
       "      <td>0.601644</td>\n",
       "    </tr>\n",
       "    <tr>\n",
       "      <th>24998</th>\n",
       "      <td>1.0</td>\n",
       "      <td>0.438957</td>\n",
       "    </tr>\n",
       "    <tr>\n",
       "      <th>24999</th>\n",
       "      <td>1.0</td>\n",
       "      <td>0.567921</td>\n",
       "    </tr>\n",
       "  </tbody>\n",
       "</table>\n",
       "<p>25000 rows × 2 columns</p>\n",
       "</div>"
      ],
      "text/plain": [
       "       truth  prediction\n",
       "0        0.0    0.013214\n",
       "1        0.0    0.131813\n",
       "2        0.0    0.049316\n",
       "3        0.0    0.193808\n",
       "4        0.0    0.787632\n",
       "...      ...         ...\n",
       "24995    1.0    0.558860\n",
       "24996    1.0    0.153417\n",
       "24997    1.0    0.601644\n",
       "24998    1.0    0.438957\n",
       "24999    1.0    0.567921\n",
       "\n",
       "[25000 rows x 2 columns]"
      ]
     },
     "execution_count": 29,
     "metadata": {},
     "output_type": "execute_result"
    }
   ],
   "source": [
    "eval_frame"
   ]
  },
  {
   "cell_type": "code",
   "execution_count": 30,
   "metadata": {
    "collapsed": false,
    "jupyter": {
     "outputs_hidden": false
    },
    "pycharm": {
     "name": "#%%\n"
    }
   },
   "outputs": [
    {
     "data": {
      "text/plain": [
       "truth         float64\n",
       "prediction    float32\n",
       "dtype: object"
      ]
     },
     "execution_count": 30,
     "metadata": {},
     "output_type": "execute_result"
    }
   ],
   "source": [
    "eval_frame.dtypes"
   ]
  },
  {
   "cell_type": "code",
   "execution_count": 31,
   "metadata": {},
   "outputs": [
    {
     "data": {
      "text/plain": [
       "0.7047820267847178"
      ]
     },
     "execution_count": 31,
     "metadata": {},
     "output_type": "execute_result"
    }
   ],
   "source": [
    "wvpy.util.mean_deviance(\n",
    "    predictions=eval_frame['prediction'],\n",
    "    istrue=eval_frame['truth']\n",
    ")"
   ]
  },
  {
   "cell_type": "markdown",
   "metadata": {},
   "source": [
    "Note, it can be fairly hard for the data scientist to control exact scalar types. So tools must tolerate interchanging floats and doubles."
   ]
  },
  {
   "cell_type": "code",
   "execution_count": 32,
   "metadata": {},
   "outputs": [
    {
     "data": {
      "text/plain": [
       "<Figure size 432x288 with 0 Axes>"
      ]
     },
     "metadata": {},
     "output_type": "display_data"
    },
    {
     "data": {
      "image/png": "[encoded data removed]",
      "text/plain": [
       "<Figure size 432x288 with 1 Axes>"
      ]
     },
     "metadata": {
      "needs_background": "light"
     },
     "output_type": "display_data"
    },
    {
     "data": {
      "text/plain": [
       "0.9243727935999999"
      ]
     },
     "execution_count": 32,
     "metadata": {},
     "output_type": "execute_result"
    }
   ],
   "source": [
    "# evaluate the results\n",
    "wvpy.util.plot_roc(\n",
    "    eval_frame['prediction'],\n",
    "    eval_frame['truth'],\n",
    "    title='model on test')\n"
   ]
  },
  {
   "cell_type": "code",
   "execution_count": 33,
   "metadata": {
    "collapsed": false,
    "jupyter": {
     "outputs_hidden": false
    },
    "pycharm": {
     "name": "#%%\n"
    }
   },
   "outputs": [
    {
     "data": {
      "text/plain": [
       "<Figure size 432x288 with 0 Axes>"
      ]
     },
     "metadata": {},
     "output_type": "display_data"
    },
    {
     "data": {
      "image/png": "[encoded data removed]",
      "text/plain": [
       "<Figure size 864x576 with 2 Axes>"
      ]
     },
     "metadata": {
      "needs_background": "light"
     },
     "output_type": "display_data"
    }
   ],
   "source": [
    "# evaluate the results\n",
    "wvpy.util.dual_hist_plot(\n",
    "    eval_frame['prediction'],\n",
    "    eval_frame['truth'],\n",
    "    truth_target=1,\n",
    "    title='model on test')\n"
   ]
  },
  {
   "cell_type": "code",
   "execution_count": 34,
   "metadata": {
    "collapsed": false,
    "jupyter": {
     "outputs_hidden": false
    },
    "pycharm": {
     "name": "#%%\n"
    }
   },
   "outputs": [
    {
     "data": {
      "text/html": [
       "<div>\n",
       "<style scoped>\n",
       "    .dataframe tbody tr th:only-of-type {\n",
       "        vertical-align: middle;\n",
       "    }\n",
       "\n",
       "    .dataframe tbody tr th {\n",
       "        vertical-align: top;\n",
       "    }\n",
       "\n",
       "    .dataframe thead th {\n",
       "        text-align: right;\n",
       "    }\n",
       "</style>\n",
       "<table border=\"1\" class=\"dataframe\">\n",
       "  <thead>\n",
       "    <tr style=\"text-align: right;\">\n",
       "      <th>prediction</th>\n",
       "      <th>False</th>\n",
       "      <th>True</th>\n",
       "    </tr>\n",
       "    <tr>\n",
       "      <th>truth</th>\n",
       "      <th></th>\n",
       "      <th></th>\n",
       "    </tr>\n",
       "  </thead>\n",
       "  <tbody>\n",
       "    <tr>\n",
       "      <th>False</th>\n",
       "      <td>10559</td>\n",
       "      <td>1941</td>\n",
       "    </tr>\n",
       "    <tr>\n",
       "      <th>True</th>\n",
       "      <td>1803</td>\n",
       "      <td>10697</td>\n",
       "    </tr>\n",
       "  </tbody>\n",
       "</table>\n",
       "</div>"
      ],
      "text/plain": [
       "prediction  False   True\n",
       "truth                   \n",
       "False       10559   1941\n",
       "True         1803  10697"
      ]
     },
     "execution_count": 34,
     "metadata": {},
     "output_type": "execute_result"
    }
   ],
   "source": [
    "# Confusion matrices are a very good summary of classification rule performance\n",
    "confusion_matrix = pandas.crosstab(\n",
    "    eval_frame['truth'] > 0.5,\n",
    "    eval_frame['prediction'] > 0.5)\n",
    "\n",
    "confusion_matrix\n"
   ]
  },
  {
   "cell_type": "code",
   "execution_count": 35,
   "metadata": {},
   "outputs": [
    {
     "data": {
      "text/plain": [
       "0.85024"
      ]
     },
     "execution_count": 35,
     "metadata": {},
     "output_type": "execute_result"
    }
   ],
   "source": [
    "# quantify the accuracy\n",
    "# accuracy is often NOT the right metric to use!\n",
    "# but it is the most common one you hear about.\n",
    "# instead insist on 2 numbers:\n",
    "#  precision and recall\n",
    "#  or sensitivity and specificity\n",
    "accuracy = (\n",
    "        (confusion_matrix.iloc[0,0] + confusion_matrix.iloc[1,1]) /\n",
    "        numpy.sum(numpy.sum(confusion_matrix))\n",
    ")\n",
    "\n",
    "accuracy"
   ]
  },
  {
   "cell_type": "code",
   "execution_count": 36,
   "metadata": {},
   "outputs": [
    {
     "data": {
      "text/plain": [
       "4.4484332883953925e-11"
      ]
     },
     "execution_count": 36,
     "metadata": {},
     "output_type": "execute_result"
    }
   ],
   "source": [
    "numpy.min(eval_frame['prediction'])"
   ]
  },
  {
   "cell_type": "code",
   "execution_count": 37,
   "metadata": {},
   "outputs": [
    {
     "data": {
      "text/plain": [
       "0.703987890625"
      ]
     },
     "execution_count": 37,
     "metadata": {},
     "output_type": "execute_result"
    }
   ],
   "source": [
    "# A good measure of probability model performance is called the deviance.\n",
    "# https://en.wikipedia.org/wiki/Deviance_(statistics)\n",
    "# Think of it as the expect log embarrassment.\n",
    "def compute_dev(*, actual, prediction):\n",
    "    mass_on_correct_outcome = numpy.where(actual, prediction, 1.0 - prediction)\n",
    "    return -2 * numpy.sum(numpy.log(numpy.maximum(mass_on_correct_outcome, 1e-3)))\n",
    "\n",
    "\n",
    "compute_dev(\n",
    "    actual=eval_frame['truth'] > 0.5,\n",
    "    prediction=eval_frame['prediction']\n",
    " ) / eval_frame.shape[0]"
   ]
  },
  {
   "cell_type": "code",
   "execution_count": 38,
   "metadata": {},
   "outputs": [
    {
     "data": {
      "text/plain": [
       "1.3862943611198906"
      ]
     },
     "execution_count": 38,
     "metadata": {},
     "output_type": "execute_result"
    }
   ],
   "source": [
    "# a good comparison for the deviance is:\n",
    "# how bad would it be to just guess the same answer for every row\n",
    "# deviance is \"loss\", so bigger is worse\n",
    "compute_dev(\n",
    "    actual=eval_frame['truth'] > 0.5,\n",
    "    prediction=numpy.zeros(eval_frame.shape[0]) + numpy.mean(eval_frame['truth'])\n",
    " ) / eval_frame.shape[0]"
   ]
  },
  {
   "cell_type": "markdown",
   "metadata": {
    "pycharm": {
     "name": "#%% md\n"
    }
   },
   "source": [
    "We can try the model on our own text."
   ]
  },
  {
   "cell_type": "code",
   "execution_count": 39,
   "metadata": {
    "collapsed": false,
    "jupyter": {
     "outputs_hidden": false
    },
    "pycharm": {
     "name": "#%%\n"
    }
   },
   "outputs": [
    {
     "data": {
      "text/plain": [
       "array([[0.63163674]], dtype=float32)"
      ]
     },
     "execution_count": 39,
     "metadata": {},
     "output_type": "execute_result"
    }
   ],
   "source": [
    "model.predict([\n",
    "\"\"\"\n",
    "To call The Princess Bride a classic is to understate it's significance. The Princess Bride is not only a great movie, it is above all else, a GOOD movie.\n",
    "\"\"\"\n",
    "])"
   ]
  },
  {
   "cell_type": "markdown",
   "metadata": {},
   "source": [
    "We can save the whole process for later re-use."
   ]
  },
  {
   "cell_type": "code",
   "execution_count": 40,
   "metadata": {
    "collapsed": false,
    "jupyter": {
     "outputs_hidden": false
    },
    "pycharm": {
     "name": "#%%\n"
    }
   },
   "outputs": [],
   "source": [
    "# save model components\n",
    "# Keras models are not pickleab until very recent versions\n",
    "logistic_model.save(\"model_keras_step.keras\")\n",
    "with gzip.open('model_encoder_step.pkl.gz', 'wb') as of:\n",
    "    pickle.dump(\n",
    "        obj=encoder,\n",
    "        file=of\n",
    "    )\n"
   ]
  },
  {
   "cell_type": "markdown",
   "metadata": {
    "pycharm": {
     "name": "#%% md\n"
    }
   },
   "source": [
    "And that is an example of natural language processing (NLP) learning to perform sentiment analysis using the Keras neural net package.\n",
    "\n",
    "For more details one can dig into the included code in this diretory and the sibling data directories."
   ]
  },
  {
   "cell_type": "markdown",
   "metadata": {},
   "source": [
    "Copyright &copy; 2019-2022 Win-Vector LLC.  All rights reserved. [http://www.win-vector.com](http://www.win-vector.com)"
   ]
  }
 ],
 "metadata": {
  "kernelspec": {
   "display_name": "Python 3 (ipykernel)",
   "language": "python",
   "name": "python3"
  },
  "language_info": {
   "codemirror_mode": {
    "name": "ipython",
    "version": 3
   },
   "file_extension": ".py",
   "mimetype": "text/x-python",
   "name": "python",
   "nbconvert_exporter": "python",
   "pygments_lexer": "ipython3",
   "version": "3.9.7"
  }
 },
 "nbformat": 4,
 "nbformat_minor": 4
}
