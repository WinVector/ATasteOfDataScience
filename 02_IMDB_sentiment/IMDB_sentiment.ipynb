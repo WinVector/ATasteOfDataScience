{
 "cells": [
  {
   "cell_type": "markdown",
   "metadata": {
    "pycharm": {
     "name": "#%% md\n"
    }
   },
   "source": [
    "In this worksheet we will demonstrate learning sentiment extraction from text.\n",
    "\n",
    "The dataset is the IDMB sentiment set where items were annotated by taggers as to if the text appeared to be expressing a positive or negative sentiment. This data set was produced by and used in:\n",
    "\n",
    "> Andrew L. Maas, Raymond E. Daly, Peter T. Pham, Dan Huang, Andrew Y. Ng, and Christopher Potts. (2011). Learning Word Vectors for Sentiment Analysis. The 49th Annual Meeting of the Association for Computational Linguistics (ACL 2011).\n",
    "\n",
    "The data can be found here: [https://ai.stanford.edu/~amaas/data/sentiment/](https://ai.stanford.edu/~amaas/data/sentiment/).\n",
    "\n",
    "In our example we will use the GloVe embedding as our language model and Keras as our neural net software. The neural net architecture we are specifying is essentially a logistic regression over an average meaning of neighboring triplets of words in a document. The idea is: positive sentiment documents are often mostly positive utterances, and negative sentiment documents are often mostly negative utterances. We hope the non-sentiment carrying portions are largely ignored by the model."
   ]
  },
  {
   "cell_type": "code",
   "execution_count": 1,
   "metadata": {},
   "outputs": [],
   "source": [
    "# ensure plots print without needing to call show()\n",
    "%matplotlib inline"
   ]
  },
  {
   "cell_type": "code",
   "execution_count": 2,
   "metadata": {
    "collapsed": false,
    "jupyter": {
     "outputs_hidden": false
    },
    "pycharm": {
     "name": "#%%\n"
    }
   },
   "outputs": [],
   "source": [
    "# import our packages\n",
    "import pandas\n",
    "import numpy\n",
    "import os\n",
    "import gzip\n",
    "import sys\n",
    "import pickle\n",
    "import textwrap\n",
    "\n",
    "import wvpy.util\n",
    "\n",
    "import matplotlib.pyplot as plt\n",
    "import seaborn as sns\n",
    "from sklearn.pipeline import make_pipeline"
   ]
  },
  {
   "cell_type": "code",
   "execution_count": 3,
   "metadata": {},
   "outputs": [],
   "source": [
    "# set up Keras imports, this can be brittle\n",
    "# no longer import keras, import tensorflow.keras\n",
    "import tensorflow.keras as keras\n",
    "# https://github.com/keras-team/keras/issues/12379#issuecomment-473823330\n",
    "from tensorflow.keras import *\n",
    "# https://www.tensorflow.org/api_docs/python/tf/keras/layers/Conv2D\n",
    "from tensorflow.keras.layers import *\n",
    "#from keras.layers import Input,Conv2D,MaxPooling2D,UpSampling2D\n",
    "#from keras.models import Model\n",
    "#from keras.optimizers import RMSprop\n",
    "# https://www.tensorflow.org/api_docs/python/tf/keras/optimizers/RMSprop\n",
    "from tensorflow.keras.optimizers import *"
   ]
  },
  {
   "cell_type": "code",
   "execution_count": 4,
   "metadata": {},
   "outputs": [],
   "source": [
    "# get our data and language model through data adaptors\n",
    "sys.path.append('.')\n",
    "# put data load on our path\n",
    "sys.path.append('../data/IMDB')\n",
    "from load_IMDB import load_IMDB\n",
    "sys.path.append('../data/GloVe')\n",
    "from document_encoder import GloveEncoder"
   ]
  },
  {
   "cell_type": "code",
   "execution_count": 5,
   "metadata": {
    "collapsed": false,
    "jupyter": {
     "outputs_hidden": false
    },
    "pycharm": {
     "name": "#%%\n"
    }
   },
   "outputs": [],
   "source": [
    "# load the IMDB data\n",
    "train_data, test_data = load_IMDB()"
   ]
  },
  {
   "cell_type": "code",
   "execution_count": 6,
   "metadata": {
    "collapsed": false,
    "jupyter": {
     "outputs_hidden": false
    },
    "pycharm": {
     "name": "#%%\n"
    }
   },
   "outputs": [
    {
     "data": {
      "text/plain": [
       "25000"
      ]
     },
     "execution_count": 6,
     "metadata": {},
     "output_type": "execute_result"
    }
   ],
   "source": [
    "# show how many training examples\n",
    "len(train_data.data)"
   ]
  },
  {
   "cell_type": "code",
   "execution_count": 7,
   "metadata": {
    "collapsed": false,
    "jupyter": {
     "outputs_hidden": false
    },
    "pycharm": {
     "name": "#%%\n"
    }
   },
   "outputs": [
    {
     "data": {
      "text/plain": [
       "25000"
      ]
     },
     "execution_count": 7,
     "metadata": {},
     "output_type": "execute_result"
    }
   ],
   "source": [
    "# show how many test examples\n",
    "len(test_data.data)\n"
   ]
  },
  {
   "cell_type": "code",
   "execution_count": 8,
   "metadata": {
    "collapsed": false,
    "jupyter": {
     "outputs_hidden": false
    },
    "pycharm": {
     "name": "#%%\n"
    }
   },
   "outputs": [],
   "source": [
    "# load the glove vectors we need, uses about 4GB of memory\n",
    "glove_path = '../data/GloVe/glove.840B.300d.zip'\n",
    "k = 3  # how many neighboring words to model\n",
    "encoder = GloveEncoder(\n",
    "    glove_path=glove_path,\n",
    "    k=k,\n",
    ")"
   ]
  },
  {
   "cell_type": "markdown",
   "metadata": {
    "pycharm": {
     "name": "#%% md\n"
    }
   },
   "source": [
    "As a digression let's talk about the tokenization phase of our text processing solution."
   ]
  },
  {
   "cell_type": "code",
   "execution_count": 9,
   "metadata": {
    "collapsed": false,
    "jupyter": {
     "outputs_hidden": false
    },
    "pycharm": {
     "name": "#%%\n"
    }
   },
   "outputs": [],
   "source": [
    "# train the encoder on what words it is to recognize\n",
    "encoder.fit(X=train_data.data)\n",
    "\n",
    "# pull out tokenizer and code_book so we can look at them\n",
    "tokenizer = encoder.tokenizer\n",
    "code_book = encoder.code_book"
   ]
  },
  {
   "cell_type": "markdown",
   "metadata": {
    "pycharm": {
     "name": "#%% md\n"
    }
   },
   "source": [
    "The encoder maps strings into sequences of integer token ids."
   ]
  },
  {
   "cell_type": "code",
   "execution_count": 10,
   "metadata": {
    "collapsed": false,
    "jupyter": {
     "outputs_hidden": false
    },
    "pycharm": {
     "name": "#%%\n"
    }
   },
   "outputs": [
    {
     "data": {
      "text/plain": [
       "[10, 421, 1, 62]"
      ]
     },
     "execution_count": 10,
     "metadata": {},
     "output_type": "execute_result"
    }
   ],
   "source": [
    "txt = \"I liked the story!\"\n",
    "\n",
    "toks = tokenizer.texts_to_sequences([txt])[0]\n",
    "\n",
    "toks"
   ]
  },
  {
   "cell_type": "markdown",
   "metadata": {
    "pycharm": {
     "name": "#%% md\n"
    }
   },
   "source": [
    "We can invert the map to recover the canonicalized words the token ids represent."
   ]
  },
  {
   "cell_type": "code",
   "execution_count": 11,
   "metadata": {
    "collapsed": false,
    "jupyter": {
     "outputs_hidden": false
    },
    "pycharm": {
     "name": "#%%\n"
    }
   },
   "outputs": [
    {
     "data": {
      "text/plain": [
       "['i', 'liked', 'the', 'story']"
      ]
     },
     "execution_count": 11,
     "metadata": {},
     "output_type": "execute_result"
    }
   ],
   "source": [
    "[tokenizer.index_word[t] for t in toks]"
   ]
  },
  {
   "cell_type": "markdown",
   "metadata": {
    "pycharm": {
     "name": "#%% md\n"
    }
   },
   "source": [
    "With that in had, let's look at the procedure applied to our training data."
   ]
  },
  {
   "cell_type": "code",
   "execution_count": 12,
   "metadata": {
    "collapsed": false,
    "jupyter": {
     "outputs_hidden": false
    },
    "pycharm": {
     "name": "#%%\n"
    }
   },
   "outputs": [
    {
     "data": {
      "text/plain": [
       "['Its not the cast. A finer group of actors, you could not find. Its not',\n",
       " 'the setting. The director is in love with New York City, and by the',\n",
       " 'end of the film, so are we all! Woody Allen could not improve upon',\n",
       " 'what Bogdonovich has done here. If you are going to fall in love, or',\n",
       " 'find love, Manhattan is the place to go. No, the problem with the',\n",
       " 'movie is the script. There is none. The actors fall in love at first',\n",
       " \"sight, words are unnecessary. In the director's own experience in\",\n",
       " 'Hollywood that is what happens when they go to work on the set. It is',\n",
       " 'reality to him, and his peers, but it is a fantasy to most of us in',\n",
       " 'the real world. So, in the end, the movie is hollow, and shallow, and',\n",
       " 'message-less.']"
      ]
     },
     "execution_count": 12,
     "metadata": {},
     "output_type": "execute_result"
    }
   ],
   "source": [
    "# a data item\n",
    "train_example_id = 13\n",
    "textwrap.wrap(\n",
    "    train_data.data[train_example_id])"
   ]
  },
  {
   "cell_type": "code",
   "execution_count": 13,
   "metadata": {
    "collapsed": false,
    "jupyter": {
     "outputs_hidden": false
    },
    "pycharm": {
     "name": "#%%\n"
    }
   },
   "outputs": [
    {
     "data": {
      "text/plain": [
       "0"
      ]
     },
     "execution_count": 13,
     "metadata": {},
     "output_type": "execute_result"
    }
   ],
   "source": [
    "# the sentiment, 1 is positive, 0 is negative\n",
    "train_data.target[train_example_id]"
   ]
  },
  {
   "cell_type": "code",
   "execution_count": 14,
   "metadata": {},
   "outputs": [
    {
     "data": {
      "text/plain": [
       "array([[  91,   21,    1,  174,    3,  601,    4,  153,   22,   97,   21,\n",
       "         166,   91,   21,    1,  954,    1,  164,    6,    8,  116,   16,\n",
       "         159,  779,  540,    2,   31,    1,  127,    4,    1,   19,   35,\n",
       "          23,   72,   29, 2290, 1598,   97,   21, 4381,  722,   48,   45,\n",
       "         221,  130,   44,   22,   23,  167,    5,  804,    8,  116,   39,\n",
       "         166,  116, 3736,    6,    1,  270,    5,  137,   54,    1,  436,\n",
       "          16,    1,   17,    6,    1,  226,   47,    6,  597,    1,  153,\n",
       "         804,    8,  116,   30,   83, 1679,  712,   23, 1740,    8,    1,\n",
       "        2024,  202,  581,    8,  359,   12,    6,   48,  567,   51,   33,\n",
       "         137,    5,  154,   20,    1,  267,    9,    6,  632,    5,   87,\n",
       "           2,   24, 8174,   18,    9,    6,    3,  936,    5,   88,    4,\n",
       "         175,    8,    1,  144,  179,   35,    8,    1,  127,    1,   17,\n",
       "           6, 4078,    2, 2007,    2,  746,  326]])"
      ]
     },
     "execution_count": 14,
     "metadata": {},
     "output_type": "execute_result"
    }
   ],
   "source": [
    "example_toks = tokenizer.texts_to_sequences(\n",
    "    [train_data.data[train_example_id]])\n",
    "\n",
    "numpy.array(example_toks)"
   ]
  },
  {
   "cell_type": "code",
   "execution_count": 15,
   "metadata": {},
   "outputs": [
    {
     "data": {
      "text/plain": [
       "['its not the cast a group of actors you could not find its not the',\n",
       " 'setting the director is in love with new york city and by the end of',\n",
       " 'the film so are we all woody allen could not improve upon what has',\n",
       " 'done here if you are going to fall in love or find love manhattan is',\n",
       " 'the place to go no the problem with the movie is the script there is',\n",
       " 'none the actors fall in love at first sight words are unnecessary in',\n",
       " \"the director's own experience in hollywood that is what happens when\",\n",
       " 'they go to work on the set it is reality to him and his peers but it',\n",
       " 'is a fantasy to most of us in the real world so in the end the movie',\n",
       " 'is hollow and shallow and message less']"
      ]
     },
     "execution_count": 15,
     "metadata": {},
     "output_type": "execute_result"
    }
   ],
   "source": [
    "textwrap.wrap(\n",
    "    tokenizer.sequences_to_texts(example_toks)[0])"
   ]
  },
  {
   "cell_type": "markdown",
   "metadata": {
    "pycharm": {
     "name": "#%% md\n"
    }
   },
   "source": [
    "A *very* important point is: we *must* save and share the tokenizer used during model construction. All of the model is in terms of the arbitrary token coding scheme built during training. We can *not* re-fit the tokenizer on new data, as that gives a different codebook that looks like gibberish with respect to the model. Also we need to transport code and data artifacts such as the GloVe embedding data, which we didn't produce, and the GloVe adaptor. Code can be stereotyped to a few re-usable pre-supplied themes (so one does not have to support arbitrary code execution), data is going to always be unique.\n",
    "\n",
    "An example of what goes wrong when we think we can re-fit is shown below."
   ]
  },
  {
   "cell_type": "code",
   "execution_count": 16,
   "metadata": {
    "collapsed": false,
    "jupyter": {
     "outputs_hidden": false
    },
    "pycharm": {
     "name": "#%%\n"
    }
   },
   "outputs": [],
   "source": [
    "# fit a new tokenizer on a new data set (bad!)\n",
    "tokenizer_2 = keras.preprocessing.text.Tokenizer(num_words=10000)\n",
    "tokenizer_2.fit_on_texts(test_data.data)"
   ]
  },
  {
   "cell_type": "code",
   "execution_count": 17,
   "metadata": {
    "collapsed": false,
    "jupyter": {
     "outputs_hidden": false
    },
    "pycharm": {
     "name": "#%%\n"
    }
   },
   "outputs": [
    {
     "data": {
      "text/plain": [
       "array([[  93,   22,    1,  179,    3,  496,    4,  151,   21,   98,   22,\n",
       "         164,   93,   22,    1,  944,    1,  167,    6,    8,  110,   16,\n",
       "         173,  988,  533,    2,   31,    1,  129,    4,    1,   19,   34,\n",
       "          23,   73,   30, 4617, 2932,   98,   22, 4429,  645,   48,   45,\n",
       "         217,  135,   40,   21,   23,  165,    5,  765,    8,  110,   38,\n",
       "         164,  110, 4541,    6,    1,  281,    5,  139,   54,    1,  459,\n",
       "          16,    1,   15,    6,    1,  230,   46,    6,  643,    1,  151,\n",
       "         765,    8,  110,   29,   88, 1691,  640,   23, 1942,    8,    1,\n",
       "        1720,  202,  534,    8,  375,   12,    6,   48,  537,   50,   33,\n",
       "         139,    5,  159,   20,    1,  275,   10,    6,  603,    5,   85,\n",
       "           2,   24, 7580,   18,   10,    6,    3, 1152,    5,   87,    4,\n",
       "         180,    8,    1,  144,  183,   34,    8,    1,  129,    1,   15,\n",
       "           6, 4767,    2, 2240,    2,  752,  361]])"
      ]
     },
     "execution_count": 17,
     "metadata": {},
     "output_type": "execute_result"
    }
   ],
   "source": [
    "# re-fit tokenizer assigns wrong symbols\n",
    "mis_tokens = tokenizer_2.texts_to_sequences(\n",
    "    [train_data.data[train_example_id]])\n",
    "\n",
    "numpy.array(mis_tokens)"
   ]
  },
  {
   "cell_type": "code",
   "execution_count": 18,
   "metadata": {
    "collapsed": false,
    "jupyter": {
     "outputs_hidden": false
    },
    "pycharm": {
     "name": "#%%\n"
    }
   },
   "outputs": [
    {
     "data": {
      "text/plain": [
       "['way you the world a side of old not any you director way you the mess',\n",
       " 'the going is in life with lot masterpiece thinking and by the man of',\n",
       " 'the film who are much at progresses alas any you nervous body what has',\n",
       " 'almost why just not are look to team in life her director life ballet',\n",
       " 'is the actor to something no the laugh with the for is the guy some is',\n",
       " 'started the old team in life all most began somewhat are sing in the',\n",
       " 'filmmaker own stories in stupid that is what obviously more they',\n",
       " 'something to new on the money i is simple to because and his insert',\n",
       " 'but i is a younger to him of things in the real seems who in the man',\n",
       " 'the for is capital and portrays and sequel low']"
      ]
     },
     "execution_count": 18,
     "metadata": {},
     "output_type": "execute_result"
    }
   ],
   "source": [
    "# this is the text we would think we are processing\n",
    "# if we re-fit the tokenizer\n",
    "# notice it is word salad,\n",
    "# we can't understand it and neither will our model\n",
    "textwrap.wrap(\n",
    "    tokenizer.sequences_to_texts(mis_tokens)[0]\n",
    ")"
   ]
  },
  {
   "cell_type": "markdown",
   "metadata": {
    "pycharm": {
     "name": "#%% md\n"
    }
   },
   "source": [
    "Often the data scientist attempts to improve model quality by trying different algorithms or even just different data.\n",
    "\n",
    "In this case we are trying the idea that smaller documents may have fewer irrelevant phrases to confuse the model. The hope is that such a model is better, and in fact better on all documents- not just small ones.\n",
    "\n",
    "In our case the idea fails, all the texts work better than just the small ones. However, the data scientist usually tries *many* ideas and does come up with some subtle improvements."
   ]
  },
  {
   "cell_type": "code",
   "execution_count": 19,
   "metadata": {
    "collapsed": false,
    "jupyter": {
     "outputs_hidden": false
    },
    "pycharm": {
     "name": "#%%\n"
    }
   },
   "outputs": [],
   "source": [
    "# build a simple determination of big versus small texts\n",
    "text_lens = [len(t) for t in train_data.data]\n",
    "mid_text_len = numpy.median(text_lens)\n",
    "is_big = numpy.array([len(t) > mid_text_len for t in train_data.data])\n"
   ]
  },
  {
   "cell_type": "code",
   "execution_count": 20,
   "metadata": {
    "collapsed": false,
    "jupyter": {
     "outputs_hidden": false
    },
    "pycharm": {
     "name": "#%%\n"
    }
   },
   "outputs": [
    {
     "name": "stdout",
     "output_type": "stream",
     "text": [
      "Model: \"sequential\"\n",
      "_________________________________________________________________\n",
      "Layer (type)                 Output Shape              Param #   \n",
      "=================================================================\n",
      "dense (Dense)                (None, 1)                 901       \n",
      "=================================================================\n",
      "Total params: 901\n",
      "Trainable params: 901\n",
      "Non-trainable params: 0\n",
      "_________________________________________________________________\n"
     ]
    },
    {
     "name": "stderr",
     "output_type": "stream",
     "text": [
      "2022-03-09 13:14:55.960540: I tensorflow/core/platform/cpu_feature_guard.cc:142] This TensorFlow binary is optimized with oneAPI Deep Neural Network Library (oneDNN) to use the following CPU instructions in performance-critical operations:  AVX2 FMA\n",
      "To enable them in other operations, rebuild TensorFlow with the appropriate compiler flags.\n"
     ]
    }
   ],
   "source": [
    "# build our neural net factory\n",
    "# this one implements a logistic regression.\n",
    "\n",
    "# get our data shape from using the encoder\n",
    "# so we don't have the brittleness of hard-coding.\n",
    "encode_dim = encoder.encode_text(\"this is an example text\", k=k).shape[0]\n",
    "\n",
    "def mk_model():\n",
    "    \"\"\"\n",
    "    This is a simple logistic model.\n",
    "    A more complicated neural net is often specified for text tasks.\n",
    "    \"\"\"\n",
    "    logistic_model = Sequential()\n",
    "    logistic_model.add(Input(shape=(encode_dim, )))\n",
    "    logistic_model.add(Dense(1, activation='sigmoid'))\n",
    "    logistic_model.compile(\n",
    "        optimizer='rmsprop',\n",
    "        loss='binary_crossentropy',\n",
    "        metrics=['acc'])\n",
    "    return logistic_model\n",
    "\n",
    "logistic_model = mk_model()\n",
    "logistic_model.summary()"
   ]
  },
  {
   "cell_type": "code",
   "execution_count": 21,
   "metadata": {
    "collapsed": false,
    "jupyter": {
     "outputs_hidden": false
    },
    "pycharm": {
     "name": "#%%\n"
    }
   },
   "outputs": [],
   "source": [
    "# util fn to subset data\n",
    "def select_from_list_like(items, selector):\n",
    "    return [item for item, sel in zip(items, selector) if sel]\n"
   ]
  },
  {
   "cell_type": "code",
   "execution_count": 22,
   "metadata": {
    "collapsed": false,
    "jupyter": {
     "outputs_hidden": false
    },
    "pycharm": {
     "name": "#%%\n"
    }
   },
   "outputs": [],
   "source": [
    "# training hyper-parameters\n",
    "# often searching, on simulated out of sample data,\n",
    "# for good values of these can impove model quality.\n",
    "epochs = 200\n",
    "batch_size = 512\n",
    "validation_split = 0.2"
   ]
  },
  {
   "cell_type": "code",
   "execution_count": 23,
   "metadata": {
    "collapsed": false,
    "pycharm": {
     "name": "#%%\n"
    }
   },
   "outputs": [],
   "source": [
    "# shuffle rows of training data in case neural net batching takes in ordered chunks\n",
    "permutation = numpy.random.choice(len(train_data.data), size=len(train_data.data), replace=False)\n",
    "train_data_shuffled = [train_data.data[i] for i in permutation]\n",
    "train_target_shuffled = [train_data.target[i] for i in permutation]\n"
   ]
  },
  {
   "cell_type": "code",
   "execution_count": 24,
   "metadata": {
    "collapsed": false,
    "jupyter": {
     "outputs_hidden": false
    },
    "pycharm": {
     "name": "#%%\n"
    }
   },
   "outputs": [
    {
     "name": "stderr",
     "output_type": "stream",
     "text": [
      "2022-03-09 13:15:34.577834: I tensorflow/compiler/mlir/mlir_graph_optimization_pass.cc:185] None of the MLIR Optimization Passes are enabled (registered 2)\n"
     ]
    }
   ],
   "source": [
    "%%capture\n",
    "# do the training on our first model, all the data\n",
    "history_big = logistic_model.fit(\n",
    "    encoder.transform(train_data_shuffled),\n",
    "    numpy.asarray(train_target_shuffled),\n",
    "    epochs=epochs,\n",
    "    batch_size=batch_size,\n",
    "    validation_split=validation_split)"
   ]
  },
  {
   "cell_type": "code",
   "execution_count": 25,
   "metadata": {},
   "outputs": [],
   "source": [
    "trajectory = pandas.DataFrame(history_big.history)\n",
    "trajectory['epoch'] = range(trajectory.shape[0])\n",
    "\n",
    "trajectory_plot = trajectory.melt(\n",
    "    id_vars=['epoch'],\n",
    "    value_vars=['loss', 'val_loss'],\n",
    "    var_name='data set',\n",
    "    value_name='estimated loss',\n",
    ")"
   ]
  },
  {
   "cell_type": "code",
   "execution_count": 26,
   "metadata": {},
   "outputs": [
    {
     "data": {
      "text/plain": [
       "Text(0.5, 1.0, 'model loss as a function of epoch\\n(smaller better)')"
      ]
     },
     "execution_count": 26,
     "metadata": {},
     "output_type": "execute_result"
    },
    {
     "data": {
      "image/png": "[encoded data removed]",
      "text/plain": [
       "<Figure size 432x288 with 1 Axes>"
      ]
     },
     "metadata": {
      "needs_background": "light"
     },
     "output_type": "display_data"
    }
   ],
   "source": [
    "sns.lineplot(\n",
    "    data=trajectory_plot,\n",
    "    x='epoch',\n",
    "    y='estimated loss',\n",
    "    hue = 'data set',\n",
    ")\n",
    "plt.title(\"model loss as a function of epoch\\n(smaller better)\")"
   ]
  },
  {
   "cell_type": "code",
   "execution_count": 27,
   "metadata": {
    "collapsed": false,
    "jupyter": {
     "outputs_hidden": false
    },
    "pycharm": {
     "name": "#%%\n"
    }
   },
   "outputs": [],
   "source": [
    "# wrap the text processing plus model\n",
    "# as a single object implementing the model API\n",
    "model = make_pipeline(encoder, logistic_model)"
   ]
  },
  {
   "cell_type": "code",
   "execution_count": 28,
   "metadata": {},
   "outputs": [],
   "source": [
    "# get predictions on data not seen during training!\n",
    "pred_test = model.predict(test_data.data)"
   ]
  },
  {
   "cell_type": "markdown",
   "metadata": {
    "pycharm": {
     "name": "#%% md\n"
    }
   },
   "source": [
    "There are a *lot* of evaluation metrics. With more time, we teach which few to use and how to read and use them effectively."
   ]
  },
  {
   "cell_type": "code",
   "execution_count": 29,
   "metadata": {
    "collapsed": false,
    "jupyter": {
     "outputs_hidden": false
    },
    "pycharm": {
     "name": "#%%\n"
    }
   },
   "outputs": [],
   "source": [
    "# get the confusion matrix, a great evaluation tool\n",
    "eval_frame = pandas.DataFrame({\n",
    "    'truth': numpy.array(test_data.target, dtype=float),\n",
    "    'prediction': pred_test.reshape((pred_test.shape[0], )),\n",
    "})"
   ]
  },
  {
   "cell_type": "code",
   "execution_count": 30,
   "metadata": {
    "collapsed": false,
    "jupyter": {
     "outputs_hidden": false
    },
    "pycharm": {
     "name": "#%%\n"
    }
   },
   "outputs": [
    {
     "data": {
      "text/html": [
       "<div>\n",
       "<style scoped>\n",
       "    .dataframe tbody tr th:only-of-type {\n",
       "        vertical-align: middle;\n",
       "    }\n",
       "\n",
       "    .dataframe tbody tr th {\n",
       "        vertical-align: top;\n",
       "    }\n",
       "\n",
       "    .dataframe thead th {\n",
       "        text-align: right;\n",
       "    }\n",
       "</style>\n",
       "<table border=\"1\" class=\"dataframe\">\n",
       "  <thead>\n",
       "    <tr style=\"text-align: right;\">\n",
       "      <th></th>\n",
       "      <th>truth</th>\n",
       "      <th>prediction</th>\n",
       "    </tr>\n",
       "  </thead>\n",
       "  <tbody>\n",
       "    <tr>\n",
       "      <th>0</th>\n",
       "      <td>0.0</td>\n",
       "      <td>0.011903</td>\n",
       "    </tr>\n",
       "    <tr>\n",
       "      <th>1</th>\n",
       "      <td>0.0</td>\n",
       "      <td>0.112062</td>\n",
       "    </tr>\n",
       "    <tr>\n",
       "      <th>2</th>\n",
       "      <td>0.0</td>\n",
       "      <td>0.039322</td>\n",
       "    </tr>\n",
       "    <tr>\n",
       "      <th>3</th>\n",
       "      <td>0.0</td>\n",
       "      <td>0.186525</td>\n",
       "    </tr>\n",
       "    <tr>\n",
       "      <th>4</th>\n",
       "      <td>0.0</td>\n",
       "      <td>0.754606</td>\n",
       "    </tr>\n",
       "    <tr>\n",
       "      <th>...</th>\n",
       "      <td>...</td>\n",
       "      <td>...</td>\n",
       "    </tr>\n",
       "    <tr>\n",
       "      <th>24995</th>\n",
       "      <td>1.0</td>\n",
       "      <td>0.492533</td>\n",
       "    </tr>\n",
       "    <tr>\n",
       "      <th>24996</th>\n",
       "      <td>1.0</td>\n",
       "      <td>0.145020</td>\n",
       "    </tr>\n",
       "    <tr>\n",
       "      <th>24997</th>\n",
       "      <td>1.0</td>\n",
       "      <td>0.559764</td>\n",
       "    </tr>\n",
       "    <tr>\n",
       "      <th>24998</th>\n",
       "      <td>1.0</td>\n",
       "      <td>0.385674</td>\n",
       "    </tr>\n",
       "    <tr>\n",
       "      <th>24999</th>\n",
       "      <td>1.0</td>\n",
       "      <td>0.550677</td>\n",
       "    </tr>\n",
       "  </tbody>\n",
       "</table>\n",
       "<p>25000 rows × 2 columns</p>\n",
       "</div>"
      ],
      "text/plain": [
       "       truth  prediction\n",
       "0        0.0    0.011903\n",
       "1        0.0    0.112062\n",
       "2        0.0    0.039322\n",
       "3        0.0    0.186525\n",
       "4        0.0    0.754606\n",
       "...      ...         ...\n",
       "24995    1.0    0.492533\n",
       "24996    1.0    0.145020\n",
       "24997    1.0    0.559764\n",
       "24998    1.0    0.385674\n",
       "24999    1.0    0.550677\n",
       "\n",
       "[25000 rows x 2 columns]"
      ]
     },
     "execution_count": 30,
     "metadata": {},
     "output_type": "execute_result"
    }
   ],
   "source": [
    "eval_frame"
   ]
  },
  {
   "cell_type": "code",
   "execution_count": 31,
   "metadata": {
    "collapsed": false,
    "jupyter": {
     "outputs_hidden": false
    },
    "pycharm": {
     "name": "#%%\n"
    }
   },
   "outputs": [
    {
     "data": {
      "text/plain": [
       "truth         float64\n",
       "prediction    float32\n",
       "dtype: object"
      ]
     },
     "execution_count": 31,
     "metadata": {},
     "output_type": "execute_result"
    }
   ],
   "source": [
    "eval_frame.dtypes"
   ]
  },
  {
   "cell_type": "code",
   "execution_count": 32,
   "metadata": {},
   "outputs": [
    {
     "data": {
      "text/plain": [
       "0.7056396029642242"
      ]
     },
     "execution_count": 32,
     "metadata": {},
     "output_type": "execute_result"
    }
   ],
   "source": [
    "wvpy.util.mean_deviance(\n",
    "    predictions=eval_frame['prediction'],\n",
    "    istrue=eval_frame['truth']\n",
    ")"
   ]
  },
  {
   "cell_type": "markdown",
   "metadata": {},
   "source": [
    "Note, it can be fairly hard for the data scientist to control exact scalar types. So tools must tolerate interchanging floats and doubles."
   ]
  },
  {
   "cell_type": "code",
   "execution_count": 33,
   "metadata": {},
   "outputs": [
    {
     "data": {
      "text/plain": [
       "<Figure size 432x288 with 0 Axes>"
      ]
     },
     "metadata": {},
     "output_type": "display_data"
    },
    {
     "data": {
      "image/png": "[encoded data removed]",
      "text/plain": [
       "<Figure size 432x288 with 1 Axes>"
      ]
     },
     "metadata": {
      "needs_background": "light"
     },
     "output_type": "display_data"
    },
    {
     "data": {
      "text/plain": [
       "0.9247119775999999"
      ]
     },
     "execution_count": 33,
     "metadata": {},
     "output_type": "execute_result"
    }
   ],
   "source": [
    "# evaluate the results\n",
    "wvpy.util.plot_roc(\n",
    "    eval_frame['prediction'],\n",
    "    eval_frame['truth'],\n",
    "    title='model on test')\n"
   ]
  },
  {
   "cell_type": "code",
   "execution_count": 34,
   "metadata": {
    "collapsed": false,
    "jupyter": {
     "outputs_hidden": false
    },
    "pycharm": {
     "name": "#%%\n"
    }
   },
   "outputs": [
    {
     "data": {
      "text/plain": [
       "<Figure size 432x288 with 0 Axes>"
      ]
     },
     "metadata": {},
     "output_type": "display_data"
    },
    {
     "data": {
      "image/png": "[encoded data removed]",
      "text/plain": [
       "<Figure size 864x576 with 2 Axes>"
      ]
     },
     "metadata": {
      "needs_background": "light"
     },
     "output_type": "display_data"
    }
   ],
   "source": [
    "# evaluate the results\n",
    "wvpy.util.dual_hist_plot(\n",
    "    eval_frame['prediction'],\n",
    "    eval_frame['truth'],\n",
    "    truth_target=1,\n",
    "    title='model on test')\n"
   ]
  },
  {
   "cell_type": "code",
   "execution_count": 35,
   "metadata": {
    "collapsed": false,
    "jupyter": {
     "outputs_hidden": false
    },
    "pycharm": {
     "name": "#%%\n"
    }
   },
   "outputs": [
    {
     "data": {
      "text/html": [
       "<div>\n",
       "<style scoped>\n",
       "    .dataframe tbody tr th:only-of-type {\n",
       "        vertical-align: middle;\n",
       "    }\n",
       "\n",
       "    .dataframe tbody tr th {\n",
       "        vertical-align: top;\n",
       "    }\n",
       "\n",
       "    .dataframe thead th {\n",
       "        text-align: right;\n",
       "    }\n",
       "</style>\n",
       "<table border=\"1\" class=\"dataframe\">\n",
       "  <thead>\n",
       "    <tr style=\"text-align: right;\">\n",
       "      <th>prediction</th>\n",
       "      <th>False</th>\n",
       "      <th>True</th>\n",
       "    </tr>\n",
       "    <tr>\n",
       "      <th>truth</th>\n",
       "      <th></th>\n",
       "      <th></th>\n",
       "    </tr>\n",
       "  </thead>\n",
       "  <tbody>\n",
       "    <tr>\n",
       "      <th>False</th>\n",
       "      <td>10848</td>\n",
       "      <td>1652</td>\n",
       "    </tr>\n",
       "    <tr>\n",
       "      <th>True</th>\n",
       "      <td>2131</td>\n",
       "      <td>10369</td>\n",
       "    </tr>\n",
       "  </tbody>\n",
       "</table>\n",
       "</div>"
      ],
      "text/plain": [
       "prediction  False   True\n",
       "truth                   \n",
       "False       10848   1652\n",
       "True         2131  10369"
      ]
     },
     "execution_count": 35,
     "metadata": {},
     "output_type": "execute_result"
    }
   ],
   "source": [
    "confusion_matrix = pandas.crosstab(\n",
    "    eval_frame['truth'] > 0.5,\n",
    "    eval_frame['prediction'] > 0.5)\n",
    "\n",
    "confusion_matrix\n"
   ]
  },
  {
   "cell_type": "code",
   "execution_count": 36,
   "metadata": {},
   "outputs": [
    {
     "data": {
      "text/plain": [
       "0.84868"
      ]
     },
     "execution_count": 36,
     "metadata": {},
     "output_type": "execute_result"
    }
   ],
   "source": [
    "# quantify the accuracy\n",
    "# accuracy is often NOT the right metric to use!\n",
    "# but it is the most common one you hear about.\n",
    "# instead insist on 2 numbers:\n",
    "#  precision and recall\n",
    "#  or sensitivity and specificity\n",
    "accuracy = (\n",
    "        (confusion_matrix.iloc[0,0] + confusion_matrix.iloc[1,1]) /\n",
    "        numpy.sum(numpy.sum(confusion_matrix))\n",
    ")\n",
    "\n",
    "accuracy"
   ]
  },
  {
   "cell_type": "markdown",
   "metadata": {
    "pycharm": {
     "name": "#%% md\n"
    }
   },
   "source": [
    "We can try the model on our own text."
   ]
  },
  {
   "cell_type": "code",
   "execution_count": 37,
   "metadata": {
    "collapsed": false,
    "jupyter": {
     "outputs_hidden": false
    },
    "pycharm": {
     "name": "#%%\n"
    }
   },
   "outputs": [
    {
     "data": {
      "text/plain": [
       "array([[0.57515925]], dtype=float32)"
      ]
     },
     "execution_count": 37,
     "metadata": {},
     "output_type": "execute_result"
    }
   ],
   "source": [
    "model.predict([\n",
    "\"\"\"\n",
    "To call The Princess Bride a classic is to understate it's significance. The Princess Bride is not only a great movie, it is above all else, a GOOD movie.\n",
    "\"\"\"\n",
    "])"
   ]
  },
  {
   "cell_type": "markdown",
   "metadata": {},
   "source": [
    "We can save the whole process for later re-use."
   ]
  },
  {
   "cell_type": "code",
   "execution_count": 38,
   "metadata": {
    "collapsed": false,
    "jupyter": {
     "outputs_hidden": false
    },
    "pycharm": {
     "name": "#%%\n"
    }
   },
   "outputs": [],
   "source": [
    "# save model components\n",
    "# Keras models are not pickleab until very recent versions\n",
    "logistic_model.save(\"model_keras_step.keras\")\n",
    "with gzip.open('model_encoder_step.pkl.gz', 'wb') as of:\n",
    "    pickle.dump(\n",
    "        obj=encoder,\n",
    "        file=of\n",
    "    )\n"
   ]
  },
  {
   "cell_type": "markdown",
   "metadata": {
    "pycharm": {
     "name": "#%% md\n"
    }
   },
   "source": [
    "We repeat these steps for our alternating \"train only on small documents\" idea."
   ]
  },
  {
   "cell_type": "code",
   "execution_count": 39,
   "metadata": {
    "collapsed": false,
    "jupyter": {
     "outputs_hidden": false
    },
    "pycharm": {
     "name": "#%%\n"
    }
   },
   "outputs": [],
   "source": [
    "# make another model trained only on small texts\n",
    "# perhaps these have fewer irrelevant words and make a\n",
    "# better or different model\n",
    "logistic_model_small = mk_model()"
   ]
  },
  {
   "cell_type": "code",
   "execution_count": 40,
   "metadata": {
    "collapsed": false,
    "jupyter": {
     "outputs_hidden": false
    },
    "pycharm": {
     "name": "#%%\n"
    }
   },
   "outputs": [],
   "source": [
    "%%capture\n",
    "history_small = logistic_model_small.fit(\n",
    "    encoder.transform(select_from_list_like(train_data.data, is_big == False)),\n",
    "    numpy.asarray(select_from_list_like(train_data.target, is_big == False)),\n",
    "    epochs=epochs,\n",
    "    batch_size=batch_size,\n",
    "    validation_split=validation_split)"
   ]
  },
  {
   "cell_type": "code",
   "execution_count": 41,
   "metadata": {
    "collapsed": false,
    "jupyter": {
     "outputs_hidden": false
    },
    "pycharm": {
     "name": "#%%\n"
    }
   },
   "outputs": [],
   "source": [
    "model_small = make_pipeline(encoder, logistic_model_small)"
   ]
  },
  {
   "cell_type": "code",
   "execution_count": 42,
   "metadata": {
    "collapsed": false,
    "jupyter": {
     "outputs_hidden": false
    },
    "pycharm": {
     "name": "#%%\n"
    }
   },
   "outputs": [],
   "source": [
    "pred_test_small = model_small.predict(test_data.data)"
   ]
  },
  {
   "cell_type": "code",
   "execution_count": 43,
   "metadata": {
    "collapsed": false,
    "jupyter": {
     "outputs_hidden": false
    },
    "pycharm": {
     "name": "#%%\n"
    }
   },
   "outputs": [],
   "source": [
    "eval_frame_small = pandas.DataFrame({\n",
    "    'truth': numpy.array(test_data.target, dtype=float),\n",
    "    'prediction': pred_test_small.reshape((pred_test_small.shape[0], )),\n",
    "})"
   ]
  },
  {
   "cell_type": "code",
   "execution_count": 44,
   "metadata": {
    "collapsed": false,
    "jupyter": {
     "outputs_hidden": false
    },
    "pycharm": {
     "name": "#%%\n"
    }
   },
   "outputs": [
    {
     "data": {
      "text/plain": [
       "<Figure size 432x288 with 0 Axes>"
      ]
     },
     "metadata": {},
     "output_type": "display_data"
    },
    {
     "data": {
      "image/png": "[encoded data removed]",
      "text/plain": [
       "<Figure size 432x288 with 1 Axes>"
      ]
     },
     "metadata": {
      "needs_background": "light"
     },
     "output_type": "display_data"
    },
    {
     "data": {
      "text/plain": [
       "0.9200158336"
      ]
     },
     "execution_count": 44,
     "metadata": {},
     "output_type": "execute_result"
    }
   ],
   "source": [
    "wvpy.util.plot_roc(\n",
    "    eval_frame_small['prediction'],\n",
    "    eval_frame_small['truth'],\n",
    "    title='small model on test')"
   ]
  },
  {
   "cell_type": "markdown",
   "metadata": {
    "pycharm": {
     "name": "#%% md\n"
    }
   },
   "source": [
    "Notice we have not improved things. Training on all the data was a bit better than training on a subset. However, if were wanting to apply this model to Tweets (instead of full reviews)- we would probably try this idea again.\n"
   ]
  },
  {
   "cell_type": "markdown",
   "metadata": {
    "pycharm": {
     "name": "#%% md\n"
    }
   },
   "source": [
    "And that is an example of natural language processing (NLP) learning to perform sentiment analysis using the Keras neural net package.\n",
    "\n",
    "For more details one can dig into the included code in this diretory and the sibling data directories."
   ]
  },
  {
   "cell_type": "markdown",
   "metadata": {},
   "source": [
    "Copyright &copy; 2019-2022 Win-Vector LLC.  All rights reserved. [http://www.win-vector.com](http://www.win-vector.com)"
   ]
  }
 ],
 "metadata": {
  "kernelspec": {
   "display_name": "Python 3 (ipykernel)",
   "language": "python",
   "name": "python3"
  },
  "language_info": {
   "codemirror_mode": {
    "name": "ipython",
    "version": 3
   },
   "file_extension": ".py",
   "mimetype": "text/x-python",
   "name": "python",
   "nbconvert_exporter": "python",
   "pygments_lexer": "ipython3",
   "version": "3.9.7"
  }
 },
 "nbformat": 4,
 "nbformat_minor": 4
}
